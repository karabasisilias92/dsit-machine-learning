{
 "cells": [
  {
   "cell_type": "markdown",
   "metadata": {
    "id": "R6kYAu1b6oL8"
   },
   "source": [
    "# Machine Learning - DSIT UOA\n",
    "\n",
    "*** Assignment 1 ***\n",
    "\n",
    "<u>**Contributors:**</u> Christina Borovilou, Ilias Stylianos Karampasis, Anastasia Rempoulaki\n",
    "\n",
    "General comments regarding the below deliverables:\n",
    "\n",
    "- Each question can be run independently and all code regarding its solution has been grouped in a collapsible heading for better and easier observation. *Extensions for jupyter notebooks must be installed and then enabling of collapsible heading if you want to use this functionalilty. See more here: https://jupyter-contrib-nbextensions.readthedocs.io/en/latest/install.html*\n",
    "- We distributed the work for each problem. So although everyone in the team has knowledge of the solution for every individual question, we are going to observe diffent coding styles and perhaps level of details in commenting."
   ]
  },
  {
   "cell_type": "markdown",
   "metadata": {
    "heading_collapsed": true,
    "id": "vFfzGA3V6s6r"
   },
   "source": [
    "## Problem 1"
   ]
  },
  {
   "cell_type": "markdown",
   "metadata": {
    "heading_collapsed": true,
    "hidden": true,
    "id": "9eF3ETV56zNJ"
   },
   "source": [
    "### 1.1"
   ]
  },
  {
   "cell_type": "code",
   "execution_count": 13,
   "metadata": {
    "hidden": true,
    "id": "npHBwhZ--O6I"
   },
   "outputs": [],
   "source": [
    "# importing the required module \n",
    "import matplotlib.pyplot as plt \n",
    "import numpy as np\n",
    "import math"
   ]
  },
  {
   "cell_type": "markdown",
   "metadata": {
    "hidden": true,
    "id": "S70eopB4-O6K"
   },
   "source": [
    "Function to generate our **Input** & **\"Experimental\"** Results in arrays"
   ]
  },
  {
   "cell_type": "code",
   "execution_count": 14,
   "metadata": {
    "hidden": true,
    "id": "SWZFBet--O6K"
   },
   "outputs": [],
   "source": [
    "def y_actual_res(th0, th1, th2, th3, th5, r_step, r__start, r__end):\n",
    "\n",
    "    x = np.linspace(r_start, r_end, num= N)     #includes 2 in range [0,2]\n",
    "    noise = np.random.normal(mu,math.sqrt(variance), size=(20,)) \n",
    "    y = th5*x**5 + th3*x**3 + th2*x**2 + th1*x + th0 + noise\n",
    "    y_true = th5*x**5 + th3*x**3 + th2*x**2 + th1*x + th0\n",
    "\n",
    "    return(x, y, y_true)"
   ]
  },
  {
   "cell_type": "markdown",
   "metadata": {
    "hidden": true,
    "id": "Kh-xAfIl-O6L"
   },
   "source": [
    "Actual polynomial model parameters and Sample range"
   ]
  },
  {
   "cell_type": "code",
   "execution_count": 15,
   "metadata": {
    "hidden": true,
    "id": "lUtGRd---O6M"
   },
   "outputs": [],
   "source": [
    "th0 = 0.2\n",
    "th1 = -1\n",
    "th2 = 0.9\n",
    "th3 = 0.7\n",
    "th5 = -0.2\n",
    "\n",
    "mu, variance = 0, 0.1 # mean and standard deviation\n",
    "noise = np.random.normal(mu,math.sqrt(variance), [20,])\n",
    "\n",
    "#data range\n",
    "r_start = 0\n",
    "r_end = 2\n",
    "N  = 20\n",
    "step = (r_end - r_start) / N\n"
   ]
  },
  {
   "cell_type": "markdown",
   "metadata": {
    "hidden": true,
    "id": "WEq45KZu-O6N"
   },
   "source": [
    "Using the function **y_actual_res** "
   ]
  },
  {
   "cell_type": "code",
   "execution_count": 16,
   "metadata": {
    "hidden": true,
    "id": "UJI6Y_P8-O6O"
   },
   "outputs": [],
   "source": [
    "x, y, y_true = y_actual_res(th0, th1, th2, th3, th5, step, r_start, r_end)"
   ]
  },
  {
   "cell_type": "markdown",
   "metadata": {
    "hidden": true,
    "id": "GJ7KTyN5-O6O"
   },
   "source": [
    "Plotting the Experiments input"
   ]
  },
  {
   "cell_type": "code",
   "execution_count": 17,
   "metadata": {
    "colab": {
     "base_uri": "https://localhost:8080/",
     "height": 295
    },
    "hidden": true,
    "id": "oI7ILlVS-O6P",
    "outputId": "4b75b0fa-3661-4cfa-8148-d58cff07993f"
   },
   "outputs": [
    {
     "data": {
      "image/png": "[encoded data removed]",
      "text/plain": [
       "<Figure size 432x288 with 1 Axes>"
      ]
     },
     "metadata": {
      "needs_background": "light"
     },
     "output_type": "display_data"
    }
   ],
   "source": [
    "# plotting the points \n",
    "plt.plot(x, y, marker='o',linewidth=0, label = 'experiment input', ) \n",
    "\n",
    "# naming the x axis \n",
    "plt.xlabel('x - axis') \n",
    "# naming the y axis \n",
    "plt.ylabel('y - axis') \n",
    "\n",
    "# giving a title to my graph \n",
    "plt.title('Experiments Input') \n",
    "\n",
    "# function to show the plot \n",
    "plt.legend()\n",
    "plt.show() "
   ]
  },
  {
   "cell_type": "code",
   "execution_count": 18,
   "metadata": {
    "colab": {
     "base_uri": "https://localhost:8080/",
     "height": 268
    },
    "hidden": true,
    "id": "55b-0Agv6ypO",
    "outputId": "319d2835-5c66-430c-fd4c-bab29574198c"
   },
   "outputs": [
    {
     "data": {
      "image/png": "[encoded data removed]",
      "text/plain": [
       "<Figure size 432x288 with 1 Axes>"
      ]
     },
     "metadata": {
      "needs_background": "light"
     },
     "output_type": "display_data"
    }
   ],
   "source": [
    "poly_deg = 5\n",
    "\n",
    "Q_train = np.zeros(shape = (N,poly_deg+1))\n",
    "Q_train[:,0] = 1\n",
    "\n",
    "for i in range(1,poly_deg+1):\n",
    "    Q_train[:,i] = np.power(x,i).reshape((N,))\n",
    "\n",
    "\n",
    "#theta = ((X.T * X)^-1) * Χ.Τ * Υ\n",
    "theta = np.linalg.pinv(Q_train.T.dot(Q_train)).dot(Q_train.T).dot(y)\n",
    "\n",
    "\n",
    "plt.plot(x,Q_train.dot(theta), marker='o',linewidth=0, label='polynomial fit degree =' + str(poly_deg))\n",
    "plt.legend()\n",
    "plt.show()\n",
    "\n"
   ]
  },
  {
   "cell_type": "markdown",
   "metadata": {
    "hidden": true,
    "id": "-H28JNBq-O6U"
   },
   "source": [
    "Calculation of **MSE (Mean Square Error)** of y over the training set."
   ]
  },
  {
   "cell_type": "code",
   "execution_count": 19,
   "metadata": {
    "colab": {
     "base_uri": "https://localhost:8080/"
    },
    "hidden": true,
    "id": "5sqt1A4k-O6V",
    "outputId": "34906b6d-ebe0-4ff5-8110-7db9a4f2ab80"
   },
   "outputs": [
    {
     "name": "stdout",
     "output_type": "stream",
     "text": [
      "The Mean Square Error is:  0.0214835109349052\n"
     ]
    }
   ],
   "source": [
    "y_act = y_true\n",
    "y_pred = Q_train.dot(theta)\n",
    "summation = 0  #variable to store the summation of differences\n",
    "n = len(y_act) #finding total number of items in list\n",
    "for i in range(len(y_act)):  #looping through each element of the list\n",
    "    difference = y_act[i] - y_pred[i]  #finding the difference between observed and predicted value\n",
    "    squared_difference = pow(difference,2)  #taking square of the differene \n",
    "    summation = summation + squared_difference  #taking a sum of all the differences\n",
    "MSE = summation/n  #dividing summation by total values to obtain average\n",
    "print (\"The Mean Square Error is: \" , MSE)"
   ]
  },
  {
   "cell_type": "markdown",
   "metadata": {
    "heading_collapsed": true,
    "hidden": true,
    "id": "eVK4H5hJ68KF"
   },
   "source": [
    "### 1.2"
   ]
  },
  {
   "cell_type": "code",
   "execution_count": 9,
   "metadata": {
    "hidden": true,
    "id": "LNThXp-76fOr"
   },
   "outputs": [],
   "source": [
    "#  Problem 1 - ii - Least Squares Regression\n",
    "\n",
    "# importing the required modules \n",
    "import matplotlib.pyplot as plt \n",
    "import numpy as np\n",
    "import math"
   ]
  },
  {
   "cell_type": "markdown",
   "metadata": {
    "hidden": true,
    "id": "p9wlShJ_r5ly"
   },
   "source": [
    "Below you can see a function to acquire the **y train data** for a <u>N size input vector</u> from a given $5^{th}$ degree polynomial with *random i.i.d. noise samples* originating from a Gaussian distribution added for each point."
   ]
  },
  {
   "cell_type": "code",
   "execution_count": 10,
   "metadata": {
    "hidden": true,
    "id": "0zcnYEC5sC6f"
   },
   "outputs": [],
   "source": [
    "def get_y_train(t0, t1, t2, t3, t4, t5, mean, variance, N, x_input):\n",
    "\n",
    "    noise = np.random.normal(mean,math.sqrt(variance), size=(N,)) # An N-size vector of random gaussian noise samples with mean value equal to \"mean\" variable and variance equal to \"variance\" variable\n",
    "    y = t5*x_input**5 + t4*x_input**4 + t3*x_input**3 + t2*x_input**2 + t1*x_input + t0 + noise # The N-size vector of our y_train data\n",
    "\n",
    "    return (y)"
   ]
  },
  {
   "cell_type": "markdown",
   "metadata": {
    "hidden": true,
    "id": "gIO4OxloyABR"
   },
   "source": [
    "Below you can see a function to acquire the **y estimates** given x and y train data, the degree of the polynomial model and the size of train data vectors."
   ]
  },
  {
   "cell_type": "code",
   "execution_count": 11,
   "metadata": {
    "hidden": true,
    "id": "LYsz3gF_yAvV"
   },
   "outputs": [],
   "source": [
    "def get_y_est(poly_deg, x_train, y_train, N):\n",
    "\n",
    "    Phi = np.zeros(shape = (N,poly_deg+1)) # initialize the Phi matrix with the correspondent dimensions as determined by theory\n",
    "    Phi[:, -1] = 1 # the last column (corrensponding to the fixed term of the polynomian) is set to have 1 as value for all rows\n",
    "\n",
    "    for i in range(0,poly_deg):\n",
    "        Phi[:,i] = np.power(x_train,i+1) # calculating the rest values for Phi matrix as powers of the x_train vector\n",
    "\n",
    "    # calculating the estimates for the thetas according to the theory type for Least Squared method for Generalized Linear Regression (white gaussian noise)\n",
    "    theta = np.linalg.pinv(Phi.T.dot(Phi)).dot(Phi.T).dot(y_train) \n",
    "    y_est = Phi.dot(theta) # calculating y estimates\n",
    "    return (y_est)"
   ]
  },
  {
   "cell_type": "markdown",
   "metadata": {
    "hidden": true,
    "id": "nziVxSr3Govx"
   },
   "source": [
    "The below function calculates the **mean** and **variance** for each point for *exp_num experiments* (noise in train data is variable) and then **plots them along with the curve corresponding to the true model**."
   ]
  },
  {
   "cell_type": "code",
   "execution_count": 20,
   "metadata": {
    "hidden": true,
    "id": "zQUKeq27GsI9"
   },
   "outputs": [],
   "source": [
    "def plot_pol_est_result(pol_deg, N, x_t, exp_num, t0, t1, t2, t3, t4, t5, mean, variance):\n",
    "    experiments = [] # list gathering the results for each experiment\n",
    "    for i in range(0,exp_num):\n",
    "        y_train = get_y_train(t0, t1, t2, t3, t4, t5, mean, variance, N, x_t) # acquire train data for each experiment\n",
    "\n",
    "        experiments.append(get_y_est(pol_deg, x_t, y_train, N)) # append estimates for experiment\n",
    "\n",
    "    ##### Expected Value calculation\n",
    "    E_Y = np.zeros(N)\n",
    "    for i in range(0, exp_num):\n",
    "        E_Y = E_Y + experiments[i]\n",
    "\n",
    "    E_Y = E_Y / exp_num\n",
    "\n",
    "    print('Results for polynomial of degree: ', pol_deg, '\\n')\n",
    "    print('Mean values: \\n')\n",
    "    print(E_Y)\n",
    "    print('\\n')\n",
    "\n",
    "    ##### Variance calculation \n",
    "    var_Y = np.zeros(N)\n",
    "    for i in range(0, exp_num):\n",
    "        var_Y = var_Y + (experiments[i] - E_Y)**2\n",
    "\n",
    "    var_Y = var_Y / exp_num\n",
    "\n",
    "    print('Variance values: \\n')\n",
    "    print(var_Y)\n",
    "    print('\\n')\n",
    "\n",
    "    #### True model calculation\n",
    "    x_true = np.linspace(0, 2, 100) # to simulate continuity we increase the number of points\n",
    "    y_true = t5*x_true**5 + t3*x_true**3 + t2*x_true**2 + t1*x_true + t0 # true model has no noise added\n",
    "\n",
    "    plt.plot(x_true, y_true, '-g', label= 'true_model')\n",
    "\n",
    "    plt.errorbar(x_t, E_Y, marker='o', markersize='2', linewidth=0, yerr= var_Y, elinewidth = 1, capsize = 5, label='polynomial LS regression degree: ' + str(pol_deg))\n",
    "\n",
    "    # naming the x axis \n",
    "    plt.xlabel('x - axis') \n",
    "    # naming the y axis \n",
    "    plt.ylabel('y - axis') \n",
    "\n",
    "    # giving a title to my graph \n",
    "    plt.title('True model vs Polynomial Least Squares Regression') \n",
    "\n",
    "    # function to show the plot \n",
    "    plt.legend(bbox_to_anchor=(1.05, 1), loc='upper left', borderaxespad=0.)\n",
    "\n",
    "    plt.show()"
   ]
  },
  {
   "cell_type": "markdown",
   "metadata": {
    "hidden": true,
    "id": "vy1IKLRVRzl6"
   },
   "source": [
    "Below we utilize the above defined fucntions to run the experiments **at first for a $2^{nd}$ degree** polynomial and **then for a $10^{th}$ degree** one."
   ]
  },
  {
   "cell_type": "code",
   "execution_count": 21,
   "metadata": {
    "colab": {
     "base_uri": "https://localhost:8080/",
     "height": 1000
    },
    "hidden": true,
    "id": "c3CmGQWsRz6m",
    "outputId": "04e1c22a-e495-4129-bf55-e6d439ef76a2"
   },
   "outputs": [
    {
     "name": "stdout",
     "output_type": "stream",
     "text": [
      "Results for polynomial of degree:  2 \n",
      "\n",
      "Mean values: \n",
      "\n",
      "[-0.15136918 -0.06746876  0.01799705  0.10502822  0.19362477  0.28378669\n",
      "  0.37551399  0.46880666  0.56366471  0.66008813  0.75807692  0.85763109\n",
      "  0.95875063  1.06143554  1.16568583  1.2715015   1.37888254  1.48782895\n",
      "  1.59834073  1.71041789]\n",
      "\n",
      "\n",
      "Variance values: \n",
      "\n",
      "[0.03518854 0.02344888 0.01586219 0.01142394 0.00925449 0.00859908\n",
      " 0.00882781 0.00943567 0.01004252 0.01039309 0.01035699 0.00992871\n",
      " 0.0092276  0.00849789 0.00810871 0.00855403 0.01045272 0.0145485\n",
      " 0.02171    0.03293069]\n",
      "\n",
      "\n"
     ]
    },
    {
     "data": {
      "image/png": "[encoded data removed]",
      "text/plain": [
       "<Figure size 432x288 with 1 Axes>"
      ]
     },
     "metadata": {
      "needs_background": "light"
     },
     "output_type": "display_data"
    },
    {
     "name": "stdout",
     "output_type": "stream",
     "text": [
      "\n",
      "\n",
      "Results for polynomial of degree:  10 \n",
      "\n",
      "Mean values: \n",
      "\n",
      "[ 0.15506288  0.12921072  0.05481695 -0.00560903 -0.02531625  0.00240439\n",
      "  0.07509182  0.18732012  0.33339757  0.50795022  0.70550442  0.91964228\n",
      "  1.14174358  1.35899006  1.55143726  1.68879814  1.72937558  1.62657035\n",
      "  1.35282153  0.95695015]\n",
      "\n",
      "\n",
      "Variance values: \n",
      "\n",
      "[0.11364334 0.08878189 0.05376866 0.04870217 0.03764748 0.04322207\n",
      " 0.03803879 0.03038571 0.03879135 0.0396701  0.02911668 0.02845046\n",
      " 0.03103156 0.03240457 0.0450276  0.04757283 0.04468442 0.04989404\n",
      " 0.09338323 0.11712934]\n",
      "\n",
      "\n"
     ]
    },
    {
     "data": {
      "image/png": "[encoded data removed]",
      "text/plain": [
       "<Figure size 432x288 with 1 Axes>"
      ]
     },
     "metadata": {
      "needs_background": "light"
     },
     "output_type": "display_data"
    }
   ],
   "source": [
    "# polynomial factors of true model used in experiments\n",
    "th0 = 0.2\n",
    "th1 = -1\n",
    "th2 = 0.9\n",
    "th3 = 0.7\n",
    "th5 = -0.2\n",
    "\n",
    "# data range\n",
    "r_start, r_end = 0, 2\n",
    "# number of points\n",
    "points_number  = 20\n",
    "# number of experiments\n",
    "experiments_number = 100\n",
    "# mean, variance values for Gaussian noise\n",
    "noise_mean, noise_variance = 0, 0.1\n",
    "# take \"points_number\" equidistant points in [r_start, r_end]\n",
    "x_train = np.linspace(r_start, r_end, num= points_number)\n",
    "\n",
    "# run experiments for 2nd degree polynomial\n",
    "plot_pol_est_result(2, points_number, x_train, experiments_number, th0, th1, th2, th3, 0, th5, noise_mean, noise_variance)\n",
    "print('\\n')\n",
    "# run experiments for 10th degree polynomial\n",
    "plot_pol_est_result(10, points_number, x_train, experiments_number, th0, th1, th2, th3, 0, th5, noise_mean, noise_variance)"
   ]
  },
  {
   "cell_type": "markdown",
   "metadata": {
    "hidden": true,
    "id": "_avWvCInVbge"
   },
   "source": [
    "<u>**Conclusions:**</u>\n",
    "\n",
    "As expected, the **$2^{nd}$ degree** polynomial <u>does not produce a good estimate</u> of the true model which is of **$5^{th}$ degree**. On the other hand, the **$10^{th}$ degree** polynomial <u>fits much better (maybe even overfits)</u> the true model. However, we have to mention that **the variance** of y points is <u>much greater in the second case</u>.\n",
    "\n",
    "**This is justified by the bias-variance dilemma**: *For <u>a fixed number</u> of train points (in our case 20), as the complexity of the estimator is increased the bias becomes smaller, but the variance of the estimates become higher because there are more free parameters to estimate between changing train set*.\n",
    "\n",
    "So for the $2^{nd}$ degree polynomial we have high bias, but generally small variance and for the $10^{th}$ degree polynomial we succeed in minimizing bias, but with the cost of much higher variance for our estimates. **In order to avoid this and minimize both terms, we need to gradually and carefully increase the number of train points and the complexity of the model.**"
   ]
  },
  {
   "cell_type": "markdown",
   "metadata": {
    "heading_collapsed": true,
    "hidden": true,
    "id": "QV0LolO46_PV"
   },
   "source": [
    "### 1.3"
   ]
  },
  {
   "cell_type": "code",
   "execution_count": null,
   "metadata": {
    "hidden": true,
    "id": "IqDx-QiR7BQV"
   },
   "outputs": [],
   "source": []
  },
  {
   "cell_type": "markdown",
   "metadata": {
    "heading_collapsed": true,
    "hidden": true,
    "id": "A_kirO4W7AKE"
   },
   "source": [
    "### 1.4"
   ]
  },
  {
   "cell_type": "code",
   "execution_count": 22,
   "metadata": {
    "hidden": true,
    "id": "cw4yoiGF7E6b"
   },
   "outputs": [],
   "source": [
    "#  Assignment 1 - iv - Full Bayesian Regression (θο equal to true parameter vector)\n",
    "\n",
    "# importing the required module \n",
    "import matplotlib.pyplot as plt \n",
    "import numpy as np\n",
    "import random\n",
    "import math"
   ]
  },
  {
   "cell_type": "markdown",
   "metadata": {
    "hidden": true,
    "id": "EKiGX-u1-O6Z"
   },
   "source": [
    "We implement the function **get_y_train** in order to calculate the values of y."
   ]
  },
  {
   "cell_type": "code",
   "execution_count": 23,
   "metadata": {
    "hidden": true,
    "id": "mfdBVu4W-O6a"
   },
   "outputs": [],
   "source": [
    "def get_y_train(t0, t1, t2, t3, t4, t5, mu, variance, N, x):\n",
    "\n",
    "    noise = np.random.normal(mu,math.sqrt(variance), size=(N,))\n",
    "    y = t5*x**5 + t4*x**4 + t3*x**3 + t2*x**2 + t1*x + t0 + noise\n",
    "\n",
    "    return (y)"
   ]
  },
  {
   "cell_type": "markdown",
   "metadata": {
    "hidden": true,
    "id": "xwo2fczq-O6b"
   },
   "source": [
    "We use the true parameter vector as the mean $θ_{0}$. We also get 20 random test points in [0, 2] interval."
   ]
  },
  {
   "cell_type": "code",
   "execution_count": 25,
   "metadata": {
    "hidden": true,
    "id": "___poR6A-O6b"
   },
   "outputs": [],
   "source": [
    "th = [-1, 0.9, 0.7, 0, -0.2, 0.2]\n",
    "random.seed()\n",
    "x_random = np.array([])\n",
    "for i in range(0, 20):\n",
    "    x_random = np.append(x_random, [random.random()*2])"
   ]
  },
  {
   "cell_type": "markdown",
   "metadata": {
    "hidden": true,
    "id": "cC7gIguR-O6c"
   },
   "source": [
    "i) 1st case:\n",
    "   Ν = 20 , $σ_{η}^{2}$ = 0.05, $σ_{θ}^{2}$ = 0.1 "
   ]
  },
  {
   "cell_type": "markdown",
   "metadata": {
    "hidden": true,
    "id": "qIyx_8Nc-O6c"
   },
   "source": [
    "We assign the values which are necessary for this case on the variables sigma_h, N, sigma_theta."
   ]
  },
  {
   "cell_type": "code",
   "execution_count": 26,
   "metadata": {
    "hidden": true,
    "id": "ycoQxMHa-O6d"
   },
   "outputs": [],
   "source": [
    "sigma_h = 0.05\n",
    "N = 20\n",
    "sigma_theta = 0.1\n"
   ]
  },
  {
   "cell_type": "markdown",
   "metadata": {
    "hidden": true,
    "id": "ztbrih3d-O6d"
   },
   "source": [
    "The true model structure is used in order to construct the **matrix Phi**."
   ]
  },
  {
   "cell_type": "code",
   "execution_count": 27,
   "metadata": {
    "hidden": true,
    "id": "pVkfPPOU-O6d"
   },
   "outputs": [],
   "source": [
    "x_train = np.linspace(0, 2, num= N)\n",
    "y_train = get_y_train(th[5], th[0], th[1], th[2], th[3], th[4], 0, sigma_h, N, x_train)\n",
    "\n",
    "pol_degree = 5\n",
    "\n",
    "Phi = np.zeros(shape = (N,(pol_degree + 1))) # 6 = polynomial degree + 1\n",
    "Phi[:, -1] = 1\n",
    "\n",
    "phi_x_random = [] # this is going to be used for calculating y estimates for the random points\n",
    "for i in range(0,5):\n",
    "    phi_x_random.append(np.power(x_random,i+1)*th[i])\n",
    "    Phi[:,i] = np.power(x_train,i+1)*th[i]\n",
    "\n",
    "phi_x_random.append(np.array([1]*x_random.shape[0]))\n",
    "\n",
    "\n"
   ]
  },
  {
   "cell_type": "markdown",
   "metadata": {
    "hidden": true,
    "id": "zK0_nT5Q-O6e"
   },
   "source": [
    "We calculate the predicted values of y and we plot them corresponding to the input value x (blue points of the diagram)."
   ]
  },
  {
   "cell_type": "code",
   "execution_count": 28,
   "metadata": {
    "colab": {
     "base_uri": "https://localhost:8080/",
     "height": 295
    },
    "hidden": true,
    "id": "eadbTOLa-O6f",
    "outputId": "6828f9d3-3a55-4d3d-9444-c375681b6db4"
   },
   "outputs": [
    {
     "data": {
      "image/png": "[encoded data removed]",
      "text/plain": [
       "<Figure size 432x288 with 1 Axes>"
      ]
     },
     "metadata": {
      "needs_background": "light"
     },
     "output_type": "display_data"
    }
   ],
   "source": [
    "est_th_y = th + 1 / sigma_h * np.linalg.inv(1 / sigma_theta * np.eye(6) + 1 / sigma_h * Phi.T.dot(Phi)).dot(Phi.T).dot(y_train - Phi.dot(th))\n",
    "\n",
    "# print('μ_θ_y:')\n",
    "# print(est_th_y)\n",
    "# print('\\n')\n",
    "phi_x_random = np.array(phi_x_random)\n",
    "\n",
    "est_y = phi_x_random.T.dot(est_th_y)\n",
    "\n",
    "sigma_y = sigma_h + sigma_h * sigma_theta * phi_x_random.T.dot(np.linalg.inv(sigma_h * np.eye(6) + sigma_theta * Phi.T.dot(Phi))).dot(phi_x_random) # variance - covariance matrix\n",
    "y_var = sigma_y.diagonal()\n",
    "\n",
    "x_true = np.linspace(0, 2, 100)\n",
    "y_true = th[4]*x_true**5 + th[2]*x_true**3 + th[1]*x_true**2 + th[0]*x_true + th[5]\n",
    "\n",
    "plt.errorbar(x_random, est_y, marker= 'o', markersize=2, linewidth=0, yerr= y_var, elinewidth = 1, capsize = 5, label='bayes')\n",
    "plt.plot(x_true, y_true, '-g', linewidth=2, label= 'true_model')\n",
    "\n",
    "# naming the x axis \n",
    "plt.xlabel('x - axis') \n",
    "# naming the y axis \n",
    "plt.ylabel('y - axis') \n",
    "\n",
    "# giving a title to my graph \n",
    "plt.title('True Model vs Full Bayesian Inference Regression') \n",
    "\n",
    "# function to show the plot \n",
    "plt.legend(bbox_to_anchor=(1.05, 1), loc='upper left', borderaxespad=0.)\n",
    "plt.show()"
   ]
  },
  {
   "cell_type": "markdown",
   "metadata": {
    "hidden": true,
    "id": "SI72jcl6-O6g"
   },
   "source": [
    "ii) 2nd case:\n",
    "Ν = 20 , $σ_{η}^{2}$ = 0.05, $σ_{θ}^{2}$ = 0.1 "
   ]
  },
  {
   "cell_type": "markdown",
   "metadata": {
    "hidden": true,
    "id": "W7GmOSfx-O6g"
   },
   "source": [
    "We assign the values which are necessary for this case on the variables sigma_h, N, sigma_theta. The same random points are going to be used in order to extract useful and meaningful conclusions."
   ]
  },
  {
   "cell_type": "code",
   "execution_count": 29,
   "metadata": {
    "hidden": true,
    "id": "6jY0VQPB-O6h"
   },
   "outputs": [],
   "source": [
    "sigma_h = 0.15\n",
    "N = 20\n",
    "sigma_theta = 0.1"
   ]
  },
  {
   "cell_type": "markdown",
   "metadata": {
    "hidden": true,
    "id": "oumy-APe-O6i"
   },
   "source": [
    "The true model structure is used in order to construct the **matrix Phi**."
   ]
  },
  {
   "cell_type": "code",
   "execution_count": 30,
   "metadata": {
    "hidden": true,
    "id": "8CnHdv_s-O6j"
   },
   "outputs": [],
   "source": [
    "x_train = np.linspace(0, 2, num= N)\n",
    "y_train = get_y_train(th[5], th[0], th[1], th[2], th[3], th[4], 0, sigma_h, N, x_train)\n",
    "\n",
    "pol_degree = 5\n",
    "Phi = np.zeros(shape = (N,(pol_degree + 1))) # 6 = polynomial degree + 1\n",
    "Phi[:, -1] = 1\n",
    "\n",
    "phi_x_random = [] # in fact the calculation of phi_x_random could have been avoided, since the paremeters it's depending on did not change, but we recalculate it here for independence of experiments\n",
    "for i in range(0,5):\n",
    "    phi_x_random.append(np.power(x_random,i+1)*th[i])\n",
    "    Phi[:,i] = np.power(x_train,i+1)*th[i]\n",
    "\n",
    "phi_x_random.append(np.array([1]*x_random.shape[0]))"
   ]
  },
  {
   "cell_type": "markdown",
   "metadata": {
    "hidden": true,
    "id": "95e78sQmqqT4"
   },
   "source": [
    "We calculate the predicted values of y and we plot them corresponding to the input value x (blue points of the diagram)."
   ]
  },
  {
   "cell_type": "code",
   "execution_count": 31,
   "metadata": {
    "colab": {
     "base_uri": "https://localhost:8080/",
     "height": 295
    },
    "hidden": true,
    "id": "_x7nC4ax-O6m",
    "outputId": "b900ac0c-d5a7-447a-e69b-785f8a831c63"
   },
   "outputs": [
    {
     "data": {
      "image/png": "[encoded data removed]",
      "text/plain": [
       "<Figure size 432x288 with 1 Axes>"
      ]
     },
     "metadata": {
      "needs_background": "light"
     },
     "output_type": "display_data"
    }
   ],
   "source": [
    "est_th_y = th + 1 / sigma_h * np.linalg.inv(1 / sigma_theta * np.eye(6) + 1 / sigma_h * Phi.T.dot(Phi)).dot(Phi.T).dot(y_train - Phi.dot(th))\n",
    "\n",
    "# print('μ_θ_y:')\n",
    "# print(est_th_y)\n",
    "# print('\\n')\n",
    "phi_x_random = np.array(phi_x_random)\n",
    "\n",
    "est_y = phi_x_random.T.dot(est_th_y)\n",
    "\n",
    "# print('μ_y:')\n",
    "# print(est_y)\n",
    "# print('\\n')\n",
    "\n",
    "sigma_y = sigma_h + sigma_h * sigma_theta * phi_x_random.T.dot(np.linalg.inv(sigma_h * np.eye(6) + sigma_theta * Phi.T.dot(Phi))).dot(phi_x_random) # variance - covariance matrix\n",
    "y_var = sigma_y.diagonal()\n",
    "\n",
    "x_true = np.linspace(0, 2, 100)\n",
    "y_true = th[4]*x_true**5 + th[2]*x_true**3 + th[1]*x_true**2 + th[0]*x_true + th[5]\n",
    "\n",
    "plt.errorbar(x_random, est_y, marker= 'o', markersize=2, linewidth=0, yerr= y_var, elinewidth = 1, capsize = 5, label='bayes')\n",
    "plt.plot(x_true, y_true, '-g', linewidth=2, label= 'true_model')\n",
    "\n",
    "# naming the x axis \n",
    "plt.xlabel('x - axis') \n",
    "# naming the y axis \n",
    "plt.ylabel('y - axis') \n",
    "\n",
    "# giving a title to my graph \n",
    "plt.title('True Model vs Full Bayesian Inference Regression') \n",
    "\n",
    "# function to show the plot \n",
    "plt.legend(bbox_to_anchor=(1.05, 1), loc='upper left', borderaxespad=0.)\n",
    "plt.show()"
   ]
  },
  {
   "cell_type": "markdown",
   "metadata": {
    "hidden": true,
    "id": "SQEH2Mb3-O6n"
   },
   "source": [
    "As it is clear the value of N = 20 is large enough in order to have the best predictions. Moreover, we can observe that the larger the noise variance is, the larger the error bars (the variance of estimations/predictions) become."
   ]
  },
  {
   "cell_type": "markdown",
   "metadata": {
    "heading_collapsed": true,
    "hidden": true,
    "id": "p6cDFpTt7Hc1"
   },
   "source": [
    "### 1.5"
   ]
  },
  {
   "cell_type": "code",
   "execution_count": 32,
   "metadata": {
    "hidden": true,
    "id": "6tnFo3Je7HFH"
   },
   "outputs": [],
   "source": [
    "#  Problem 1 - v - Full Bayesian Regression (mean vector θο not equal to true parameter vector)\n",
    "\n",
    "# importing the required module \n",
    "import matplotlib.pyplot as plt \n",
    "import numpy as np\n",
    "import random\n",
    "import math"
   ]
  },
  {
   "cell_type": "markdown",
   "metadata": {
    "hidden": true,
    "id": "lyGVslqkqRaK"
   },
   "source": [
    "Below you can see a function to acquire the **y train data** for a <u>N size input vector</u> from a given $5^{th}$ degree polynomial with *random i.i.d. noise samples* originating from a Gaussian distribution added for each point."
   ]
  },
  {
   "cell_type": "code",
   "execution_count": 33,
   "metadata": {
    "hidden": true,
    "id": "jJUIpBSZqR-R"
   },
   "outputs": [],
   "source": [
    "def get_y_train(t0, t1, t2, t3, t4, t5, mu, variance, N, x):\n",
    "\n",
    "    noise = np.random.normal(mu,math.sqrt(variance), size=(N,)) # An N-size vector of random gaussian noise samples with mean value equal to \"mean\" variable and variance equal to \"variance\" variable\n",
    "    y = t5*x**5 + t4*x**4 + t3*x**3 + t2*x**2 + t1*x + t0 + noise # The N-size vector of our y_train data\n",
    "\n",
    "    return (y)"
   ]
  },
  {
   "cell_type": "markdown",
   "metadata": {
    "hidden": true,
    "id": "RQgmXrOaqj9-"
   },
   "source": [
    "Below you can see a function that **implements full bayesian inference** for *N training points* and with *variance sigma_theta for the Gaussian function of the prior*. The **mean vector $θ_{0}$** is <u>following the correct model as for the polynomial degree but with different values from the true model</u>. Finally a plot of the estimates and their errors for the points in the x_random vector is drawn."
   ]
  },
  {
   "cell_type": "code",
   "execution_count": 34,
   "metadata": {
    "hidden": true,
    "id": "M5RhkU9BqkPn"
   },
   "outputs": [],
   "source": [
    "def bayesian_inference(N, sigma_theta, x_random):\n",
    "\n",
    "    x_train = np.linspace(0, 2, num= N) # get N equidistant point in [0, 2] inverval\n",
    "    th = [-1, 0.9, 0.7, 0, -0.2, 0.2]  # true paremeter vector\n",
    "    theta_zero = np.array([-10.54, 0.465, 0.0087, 0, -0.093, -0.004]) # get the array from a list of values for mean θ0 vector\n",
    "    sigma_h = 0.05 # variance of the noise gaussian model\n",
    "\n",
    "    y_train = get_y_train(th[5], th[0], th[1], th[2], th[3], th[4], 0, sigma_h, N, x_train) # get the y train data for the given input and parameters\n",
    "\n",
    "    Phi = np.zeros(shape = (N,6)) # 6 = polynomial degree + 1\n",
    "    Phi[:, -1] = 1 # last column, all rows equal to 1 for the fixed term of θ_0\n",
    "\n",
    "    phi_x_random = [] # this is going to be used for calculating y estimates for the random points\n",
    "    for i in range(0,5):\n",
    "        phi_x_random.append(np.power(x_random,i+1)*theta_zero[i]) # φ(x) matrix calculation (actually φ(x) is a vector but here is a matrix because we compute its values for all points in x_random vector)\n",
    "        Phi[:,i] = np.power(x_train,i+1)*theta_zero[i] # Φ calculation\n",
    "\n",
    "    phi_x_random.append(np.array([1]*x_random.shape[0])) # append a vector of ones as last element, according to theory\n",
    "\n",
    "    est_th_y = theta_zero + 1 / sigma_h * np.linalg.inv(1 / sigma_theta * np.eye(6) + 1 / sigma_h * Phi.T.dot(Phi)).dot(Phi.T).dot(y_train - Phi.dot(theta_zero)) # calculation of estimates for θ vector for the given y train data\n",
    "\n",
    "    # print('μ_θ_y:')\n",
    "    # print(est_th_y)\n",
    "    # print('\\n')\n",
    "    phi_x_random = np.array(phi_x_random) # turn the list into an array\n",
    "\n",
    "    est_y = phi_x_random.T.dot(est_th_y) # calculation of the estimates of the model full bayesian inference produce, for the points in x_random vector\n",
    "\n",
    "    # print('μ_y:')\n",
    "    # print(est_y)\n",
    "    # print('\\n')\n",
    "\n",
    "    sigma_y = sigma_h + sigma_h * sigma_theta * phi_x_random.T.dot(np.linalg.inv(sigma_h * np.eye(6) + sigma_theta * Phi.T.dot(Phi))).dot(phi_x_random) # calculation of errors/variances for the estimates (variance - covariance matrix)\n",
    "    y_var = sigma_y.diagonal() # we keep only the elements of the diagonal of the covariance matrix which correspond to the variances we are interested in \n",
    "\n",
    "    #### True model calculation\n",
    "    x_true = np.linspace(0, 2, 100) # to simulate continuity we increase the number of points\n",
    "    y_true = th[4]*x_true**5 + th[2]*x_true**3 + th[1]*x_true**2 + th[0]*x_true + th[5] # true model has no noise added\n",
    "\n",
    "    plt.errorbar(x_random, est_y, marker= 'o', markersize=2, linewidth=0, yerr= y_var, elinewidth = 1, capsize = 5, label='full bayesian inference N: ' + str(N) + ', σ_θ: ' + str(sigma_theta))\n",
    "    plt.plot(x_true, y_true, '-g', linewidth=1, label= 'true_model')\n",
    "\n",
    "    # naming the x axis \n",
    "    plt.xlabel('x - axis') \n",
    "    # naming the y axis \n",
    "    plt.ylabel('y - axis') \n",
    "\n",
    "    # giving a title to my graph \n",
    "    plt.title('True Model vs Full Bayesian Inference Regression') \n",
    "\n",
    "    # function to show the plot \n",
    "    plt.legend(bbox_to_anchor=(1.05, 1), loc='upper left', borderaxespad=0.)\n",
    "    plt.show()"
   ]
  },
  {
   "cell_type": "markdown",
   "metadata": {
    "hidden": true,
    "id": "B24Tjzryqk19"
   },
   "source": [
    "We get **20 random points in [0, 2] interval** and use the same in each experiment for better and more meaningful comparisons and conclusions. Then we run the 4 seperate experiments."
   ]
  },
  {
   "cell_type": "code",
   "execution_count": 35,
   "metadata": {
    "colab": {
     "base_uri": "https://localhost:8080/",
     "height": 1000
    },
    "hidden": true,
    "id": "8qCPL9S4qlFn",
    "outputId": "edd6bba6-d0a5-4570-f7b9-37d028fb3c75"
   },
   "outputs": [
    {
     "data": {
      "image/png": "[encoded data removed]",
      "text/plain": [
       "<Figure size 432x288 with 1 Axes>"
      ]
     },
     "metadata": {
      "needs_background": "light"
     },
     "output_type": "display_data"
    },
    {
     "name": "stdout",
     "output_type": "stream",
     "text": [
      "\n",
      "\n"
     ]
    },
    {
     "data": {
      "image/png": "[encoded data removed]",
      "text/plain": [
       "<Figure size 432x288 with 1 Axes>"
      ]
     },
     "metadata": {
      "needs_background": "light"
     },
     "output_type": "display_data"
    },
    {
     "name": "stdout",
     "output_type": "stream",
     "text": [
      "\n",
      "\n"
     ]
    },
    {
     "data": {
      "image/png": "[encoded data removed]",
      "text/plain": [
       "<Figure size 432x288 with 1 Axes>"
      ]
     },
     "metadata": {
      "needs_background": "light"
     },
     "output_type": "display_data"
    },
    {
     "name": "stdout",
     "output_type": "stream",
     "text": [
      "\n",
      "\n"
     ]
    },
    {
     "data": {
      "image/png": "[encoded data removed]",
      "text/plain": [
       "<Figure size 432x288 with 1 Axes>"
      ]
     },
     "metadata": {
      "needs_background": "light"
     },
     "output_type": "display_data"
    }
   ],
   "source": [
    "random.seed()\n",
    "x_random = np.array([])\n",
    "for i in range(0, 20):\n",
    "    x_random = np.append(x_random, [random.random()*2]) # random.random() return random points in [0, 1] therefore we multiply with 2\n",
    "\n",
    "bayesian_inference(20, 0.1, x_random) # N = 20, sigma_theta = 0.1\n",
    "print('\\n')\n",
    "bayesian_inference(20, 2, x_random) # N = 20, sigma_theta = 2\n",
    "print('\\n')\n",
    "bayesian_inference(500, 0.1, x_random) # N = 500, sigma_theta = 0.1\n",
    "print('\\n')\n",
    "bayesian_inference(500, 2, x_random) # N = 500, sigma_theta = 2"
   ]
  },
  {
   "cell_type": "markdown",
   "metadata": {
    "hidden": true,
    "id": "E2IGhviSx9jE"
   },
   "source": [
    "<u>**Conclusions:**</u>\n",
    "\n",
    "*The results we get for the above 4 experiments were the expected ones according to theory.*\n",
    "\n",
    "The first safe comment that we can make is that <u>for a fixed number of points</u>, **as the variance (uncertainty) of the prior increases, we get better fit for**, <u>which is normal in our case</u>: we have adopted a model correct regarding the degree of the polynomial but **we are not certain about our initial estimates for $θ_{0}$** mean vector of the prior. Therefore **greater variance takes this into account and produces better predictions**.\n",
    "\n",
    "Furthermore, **our estimates approximate/fit better the true model curve as the N increases while keeping constant the variance of the prior**. This is also justified, since <u>more training points is natural to give better results for our prediction even with small variance of the prior</u>.\n",
    "\n",
    "In general as we **increase both the number of training points and the variance of the prior, we get better estimation of the true model**. <u>Also, we do not observe significant differences in the errors of the estimates</u>, although it seems to become a little smaller for greater N and slightly greater as $σ_{θ}$ increases (normal according to theory equation)."
   ]
  },
  {
   "cell_type": "markdown",
   "metadata": {
    "heading_collapsed": true,
    "hidden": true,
    "id": "g2Rb1qJ87JVk"
   },
   "source": [
    "### 1.6"
   ]
  },
  {
   "cell_type": "code",
   "execution_count": null,
   "metadata": {
    "hidden": true,
    "id": "iIt_GHU_7M4_"
   },
   "outputs": [],
   "source": []
  },
  {
   "cell_type": "markdown",
   "metadata": {
    "heading_collapsed": true,
    "id": "jyNBGEi57L9H"
   },
   "source": [
    "## Problem 2"
   ]
  },
  {
   "cell_type": "markdown",
   "metadata": {
    "hidden": true
   },
   "source": [
    "**ATTENTION!**\n",
    "\n",
    "<u>In order the code in below cells to work properly, the data set files should be in the same folder with the notebook, as we have provided them to you. Otherwise, you should change the path for the file read command.</u>"
   ]
  },
  {
   "cell_type": "markdown",
   "metadata": {
    "heading_collapsed": true,
    "hidden": true,
    "id": "rSWoM7Ko7buG"
   },
   "source": [
    "### 2.1"
   ]
  },
  {
   "cell_type": "code",
   "execution_count": null,
   "metadata": {
    "hidden": true,
    "id": "yfE-NJcD7egD"
   },
   "outputs": [],
   "source": []
  },
  {
   "cell_type": "markdown",
   "metadata": {
    "hidden": true,
    "id": "zXBUb6cS7ez_"
   },
   "source": [
    "### 2.2"
   ]
  },
  {
   "cell_type": "code",
   "execution_count": 36,
   "metadata": {
    "hidden": true
   },
   "outputs": [],
   "source": [
    "#  Problem 2 - ii - Probability Density Function calculation for different assumptions\n",
    "\n",
    "# importing the required modules\n",
    "\n",
    "import pandas as pd\n",
    "import numpy as np\n",
    "import math\n",
    "\n",
    "df = pd.read_csv('pima-indians-diabetes.data', delimiter=',', encoding='ISO-8859–1', names=['X1', 'X2', 'X3', 'X4', 'X5', 'X6', 'X7', 'X8', 'Y'])"
   ]
  },
  {
   "cell_type": "markdown",
   "metadata": {
    "heading_collapsed": true,
    "hidden": true,
    "id": "09d10p0R7xI8"
   },
   "source": [
    "#### 2.2.a"
   ]
  },
  {
   "cell_type": "code",
   "execution_count": null,
   "metadata": {
    "hidden": true,
    "id": "7oLKKkrn71KT"
   },
   "outputs": [],
   "source": []
  },
  {
   "cell_type": "markdown",
   "metadata": {
    "heading_collapsed": true,
    "hidden": true,
    "id": "bnonK-Uf72_n"
   },
   "source": [
    "#### 2.2.b"
   ]
  },
  {
   "cell_type": "markdown",
   "metadata": {
    "hidden": true
   },
   "source": [
    "**Assumption:** \"*Pdfs are gaussian, with non-diagonal covariance matrices. Means and covariance matrices of the pdfs are estimated using Maximum Likelihood from the available data.*\""
   ]
  },
  {
   "attachments": {
    "image.png": {
     "image/png": "[encoded data removed]"
    }
   },
   "cell_type": "markdown",
   "metadata": {
    "hidden": true
   },
   "source": [
    "In the next cell we calculate the mean and covariance matrix of the samples belonging in **diabetes class ('Y' = 1)** and then we use these values to calculate the estimation for the correspondent pdf, according to the below equation:\n",
    "\n",
    "![image.png](attachment:image.png)"
   ]
  },
  {
   "cell_type": "code",
   "execution_count": 40,
   "metadata": {
    "hidden": true,
    "id": "vGiXXVEY77d5"
   },
   "outputs": [
    {
     "name": "stdout",
     "output_type": "stream",
     "text": [
      "means matrix for diabetes class\n",
      "\n",
      "[  4.86567164 141.25746269  70.82462687  22.1641791  100.3358209\n",
      "  35.14253731   0.5505      37.06716418]\n",
      "\n",
      "\n",
      "covariance matrix for diabetes class\n",
      "\n",
      "[[ 1.39446425e+01 -6.49899755e+00  1.01704723e+01 -5.21675206e+00\n",
      "  -4.06116061e+01 -4.30622633e+00 -9.60335821e-02  1.81918579e+01]\n",
      " [-6.49899755e+00  1.01633297e+03  4.69817192e+01  2.11629539e+01\n",
      "   1.15345458e+03  1.16521079e+01  3.13677239e-01  3.44006182e+01]\n",
      " [ 1.01704723e+01  4.69817192e+01  4.60174468e+02  8.52675986e+01\n",
      "   2.65379789e+02  2.08309674e+01  2.75236940e-01  6.16908833e+01]\n",
      " [-5.21675206e+00  2.11629539e+01  8.52675986e+01  3.11405881e+02\n",
      "   1.11529561e+03  3.99210013e+01  1.79638806e+00 -1.77759523e+01]\n",
      " [-4.06116061e+01  1.15345458e+03  2.65379789e+02  1.11529561e+03\n",
      "   1.91629021e+04  5.53069837e+01  5.22539925e+00  3.62871464e+01]\n",
      " [-4.30622633e+00  1.16521079e+01  2.08309674e+01  3.99210013e+01\n",
      "   5.53069837e+01  5.25538622e+01  3.68475000e-01 -1.49215137e+01]\n",
      " [-9.60335821e-02  3.13677239e-01  2.75236940e-01  1.79638806e+00\n",
      "   5.22539925e+00  3.68475000e-01  1.38130519e-01 -3.58541045e-01]\n",
      " [ 1.81918579e+01  3.44006182e+01  6.16908833e+01 -1.77759523e+01\n",
      "   3.62871464e+01 -1.49215137e+01 -3.58541045e-01  1.19853698e+02]]\n",
      "\n",
      "\n",
      "pdf estimation for diabetes class\n",
      "\n",
      "[6.06876476e-13 7.96901775e-14 8.92955140e-18 1.51461076e-13\n",
      " 1.13591949e-15 5.89195804e-18 2.10635159e-13 3.34021714e-21\n",
      " 8.08851946e-13 8.05146442e-15 2.92160570e-13 6.07596098e-13\n",
      " 1.89621462e-12 1.36177191e-13 1.32613673e-13 4.90216768e-13\n",
      " 1.02950607e-12 9.76072906e-13 1.06022720e-12 4.55559286e-13\n",
      " 2.89186423e-13 7.20889554e-15 5.39867778e-14 6.48341775e-16\n",
      " 7.90238663e-13 2.61150534e-13 3.39148086e-13 1.60409781e-12\n",
      " 1.46447061e-12 2.29400790e-13 9.12894804e-13 2.27266270e-14\n",
      " 2.39821236e-15 1.74202713e-14 3.29662170e-14 6.69348671e-14\n",
      " 9.31473208e-14 6.94287513e-14 2.27666132e-13 4.64368293e-13\n",
      " 1.91742776e-14 1.45153713e-12 6.98111241e-14 1.67519853e-12\n",
      " 4.26977449e-14 2.37126532e-13 1.14415644e-15 8.84995220e-13\n",
      " 9.81984921e-16 1.55671854e-12 1.18931528e-13 1.21135373e-12\n",
      " 6.57184572e-13 4.46405865e-13 2.32073724e-14 8.02582611e-14\n",
      " 2.97409905e-15 2.09655524e-13 1.17718196e-12 6.01125178e-13\n",
      " 3.08456839e-12 4.63500092e-13 3.61322558e-17 3.69141462e-13\n",
      " 3.04687945e-13 6.86444318e-15 5.27011608e-14 3.85878789e-13\n",
      " 8.16505829e-13 1.43637864e-12 4.29816016e-18 1.16979626e-12\n",
      " 2.07983433e-13 6.82282302e-13 3.81291014e-13 1.60058851e-13\n",
      " 1.29677955e-13 3.34374719e-13 1.21010117e-12 6.99587117e-13\n",
      " 1.05897933e-13 8.65709787e-13 9.71370753e-14 9.56666796e-13\n",
      " 7.34011780e-15 3.23748792e-15 3.41124033e-13 9.14440597e-14\n",
      " 5.34025544e-14 2.20230424e-13 1.10385367e-12 1.43157720e-13\n",
      " 2.98302213e-13 3.65727406e-13 9.28115636e-14 5.60666734e-14\n",
      " 5.71281734e-15 4.64746615e-13 7.22377943e-14 1.33888527e-14\n",
      " 1.77701198e-12 4.66975353e-15 1.17917689e-14 5.97927861e-14\n",
      " 4.33797331e-13 6.09198692e-13 8.06861691e-13 9.36077834e-14\n",
      " 4.75477576e-13 9.64760463e-13 4.77339793e-13 5.39767035e-13\n",
      " 1.93969090e-13 5.60944182e-14 3.62828066e-15 1.29760179e-12\n",
      " 2.94995080e-15 6.39388779e-13 4.75297931e-14 1.46220850e-12\n",
      " 8.08214206e-13 4.84408892e-13 3.54337216e-13 3.16486720e-14\n",
      " 4.59670424e-13 3.91194991e-13 6.31918615e-14 2.04766394e-12\n",
      " 1.14668108e-13 2.27834007e-16 1.29277831e-12 8.54470932e-13\n",
      " 3.99894126e-13 9.23132562e-17 6.01775803e-13 5.90157591e-13\n",
      " 5.18740252e-17 4.26185944e-13 3.04855092e-13 7.76861610e-15\n",
      " 7.69990339e-13 2.70142158e-13 1.95870341e-17 4.70142571e-14\n",
      " 1.13920647e-13 2.14386921e-12 1.65927812e-13 2.39901260e-13\n",
      " 1.29846112e-13 6.57458361e-13 1.24406513e-13 8.55066648e-14\n",
      " 5.89037534e-13 1.22417665e-12 1.08114786e-12 8.97864601e-13\n",
      " 1.25011279e-14 6.48892438e-15 9.58769559e-13 1.10008783e-14\n",
      " 2.14335681e-12 6.30649859e-13 1.17467216e-12 5.24600824e-13\n",
      " 8.38153182e-13 1.76335919e-13 2.17802552e-15 5.45344911e-14\n",
      " 2.45482182e-13 2.07158238e-12 4.39229759e-20 4.08845944e-13\n",
      " 4.74546171e-13 1.03835482e-14 2.55500313e-13 6.53179145e-15\n",
      " 5.86409390e-13 1.00196976e-12 1.42172260e-15 4.96836374e-13\n",
      " 3.99100780e-13 4.06727488e-14 6.68639910e-17 4.62376494e-13\n",
      " 8.44846402e-14 1.60332574e-12 8.06191611e-13 1.03431261e-12\n",
      " 1.48445081e-14 6.97429415e-13 4.98555033e-13 1.98168827e-12\n",
      " 9.22419500e-14 5.25748306e-13 1.08918441e-13 4.32173030e-13\n",
      " 2.92397557e-13 7.62932702e-13 1.10735890e-13 1.32628961e-23\n",
      " 6.77396517e-14 1.46784218e-16 1.21494037e-12 1.58254980e-13\n",
      " 6.06414749e-14 1.05277109e-12 1.25060850e-13 3.29448045e-13\n",
      " 1.31077909e-12 3.05390472e-15 1.02813446e-13 2.11113446e-12\n",
      " 7.81511357e-13 9.94242700e-13 7.25241238e-14 7.56871055e-15\n",
      " 7.31630141e-13 1.00430151e-13 7.40525976e-13 9.38100567e-13\n",
      " 3.63307267e-13 3.43833319e-13 3.46829774e-13 2.46334737e-15\n",
      " 5.71309766e-14 5.52827189e-15 1.85634706e-13 9.54972849e-13\n",
      " 3.81548577e-13 5.52992959e-15 3.06181503e-13 1.97078736e-13\n",
      " 3.73164728e-13 6.37956328e-13 1.10785271e-13 7.11467260e-13\n",
      " 1.27359466e-13 5.51011347e-15 5.90143054e-13 1.12690491e-14\n",
      " 1.35746459e-12 5.82395062e-13 7.03360331e-14 1.82258499e-19\n",
      " 7.19657125e-13 6.02340022e-13 3.35017522e-13 8.63602961e-14\n",
      " 9.78278547e-13 2.98971325e-13 8.37106902e-13 1.75799880e-12\n",
      " 4.62241754e-14 5.04717768e-13 1.60776158e-13 3.06408335e-13\n",
      " 4.40325574e-13 9.48042846e-14 1.51704981e-12 4.50099646e-13\n",
      " 6.34147307e-14 5.71619045e-15 9.83447399e-13 6.13031614e-13\n",
      " 5.10815816e-14 1.43253694e-14 2.79239707e-13 3.16276969e-13]\n",
      "\n",
      "\n"
     ]
    }
   ],
   "source": [
    "mean_diabetes = np.array([])\n",
    "features = df.keys() # take the feature keys\n",
    "features = features.drop('Y') # drop key corresponding to the class value\n",
    "for key in features:\n",
    "    # calculate the mean for each feature by summing all values and dividing with their number\n",
    "    mean_diabetes = np.append(mean_diabetes, [df[key][df['Y'] == 1].sum()/len(df[key][df['Y'] == 1])])\n",
    "\n",
    "print('means matrix for diabetes class\\n')\n",
    "print(mean_diabetes)\n",
    "print('\\n')\n",
    "\n",
    "dimension = len(features) # dimensionality of the problem\n",
    "covariance_diabetes = np.zeros(shape=(dimension, dimension)) # covariance matrix initialization\n",
    "for i in range(0, dimension):\n",
    "    for j in range(0, dimension):\n",
    "        # calculate (co)variance for each element of the matrix, following the theory equation\n",
    "        buffer = (df[features[i]][df['Y'] == 1] - mean_diabetes[i])*(df[features[j]][df['Y'] == 1] - mean_diabetes[j])\n",
    "        covariance_diabetes[i][j] = buffer.sum()/len(buffer)\n",
    "\n",
    "print('covariance matrix for diabetes class\\n')\n",
    "print(covariance_diabetes)\n",
    "print('\\n')\n",
    "\n",
    "df_feat_only_diabetes = df.drop('Y', axis=1)[df['Y'] == 1] # get series without class feature, only for diabetes class\n",
    "features_array_diabetes = df_feat_only_diabetes.to_numpy() # turn series to an array\n",
    "\n",
    "# the below variables are just intermediate result for the pdf equation, in order to keep it readable\n",
    "buffer_array = features_array_diabetes-mean_diabetes\n",
    "deter_cov_diab = np.linalg.det(covariance_diabetes)\n",
    "cov_diab_inv = np.linalg.inv(covariance_diabetes)\n",
    "\n",
    "# apply the equation from theory to calculate the pdf estimates\n",
    "pdf_diabetes = (1 / ( (2*math.pi)**(dimension/2) * (deter_cov_diab**(1/2)))) * np.exp((-1/2)*(buffer_array.dot(cov_diab_inv)).dot(buffer_array.T))\n",
    "\n",
    "# because we introduce the whole matrix buffer_array in the equation and not point by point, we calculate more results,\n",
    "# most of them not having actual meaning. Only the diagonal values are the actual pdfs.\n",
    "# however we avoid using a for loop and use the matrix multiplication because it is optimized in python.\n",
    "pdf_diabetes = pdf_diabetes.diagonal()\n",
    "print('pdf estimation for diabetes class\\n')\n",
    "print(pdf_diabetes)\n",
    "print('\\n')"
   ]
  },
  {
   "cell_type": "markdown",
   "metadata": {
    "hidden": true
   },
   "source": [
    "In the next cell we calculate the mean and covariance matrix of the samples belonging in **non diabetes class ('Y' = 0)** and then we use these values to calculate the estimation for the correspondent pdf."
   ]
  },
  {
   "cell_type": "code",
   "execution_count": 42,
   "metadata": {
    "hidden": true
   },
   "outputs": [
    {
     "name": "stdout",
     "output_type": "stream",
     "text": [
      "means matrix for non diabetes class\n",
      "\n",
      "[  3.298    109.98      68.184     19.664     68.792     30.3042\n",
      "   0.429734  31.19    ]\n",
      "\n",
      "\n",
      "covariance matrix for non diabetes class\n",
      "\n",
      "[[ 1.15427904e+01  5.68007513e+01  1.13788039e+01 -1.38641212e+00\n",
      "   1.01583375e+01  7.96687260e+00  1.17318701e-01  2.93368436e+01]\n",
      " [ 5.68007513e+01  1.66027527e+03  1.73445788e+02  8.44205387e+01\n",
      "   1.89698852e+03  1.77762399e+02  4.52279674e+00  2.53230583e+02]\n",
      " [ 1.13788039e+01  1.73445788e+02  3.32595054e+02  5.68158641e+01\n",
      "   2.16297733e+02  6.31216707e+01  4.66042888e-01  6.06764376e+01]\n",
      " [-1.38641212e+00  8.44205387e+01  5.68158641e+01  2.27518000e+02\n",
      "   6.85317314e+02  6.22173211e+01  7.24965254e-01 -1.37041969e+01]\n",
      " [ 1.01583375e+01  1.89698852e+03  2.16297733e+02  6.85317314e+02\n",
      "   1.07498094e+04  3.45492319e+02  1.05195657e+01  1.35877342e+01]\n",
      " [ 7.96687260e+00  1.77762399e+02  6.31216707e+01  6.22173211e+01\n",
      "   3.45492319e+02  8.24251103e+01  7.46504161e-01  3.16655047e+01]\n",
      " [ 1.17318701e-01  4.52279674e+00  4.66042888e-01  7.24965254e-01\n",
      "   1.05195657e+01  7.46504161e-01  1.03857542e-01  8.54866149e-01]\n",
      " [ 2.93368436e+01  2.53230583e+02  6.06764376e+01 -1.37041969e+01\n",
      "   1.35877342e+01  3.16655047e+01  8.54866149e-01  1.70402959e+02]]\n",
      "\n",
      "\n",
      "pdf estimation for non diabetes class\n",
      "\n",
      "[1.58105363e-12 2.80362113e-12 1.09615640e-12 3.08986803e-18\n",
      " 1.63058147e-13 6.51628127e-16 3.44793392e-15 6.22463398e-13\n",
      " 1.80165838e-13 1.81491686e-12 5.02355160e-15 4.89718794e-13\n",
      " 6.98501729e-14 2.82319441e-12 9.80454125e-14 1.17947811e-13\n",
      " 1.50798061e-13 2.82482084e-14 1.21290846e-13 1.21137834e-13\n",
      " 2.28133339e-13 4.04649490e-13 2.90422248e-13 1.39347065e-12\n",
      " 9.35664355e-18 6.94117219e-13 2.40558248e-12 2.57833879e-12\n",
      " 3.94848382e-14 2.26860874e-12 6.76406831e-15 1.95428449e-18\n",
      " 3.27494220e-13 2.21417179e-16 1.16790989e-13 4.48084804e-13\n",
      " 2.01571099e-12 1.86906321e-15 2.26322862e-12 5.55624399e-13\n",
      " 7.75553261e-13 8.41725609e-14 1.68288424e-12 4.75040940e-14\n",
      " 8.92259120e-14 8.86013977e-13 1.89613783e-12 7.05088112e-13\n",
      " 2.49342805e-16 3.71459796e-13 1.03143378e-12 2.89439221e-12\n",
      " 2.59815129e-16 2.20611135e-12 2.03121948e-12 1.46086713e-12\n",
      " 1.61146142e-12 4.86090375e-14 1.93085015e-13 5.77199938e-13\n",
      " 1.73149486e-12 1.66297801e-12 5.32704816e-13 1.13697527e-13\n",
      " 3.97563930e-14 3.51198825e-12 1.96050597e-14 9.77494891e-13\n",
      " 1.77496864e-15 1.23013922e-12 1.52964941e-12 1.61891964e-12\n",
      " 3.31451433e-13 8.08885602e-14 1.70597677e-12 1.19818465e-12\n",
      " 1.97795503e-13 3.47839044e-12 3.13186748e-15 1.57902987e-12\n",
      " 1.22576199e-12 3.00012653e-13 1.80940262e-12 9.66261858e-13\n",
      " 2.15986137e-12 2.87744401e-12 2.02157737e-13 1.36828123e-14\n",
      " 4.87602045e-14 1.15802704e-12 2.10311243e-12 1.28642659e-13\n",
      " 6.19445493e-17 2.44750033e-14 1.53921334e-14 1.30737694e-14\n",
      " 2.37842187e-12 3.83209880e-13 1.79168737e-12 8.33589437e-16\n",
      " 1.91484280e-12 1.08985409e-12 3.30008072e-12 6.88826279e-14\n",
      " 3.06931651e-13 2.58897167e-14 2.47293336e-12 2.71266024e-13\n",
      " 1.05846460e-12 1.19302597e-12 1.45121913e-12 4.48341135e-16\n",
      " 1.04940323e-13 2.30242589e-12 5.58829393e-13 3.87502927e-14\n",
      " 4.91227220e-13 1.30548275e-12 3.50533142e-14 8.13203267e-13\n",
      " 8.68847056e-13 7.86103204e-13 1.65511209e-13 3.67651083e-13\n",
      " 1.09301625e-12 2.41286020e-13 6.30086135e-14 6.42407806e-13\n",
      " 2.20222419e-12 3.37067227e-14 6.85780293e-13 2.96554390e-12\n",
      " 3.32165428e-12 3.98252696e-15 9.49170507e-15 2.15344249e-12\n",
      " 4.50753007e-16 2.19016521e-14 2.25037348e-12 1.42117158e-12\n",
      " 2.22602907e-13 8.01075515e-27 1.39165349e-13 1.33465816e-12\n",
      " 7.16983787e-13 2.54847306e-12 3.58489818e-13 2.31511939e-12\n",
      " 1.92920675e-12 1.15417264e-12 2.16851979e-13 1.34840410e-22\n",
      " 3.06869114e-16 8.96159969e-13 2.33060305e-13 4.71304359e-13\n",
      " 2.17575408e-12 8.55436279e-13 3.98291143e-13 1.55572576e-12\n",
      " 1.35676184e-15 1.57007760e-13 9.09073175e-13 7.96205913e-15\n",
      " 3.39617307e-13 1.14701296e-14 6.10799765e-13 9.86737505e-13\n",
      " 7.95289968e-13 2.21277308e-13 1.25871867e-14 1.52675072e-13\n",
      " 3.03029417e-12 1.08588086e-13 3.51893549e-14 3.25759551e-13\n",
      " 6.20908906e-13 4.29848810e-13 2.61797537e-17 2.20081764e-12\n",
      " 9.05946087e-13 7.12133197e-13 1.19618013e-17 7.56893386e-13\n",
      " 6.76303307e-13 7.03728346e-14 3.81717549e-13 2.08787124e-13\n",
      " 1.27008521e-12 3.85378176e-13 6.65330069e-13 1.11795278e-12\n",
      " 1.71820524e-12 3.87199839e-12 1.10221530e-12 9.73379142e-13\n",
      " 5.40691314e-13 6.75230944e-13 1.70967983e-13 1.50374767e-14\n",
      " 1.23896765e-12 6.72599186e-16 2.09227866e-12 1.93396288e-14\n",
      " 3.34324239e-12 3.84735090e-14 2.57081287e-18 1.61992794e-12\n",
      " 1.23966595e-12 1.74690401e-14 5.17596057e-13 5.03198455e-14\n",
      " 5.42262458e-13 6.65653864e-13 1.15664186e-15 2.80291925e-12\n",
      " 6.01092096e-14 4.57138788e-13 1.08421356e-13 2.90963765e-12\n",
      " 2.02166938e-14 1.00556628e-14 1.94641294e-14 1.12258623e-15\n",
      " 2.87043779e-13 1.82020201e-12 1.37078710e-12 1.22425964e-12\n",
      " 2.24343194e-21 1.43851805e-12 1.02542233e-12 4.38386569e-13\n",
      " 1.40828565e-12 1.08189784e-12 1.47420563e-14 1.34059223e-12\n",
      " 7.06197093e-13 1.91719705e-13 4.17651278e-14 1.28668907e-12\n",
      " 1.42914585e-12 9.88715151e-13 1.66631226e-13 4.50971805e-16\n",
      " 2.07240836e-12 8.09458086e-16 1.46047854e-13 1.35553001e-12\n",
      " 1.65637072e-13 1.93423177e-13 4.10679401e-13 1.23579317e-12\n",
      " 1.33426503e-13 2.37003358e-12 1.88247733e-14 4.87435064e-13\n",
      " 1.04178771e-13 6.98716067e-13 4.96355119e-13 2.93419861e-12\n",
      " 3.31656689e-13 1.70423378e-12 1.12939808e-16 1.80707531e-13\n",
      " 1.78098502e-15 1.97307066e-12 1.70043046e-12 4.19656703e-13\n",
      " 5.88592913e-14 1.96503665e-14 3.51897318e-13 9.14598495e-13\n",
      " 8.93161997e-14 3.00100283e-12 2.25284164e-12 2.13048813e-12\n",
      " 5.72770155e-13 1.98320150e-12 2.13178060e-12 3.14342270e-13\n",
      " 3.14435014e-21 1.46569884e-12 1.05756046e-15 1.79142040e-12\n",
      " 4.46767737e-17 1.09308379e-13 1.44676292e-12 7.29999427e-14\n",
      " 1.24021340e-12 4.60659323e-16 1.09791683e-12 1.64063801e-12\n",
      " 1.22316009e-12 2.98359584e-13 9.02287754e-14 8.27954193e-14\n",
      " 4.17301888e-13 3.35069764e-13 7.38526864e-13 4.29658441e-16\n",
      " 6.93323692e-13 1.32572581e-13 6.10886197e-15 1.66207677e-13\n",
      " 3.31039309e-12 7.11739532e-13 5.52338972e-16 2.33107539e-16\n",
      " 3.15337678e-12 8.75620721e-15 1.46124940e-12 3.73312717e-13\n",
      " 7.16947861e-13 1.92723906e-16 1.45981177e-14 1.57746856e-12\n",
      " 2.46884074e-12 5.58565044e-13 6.42416410e-13 1.27110399e-12\n",
      " 7.35088038e-13 3.78760975e-13 2.18765710e-14 1.41454662e-12\n",
      " 3.07625717e-13 6.35806769e-14 1.65193240e-13 6.23767124e-14\n",
      " 1.13791116e-12 2.39222695e-12 2.56628818e-13 1.25606923e-15\n",
      " 1.54051535e-17 1.38053695e-12 2.24419890e-12 1.37449497e-17\n",
      " 4.59908705e-13 1.81695740e-12 1.34242100e-12 1.49773505e-12\n",
      " 1.63860146e-12 6.18232917e-13 2.02661879e-12 7.65645756e-15\n",
      " 3.27763529e-14 3.14594274e-16 2.27462634e-14 2.96378621e-14\n",
      " 1.65550307e-18 6.47498725e-13 4.60479256e-13 2.51479504e-12\n",
      " 1.41513011e-12 4.86289450e-15 6.83478221e-16 8.17258788e-13\n",
      " 2.28630333e-12 1.16117898e-14 3.68082228e-12 1.23161108e-12\n",
      " 1.17243893e-13 3.62456777e-13 1.68302195e-13 5.30205862e-15\n",
      " 1.82826212e-14 1.63606432e-12 2.38712040e-12 2.94937465e-13\n",
      " 1.49772500e-12 1.10904953e-12 1.57260309e-13 1.57489887e-12\n",
      " 4.38516111e-13 4.10584639e-14 1.69361402e-12 1.37538362e-12\n",
      " 3.50271658e-14 6.97091579e-14 3.28269250e-13 1.15762766e-13\n",
      " 5.92591139e-13 3.25931919e-14 1.22088712e-13 2.53914353e-12\n",
      " 1.00402616e-12 2.12449307e-15 3.57445405e-13 1.54285212e-16\n",
      " 3.14404738e-13 1.28561454e-16 1.56363830e-13 8.49653017e-13\n",
      " 9.78399883e-13 8.66741540e-16 1.88466780e-13 4.19541487e-13\n",
      " 1.32906273e-12 1.11254466e-13 5.66080088e-13 1.76364551e-12\n",
      " 1.40436770e-13 1.52016080e-12 1.43138660e-13 2.45865140e-12\n",
      " 8.20712970e-13 5.47411629e-17 3.08795335e-16 3.92498873e-13\n",
      " 6.48334370e-13 3.73506743e-13 3.95807325e-13 1.73685274e-13\n",
      " 4.59298848e-13 1.33593393e-12 9.49823328e-13 1.34702644e-12\n",
      " 3.28043732e-13 4.97990269e-14 5.40195091e-13 2.22827603e-12\n",
      " 1.15586959e-12 9.02795731e-13 3.68734351e-13 6.59634230e-16\n",
      " 1.52386318e-12 5.81781475e-16 9.67314935e-13 2.31357600e-12\n",
      " 3.07310908e-12 9.59727896e-13 1.18057439e-12 1.68120213e-12\n",
      " 5.75089905e-13 2.33741117e-14 1.06467317e-14 8.71163621e-14\n",
      " 6.57921849e-13 2.45403551e-13 2.66065366e-13 9.84899743e-13\n",
      " 1.93234277e-12 7.23621810e-15 2.08410431e-15 3.02852181e-15\n",
      " 2.55092662e-13 1.61918727e-13 1.40353283e-12 2.63987584e-13\n",
      " 2.67024845e-19 1.87920433e-12 5.19518671e-13 1.25506714e-12\n",
      " 3.11886197e-13 6.04529400e-14 7.31985227e-13 1.85473101e-12\n",
      " 1.18782992e-15 6.92899876e-13 8.57426300e-15 1.91992176e-12\n",
      " 6.70462130e-18 2.07740817e-12 2.42842235e-13 8.86309262e-15\n",
      " 2.15468273e-15 2.04267489e-12 9.78249033e-14 1.18845267e-12\n",
      " 5.77895595e-14 6.71331804e-13 1.96103517e-12 8.93668424e-13\n",
      " 1.29593145e-12 6.03023119e-14 4.49141573e-13 1.95069279e-12\n",
      " 2.03304726e-13 3.90984671e-15 6.51906261e-13 2.22541470e-12\n",
      " 6.87823784e-14 1.19022023e-12 7.08397414e-13 1.78505523e-13\n",
      " 8.70899504e-13 1.80007083e-12 2.40105253e-12 6.61717349e-16\n",
      " 1.69026115e-14 9.61833610e-15 8.54237750e-13 1.94676212e-12\n",
      " 1.08712265e-13 2.07995213e-13 9.82056421e-13 1.49571156e-13\n",
      " 3.58920169e-16 1.31754037e-12 2.00247050e-12 1.78253533e-12]\n",
      "\n",
      "\n"
     ]
    }
   ],
   "source": [
    "mean_non_diabetes = np.array([])\n",
    "# features array has already been computed in above cell\n",
    "for key in features:\n",
    "    # calculate the mean for each feature by summing all values and dividing with their number\n",
    "    mean_non_diabetes = np.append(mean_non_diabetes, [df[key][df['Y'] == 0].sum()/len(df[key][df['Y'] == 0])])\n",
    "\n",
    "print('means matrix for non diabetes class\\n')\n",
    "print(mean_non_diabetes)\n",
    "print('\\n')\n",
    "\n",
    "covariance_non_diabetes = np.zeros(shape=(dimension, dimension)) # covariance matrix initialization\n",
    "for i in range(0, dimension):\n",
    "    for j in range(0, dimension):\n",
    "        # calculate (co)variance for each element of the matrix, following the theory equation\n",
    "        buffer = (df[features[i]][df['Y'] == 0] - mean_diabetes[i])*(df[features[j]][df['Y'] == 0] - mean_diabetes[j])\n",
    "        covariance_non_diabetes[i][j] = buffer.sum()/len(buffer)\n",
    "\n",
    "print('covariance matrix for non diabetes class\\n')\n",
    "print(covariance_non_diabetes)\n",
    "print('\\n')\n",
    "\n",
    "df_feat_only_non_diabetes = df.drop('Y', axis=1)[df['Y'] == 0] # get series without class feature, only for diabetes class\n",
    "features_array_non_diabetes = df_feat_only_non_diabetes.to_numpy() # turn series to an array\n",
    "\n",
    "# the below variables are just intermediate result for the pdf equation, in order to keep it readable\n",
    "buffer_array = features_array_non_diabetes-mean_non_diabetes\n",
    "deter_cov_non_diab = np.linalg.det(covariance_diabetes)\n",
    "cov_non_diab_inv = np.linalg.inv(covariance_non_diabetes)\n",
    "\n",
    "# apply the equation from theory to calculate the pdf estimates\n",
    "pdf_non_diabetes = (1 / ( (2*math.pi)**(dimension/2) * (deter_cov_non_diab**(1/2)))) * np.exp((-1/2)*(buffer_array.dot(cov_non_diab_inv)).dot(buffer_array.T))\n",
    "\n",
    "# as already has been stated, because we introduce the whole matrix buffer_array in the equation and not point by point, we calculate more results,\n",
    "# most of them not having actual meaning. Only the diagonal values are the actual pdfs.\n",
    "# however we avoid using a for loop and use the matrix multiplication because it is optimized in python.\n",
    "pdf_non_diabetes = pdf_non_diabetes.diagonal()\n",
    "print('pdf estimation for non diabetes class\\n')\n",
    "print(pdf_non_diabetes)\n",
    "print('\\n')"
   ]
  },
  {
   "cell_type": "markdown",
   "metadata": {
    "hidden": true
   },
   "source": [
    "<u>**Goodness of fit measument**</u>\n",
    "\n",
    "In order to calculate **AIC and BIC criterion** values for each class, we calculate firstly log-likelihood L(θ). For the assumption used for pdfs *k* (the number of estimated parameters for our model) is 44 => <u>8 values for means for each $X_{i}$ + 8*(8+1)/2 values because the covariance matrix is symmetric so we have half table plus diagonal</u>. Finally, regarding AIC the **equation for small sample size** is used, since N/k is less than 40."
   ]
  },
  {
   "cell_type": "code",
   "execution_count": 48,
   "metadata": {
    "hidden": true
   },
   "outputs": [
    {
     "name": "stdout",
     "output_type": "stream",
     "text": [
      "AIC_diabetes:  16112.262993994169\n",
      "BIC_diabetes:  16269.867317997632\n",
      "AIC_non_diabetes:  29646.07403418648\n",
      "BIC_non_diabetes:  29831.32118612145\n"
     ]
    }
   ],
   "source": [
    "## k = 8 values for means for each Xi + 8x(8+1)/2 values because the covariance matrix is symmetric so we have half table plus diagonal\n",
    "k = 8 + 8*9/2\n",
    "N_diabetes = len(features_array_diabetes[:,0])\n",
    "N_non_diabetes = len(features_array_non_diabetes[:,0])\n",
    "\n",
    "diabetes_loglikelihood = np.log(pdf_diabetes).sum()\n",
    "AIC_diabetes = -2*diabetes_loglikelihood + 2 * k + (2*k+1) / (N_diabetes-k-1)\n",
    "BIC_diabetes = -2*diabetes_loglikelihood + k * math.log(N_diabetes)\n",
    "print('AIC_diabetes: ', AIC_diabetes)\n",
    "print('BIC_diabetes: ', BIC_diabetes)\n",
    "\n",
    "non_diabetes_loglikelihood = np.log(pdf_non_diabetes).sum()\n",
    "AIC_non_diabetes = -2*non_diabetes_loglikelihood + 2 * k + (2*k+1) / (N_non_diabetes-k-1)\n",
    "BIC_non_diabetes = -2*non_diabetes_loglikelihood + k * math.log(N_non_diabetes)\n",
    "print('AIC_non_diabetes: ', AIC_non_diabetes)\n",
    "print('BIC_non_diabetes: ', BIC_non_diabetes)"
   ]
  },
  {
   "cell_type": "markdown",
   "metadata": {
    "heading_collapsed": true,
    "hidden": true,
    "id": "RVjLC4YH78GQ"
   },
   "source": [
    "#### 2.2.c"
   ]
  },
  {
   "cell_type": "code",
   "execution_count": null,
   "metadata": {
    "hidden": true,
    "id": "e1e85M0A79VL"
   },
   "outputs": [],
   "source": []
  },
  {
   "cell_type": "markdown",
   "metadata": {
    "heading_collapsed": true,
    "hidden": true,
    "id": "XT9glXC679y8"
   },
   "source": [
    "#### 2.2.d"
   ]
  },
  {
   "cell_type": "markdown",
   "metadata": {
    "hidden": true
   },
   "source": [
    "**Assumption:** \"*Components of the feature vectors are mutually statistically independent (the usual naïve Bayes approach). Marginal pdfs are computed using 1-d Parzen windows with gaussian kernels. Take the width h of each window equal to the square root of the number of patterns in the available data.*\""
   ]
  },
  {
   "attachments": {
    "image.png": {
     "image/png": "[encoded data removed]"
    }
   },
   "cell_type": "markdown",
   "metadata": {
    "hidden": true
   },
   "source": [
    "In the next cell we calculate **the marginal pdf for each feature** of the samples belonging in **diabetes class ('Y' = 1)** and then we calculate the estimation for the correspondent pdf as the product of the marginal pdfs (naive bayes approach).\n",
    "\n",
    "For the computation of the marginal pdfs we use <u>1-d Parzen windows with gaussian kernels, which have standard deviation equal to the width *h* of the window and mean value each sample point</u>, according to the below equation (we replace σ with h):\n",
    "\n",
    "![image.png](attachment:image.png)"
   ]
  },
  {
   "cell_type": "code",
   "execution_count": 53,
   "metadata": {
    "hidden": true,
    "id": "v94BZUhb7f1h"
   },
   "outputs": [
    {
     "name": "stdout",
     "output_type": "stream",
     "text": [
      "pdf estimation for diabetes class (naive bayes using parzen windows)\n",
      "\n",
      "[8.05891797e-032 2.55672952e-030 9.99621055e-033 1.39972642e-030\n",
      " 2.91895610e-031 6.46922363e-034 2.60417538e-031 4.99241420e-105\n",
      " 1.30300034e-031 2.97220713e-031 2.92278402e-035 1.82919295e-032\n",
      " 1.21893517e-033 3.33230226e-032 1.56523240e-033 1.21806415e-035\n",
      " 3.68019338e-035 2.51227941e-032 1.10859051e-033 3.28356548e-032\n",
      " 3.01312104e-031 3.29254028e-033 3.88912110e-033 1.30376542e-030\n",
      " 8.62269806e-032 7.77389383e-041 2.44955161e-040 5.56016113e-033\n",
      " 1.06387573e-032 2.24000465e-033 4.05425912e-032 1.37319098e-034\n",
      " 1.51286691e-032 3.94259604e-033 3.56125843e-034 1.01066257e-032\n",
      " 2.34004346e-035 2.29673380e-031 2.71905001e-032 3.71768037e-034\n",
      " 3.27004733e-033 3.35520800e-031 3.88043894e-033 1.17361005e-033\n",
      " 1.15066598e-032 4.19343982e-033 1.91344858e-031 1.46071723e-036\n",
      " 5.27662317e-033 9.49729293e-032 7.52290820e-033 1.45101302e-031\n",
      " 3.06382414e-032 5.23560581e-034 2.04156642e-031 1.15901343e-032\n",
      " 3.56964805e-033 4.74520058e-034 7.48823734e-034 1.14754211e-032\n",
      " 8.09704858e-036 5.00295598e-034 8.50376130e-037 7.00547255e-034\n",
      " 9.74031629e-031 8.41379396e-033 5.24403793e-034 1.98510976e-034\n",
      " 3.30037570e-034 4.45906429e-031 3.06844363e-032 1.35070831e-032\n",
      " 1.85940872e-031 4.13041148e-033 2.16518044e-043 3.65628992e-037\n",
      " 5.54219041e-032 1.47615380e-031 3.35779716e-035 5.43170547e-034\n",
      " 1.96590079e-036 3.80201367e-035 3.89618627e-031 1.27442655e-032\n",
      " 4.70333752e-034 1.42257566e-032 1.86259488e-030 3.36491460e-033\n",
      " 1.30954489e-057 3.92024223e-031 6.08170954e-032 7.12394878e-032\n",
      " 9.88169701e-032 1.33259450e-031 6.13337319e-033 1.51588774e-031\n",
      " 2.61877049e-034 2.41232601e-032 8.63974689e-034 1.27068144e-031\n",
      " 4.68384323e-033 5.76196948e-032 3.00946421e-031 7.69881526e-033\n",
      " 1.66662417e-031 4.94083590e-032 3.81297816e-032 7.05969201e-033\n",
      " 6.68539946e-035 5.37242491e-032 3.78439630e-034 7.25939870e-033\n",
      " 1.47902456e-053 9.90124839e-033 1.75288066e-030 1.16698717e-034\n",
      " 5.52273860e-034 4.33375441e-034 1.68852774e-033 1.58789389e-033\n",
      " 3.31855057e-032 6.06879262e-033 5.43291119e-031 3.36691010e-031\n",
      " 1.08915026e-032 3.78491573e-033 2.16086751e-032 1.07348580e-034\n",
      " 3.23228432e-035 2.01882545e-030 2.96141440e-033 8.33887584e-033\n",
      " 8.64782028e-032 1.06854815e-030 4.03958424e-032 1.18361416e-033\n",
      " 1.52276926e-032 9.74439573e-034 5.34684176e-044 1.28675364e-032\n",
      " 2.30343382e-033 1.84417588e-036 6.88478670e-037 1.09769157e-046\n",
      " 8.73466576e-032 4.82158336e-033 4.72239132e-033 3.06511816e-039\n",
      " 1.80582492e-031 8.75166224e-032 1.01670027e-032 9.18081242e-031\n",
      " 2.48834085e-031 6.97547737e-034 8.76682771e-031 5.55898139e-033\n",
      " 4.78044538e-031 2.69384390e-032 5.44603133e-033 8.68351733e-036\n",
      " 1.09228232e-032 1.62319192e-034 1.60410740e-032 9.74131616e-037\n",
      " 4.91819697e-031 8.56432956e-033 8.22461315e-032 1.92362687e-031\n",
      " 2.37111122e-032 1.48960243e-032 1.92409117e-031 1.09520925e-031\n",
      " 1.15129097e-032 2.08008224e-030 2.40342186e-034 1.10407022e-032\n",
      " 4.52589794e-033 1.76614173e-045 1.47722941e-031 3.31580615e-035\n",
      " 1.08197236e-035 3.65821560e-033 4.34487069e-030 1.84467485e-032\n",
      " 4.81725495e-031 2.79802088e-032 4.94198195e-034 3.80828005e-033\n",
      " 2.41784774e-032 4.11647052e-036 1.09919047e-032 1.61157390e-033\n",
      " 3.60494617e-032 8.03618291e-033 1.49345335e-031 9.07302507e-034\n",
      " 6.53615242e-036 3.25824694e-034 8.48481612e-034 1.91045260e-031\n",
      " 8.49398065e-033 1.83852636e-036 5.15890644e-032 2.16249511e-033\n",
      " 1.96210079e-033 1.43843297e-033 7.54727774e-032 3.11965264e-031\n",
      " 6.29339762e-035 3.48273081e-030 4.75775913e-039 1.26318641e-030\n",
      " 7.52707238e-045 3.24535744e-035 3.89427113e-033 1.17745266e-032\n",
      " 1.85109437e-032 3.19422848e-032 1.41309257e-032 2.06413136e-032\n",
      " 1.68502521e-033 1.37417287e-031 2.22847958e-036 4.50999507e-031\n",
      " 1.30621103e-031 2.42846331e-031 6.28517408e-033 8.86848502e-036\n",
      " 2.00242496e-032 9.68284146e-033 2.42651186e-032 6.59234103e-031\n",
      " 3.36914862e-032 9.61792520e-033 1.90285013e-031 6.39776320e-034\n",
      " 2.06106047e-033 1.07310572e-031 6.38294859e-036 1.13022125e-036\n",
      " 9.19049999e-034 1.48528269e-033 5.62625778e-032 8.80484070e-032\n",
      " 1.32999735e-031 1.39538399e-032 8.93842855e-033 7.71924878e-049\n",
      " 1.05951997e-031 5.95360687e-032 2.05895609e-034 1.66107374e-033\n",
      " 4.34397331e-034 3.17086943e-034 2.37285215e-032 5.71872146e-036\n",
      " 1.72276234e-033 5.57324625e-033 4.10730227e-031 1.14424705e-030\n",
      " 1.48373946e-032 4.08827448e-033 8.29194054e-032 7.59832447e-036\n",
      " 1.25555679e-033 3.34991138e-032 3.93044454e-031 6.39363377e-033]\n",
      "\n",
      "\n"
     ]
    }
   ],
   "source": [
    "N_diabetes = len(features_array_diabetes[:,0]) # number of samples\n",
    "h_diabetes = math.sqrt(N_diabetes) # set the window width equal to the square root of number of samples for class\n",
    "\n",
    "marginal_pdfs_diab = []\n",
    "for i in range(0, dimension):\n",
    "    buffer = np.zeros(N_diabetes)\n",
    "    for xi in features_array_diabetes[:][i]:\n",
    "        # the below buffer is used for summation of the gaussians (equation from theory)\n",
    "        buffer = buffer + (1 / (math.sqrt(2*math.pi)*h_diabetes)) * np.exp((-1 / (2*(h_diabetes**2)))*(features_array_diabetes[:,i] - xi)**2)\n",
    "    buffer = buffer / N_diabetes\n",
    "    marginal_pdfs_diab.append(buffer)\n",
    "\n",
    "pdf_diabetes_parzen = np.ones(marginal_pdfs_diab[0].shape) # initialization for pdf calculation\n",
    "for marg_pdf in marginal_pdfs_diab:\n",
    "    pdf_diabetes_parzen = pdf_diabetes_parzen * marg_pdf # calculate product repeatedly\n",
    "\n",
    "print('pdf estimation for diabetes class (naive bayes using parzen windows)\\n')\n",
    "print(pdf_diabetes_parzen)\n",
    "print('\\n')"
   ]
  },
  {
   "attachments": {
    "image.png": {
     "image/png": "[encoded data removed]"
    }
   },
   "cell_type": "markdown",
   "metadata": {
    "hidden": true
   },
   "source": [
    "In the next cell we calculate **the marginal pdf for each feature** of the samples belonging in **non diabetes class ('Y' = 0)** and then we calculate the estimation for the correspondent pdf as the product of the marginal pdfs (naive bayes approach).\n",
    "\n",
    "For the computation of the marginal pdfs we use <u>1-d Parzen windows with gaussian kernels, which have standard deviation equal to the width *h* of the window and mean value each sample point</u>, according to the below equation (we replace σ with h):\n",
    "\n",
    "![image.png](attachment:image.png)"
   ]
  },
  {
   "cell_type": "code",
   "execution_count": 54,
   "metadata": {
    "hidden": true
   },
   "outputs": [
    {
     "name": "stdout",
     "output_type": "stream",
     "text": [
      "pdf estimation for non diabetes class (naive bayes using parzen windows)\n",
      "\n",
      "[4.28635026e-032 1.83958724e-032 2.41788873e-032 7.49345020e-032\n",
      " 2.27377836e-032 2.91041473e-033 1.47195836e-032 1.72694311e-040\n",
      " 2.78096881e-032 5.66669348e-033 6.07005431e-034 1.66883250e-032\n",
      " 1.34640912e-032 2.76012898e-032 5.35099451e-032 1.05433818e-032\n",
      " 9.35446457e-036 4.25966498e-033 4.27867390e-036 5.27576199e-033\n",
      " 2.85524240e-032 4.58336633e-034 2.51378199e-033 4.26534704e-032\n",
      " 1.58871064e-031 1.47607722e-032 4.50570249e-032 5.08593088e-032\n",
      " 5.33577106e-058 8.54562777e-032 2.00272195e-033 1.27941574e-033\n",
      " 1.45642324e-033 2.11536604e-031 7.24069435e-032 6.56121640e-034\n",
      " 3.45953550e-032 1.46844962e-032 3.78700261e-032 6.39646193e-034\n",
      " 3.41595783e-034 1.25977812e-044 3.49609893e-032 1.10711204e-031\n",
      " 4.14534694e-032 2.76625391e-032 2.84582737e-032 5.39679615e-032\n",
      " 2.09512540e-031 1.26555222e-032 3.62647730e-032 5.21844123e-033\n",
      " 7.81373357e-033 9.14261638e-033 3.40472089e-032 7.78916982e-032\n",
      " 3.91416957e-035 8.59360758e-033 9.72847476e-034 3.46046653e-040\n",
      " 4.07658463e-032 2.76120558e-032 1.79652275e-032 1.39785101e-033\n",
      " 1.26271473e-032 3.15411929e-032 4.45978153e-032 5.14839439e-034\n",
      " 3.63917557e-032 2.56458608e-034 4.10973426e-032 2.02853283e-032\n",
      " 5.34242541e-032 7.70329457e-032 4.82637458e-032 2.05231206e-032\n",
      " 1.66933787e-032 9.10041257e-033 3.77006297e-033 1.57419493e-033\n",
      " 5.48315130e-033 3.01520286e-032 2.59887476e-032 1.39026652e-033\n",
      " 1.47812254e-032 1.79221110e-032 8.53498800e-033 4.42064359e-053\n",
      " 7.88246430e-033 1.90900970e-032 1.13017046e-032 9.73344208e-048\n",
      " 4.09185689e-032 2.56895519e-032 7.19659038e-033 8.55925667e-034\n",
      " 5.01716310e-032 5.05864397e-038 2.95278659e-032 6.14808392e-096\n",
      " 2.57888284e-032 5.84694283e-033 1.91821947e-032 5.95880961e-034\n",
      " 6.21873387e-033 1.21562004e-046 3.94807238e-032 1.39675360e-033\n",
      " 1.84219190e-032 3.04397301e-032 8.75500507e-033 1.53033386e-031\n",
      " 1.08587893e-032 1.81266538e-032 4.30247585e-032 1.62388223e-033\n",
      " 5.45739235e-032 6.73532187e-033 5.94346262e-032 6.41864917e-032\n",
      " 3.20362086e-033 3.63415791e-032 2.50848810e-033 6.43395037e-032\n",
      " 4.64007446e-032 2.27985662e-032 3.32065403e-033 3.10899546e-032\n",
      " 2.71968320e-032 5.96838974e-036 2.61136509e-032 1.31607723e-032\n",
      " 5.61245308e-032 3.57099082e-034 7.28747133e-036 3.06353188e-033\n",
      " 6.85947004e-032 5.83925357e-037 1.82997054e-032 2.60237761e-032\n",
      " 3.25390629e-032 1.93472889e-212 4.26353906e-033 2.95430564e-032\n",
      " 1.48617595e-032 2.22118239e-032 4.17186181e-032 4.50379986e-032\n",
      " 1.23574967e-032 2.03615487e-037 1.52697039e-032 1.25617831e-176\n",
      " 1.81742182e-070 2.39316477e-032 4.43114114e-032 9.21362096e-033\n",
      " 1.99259728e-032 3.14920985e-032 2.03657807e-032 2.34027677e-032\n",
      " 1.53455022e-067 4.09472492e-037 3.24311687e-032 1.51511660e-033\n",
      " 1.09301073e-032 4.73418977e-033 5.67731002e-032 1.04399156e-032\n",
      " 1.55745666e-032 8.06075954e-033 2.49946614e-032 3.92748754e-033\n",
      " 1.17900785e-032 1.76401476e-032 4.88697668e-045 1.79562678e-033\n",
      " 1.97504537e-034 5.65318260e-034 3.63742176e-117 3.15293895e-032\n",
      " 4.22219518e-033 1.83592439e-032 2.74931421e-034 2.62343434e-034\n",
      " 2.94424578e-038 2.03228089e-032 1.26361520e-032 1.38378326e-033\n",
      " 3.33428267e-033 3.29051392e-034 4.11615369e-032 1.01004286e-033\n",
      " 1.44607758e-032 9.10727449e-033 1.56368246e-032 1.29891347e-033\n",
      " 1.17832724e-039 1.63264711e-032 4.31923408e-036 1.79010226e-035\n",
      " 7.52324029e-033 1.94690251e-032 2.38760284e-032 3.37906165e-032\n",
      " 2.00903129e-032 9.26468486e-045 5.37008717e-032 3.88302925e-033\n",
      " 1.27543262e-032 4.38290716e-032 1.31372536e-032 2.66367336e-032\n",
      " 1.83614037e-033 2.28029526e-033 8.44454292e-032 1.63181662e-032\n",
      " 3.53776539e-032 4.50697460e-033 2.72926762e-032 3.29526629e-032\n",
      " 3.60417925e-032 8.17412639e-033 2.73176743e-034 8.78624747e-033\n",
      " 8.55054581e-049 1.45536972e-032 4.79973475e-032 1.51525693e-032\n",
      " 9.11006184e-033 1.31501245e-032 8.30020868e-033 2.29691667e-034\n",
      " 1.47537200e-032 9.26969906e-033 5.11857792e-033 8.21101901e-033\n",
      " 3.81433239e-032 5.11952138e-035 2.03881531e-032 4.65269696e-033\n",
      " 1.30856894e-032 1.24553870e-032 3.80139018e-036 8.61750893e-074\n",
      " 9.27466288e-033 4.15506675e-045 1.34647451e-032 6.12821556e-032\n",
      " 4.42632192e-033 3.92622718e-032 1.49676612e-034 5.01163517e-032\n",
      " 1.86575660e-032 5.36959092e-035 1.61923144e-051 8.59145617e-034\n",
      " 4.39397450e-032 6.34199706e-032 4.20051931e-035 1.55904858e-032\n",
      " 4.45971940e-033 2.25029556e-032 1.87640891e-031 1.33591234e-034\n",
      " 1.60121205e-031 1.57914970e-032 1.71273403e-032 4.27764814e-033\n",
      " 5.51410028e-032 2.00162401e-033 1.81776208e-033 5.28976800e-032\n",
      " 2.71670219e-032 2.05631977e-032 5.26381349e-033 1.36540369e-032\n",
      " 6.20258252e-033 5.13629803e-033 2.59180295e-032 2.78842621e-037\n",
      " 3.44951290e-032 1.46058674e-032 4.65457197e-033 1.29702669e-032\n",
      " 7.07678511e-034 6.15223657e-033 6.37781716e-032 1.14753207e-032\n",
      " 3.64183677e-032 2.48324081e-032 7.92289451e-033 5.03571720e-032\n",
      " 1.01853903e-032 3.36455446e-035 9.93224626e-034 2.63008644e-033\n",
      " 1.29812846e-032 3.90366065e-033 2.77661686e-032 2.29277333e-033\n",
      " 1.02576065e-032 2.28167740e-033 3.01488200e-033 6.99311497e-033\n",
      " 2.76803360e-032 6.87359752e-033 1.44475522e-093 1.27290125e-046\n",
      " 4.54321543e-032 6.31469728e-037 1.16724282e-032 2.72704189e-032\n",
      " 2.38146055e-032 2.15918672e-031 8.70193971e-035 3.36503852e-032\n",
      " 1.58561218e-032 1.25430126e-037 6.00190945e-033 3.10831406e-032\n",
      " 1.24624656e-032 1.88453084e-032 4.39910946e-032 5.99904053e-035\n",
      " 2.08968903e-032 1.06589288e-032 5.01530170e-038 3.70213026e-032\n",
      " 5.67016746e-032 2.10753379e-032 7.85800373e-033 5.42245109e-032\n",
      " 8.08235576e-054 1.20429875e-032 1.66787140e-033 1.08757231e-031\n",
      " 1.51868793e-032 6.61611706e-032 1.84798118e-032 9.31587434e-033\n",
      " 7.96693247e-036 3.20172777e-032 6.99763039e-033 2.27994457e-032\n",
      " 4.16096160e-033 1.67223303e-031 1.71496750e-032 2.52416548e-032\n",
      " 3.26281083e-032 5.47471925e-038 1.29085581e-032 1.07246783e-032\n",
      " 7.73918807e-035 2.01471049e-035 1.94435774e-036 1.82933300e-032\n",
      " 1.51770416e-032 1.24329100e-032 2.60680174e-032 1.40729255e-032\n",
      " 3.75964248e-038 1.97302271e-032 1.95505181e-032 1.48472434e-032\n",
      " 5.12534744e-032 9.19744972e-033 2.04729611e-032 4.14925195e-032\n",
      " 2.45665086e-032 2.51681774e-032 7.35295219e-033 1.35238611e-034\n",
      " 4.48651096e-032 9.04871948e-033 1.40237784e-032 1.28854043e-032\n",
      " 3.92339586e-055 3.81499839e-033 1.18773448e-032 7.91230951e-033\n",
      " 3.36713632e-032 1.03037793e-032 3.06997464e-032 6.92897177e-032\n",
      " 4.63124467e-032 1.89683336e-031 8.08871861e-034 2.32852865e-032\n",
      " 7.52724544e-040 2.73361333e-032 1.27968444e-031 2.07778476e-032\n",
      " 2.87627483e-032 1.75378605e-031 8.57759924e-033 9.96005866e-033\n",
      " 3.25403373e-032 3.53317097e-046 4.50515893e-035 1.01517862e-033\n",
      " 2.68471984e-032 3.70541077e-032 1.98790505e-032 6.78193566e-032\n",
      " 2.05956293e-034 4.94784389e-032 6.16876147e-036 9.41504376e-033\n",
      " 3.33994600e-032 6.25917268e-033 1.40514224e-032 6.58533806e-033\n",
      " 7.64765915e-033 5.06062052e-032 6.68326990e-033 3.51102866e-032\n",
      " 1.07076648e-035 6.16553191e-032 2.96221223e-032 1.28946790e-032\n",
      " 2.47518181e-032 1.35755051e-032 9.82424562e-033 1.71641593e-031\n",
      " 1.29982120e-033 3.06317128e-082 3.38250664e-032 2.37444422e-032\n",
      " 7.77506161e-033 2.36712345e-033 2.51091795e-032 3.66463329e-033\n",
      " 1.38118038e-032 3.24768178e-037 6.43638485e-033 1.98837163e-034\n",
      " 1.76221937e-033 1.12581486e-035 2.03835956e-034 9.59359380e-037\n",
      " 5.64374204e-032 1.37231086e-032 5.50475700e-041 2.08606649e-032\n",
      " 4.67651093e-032 4.23893528e-043 2.97779184e-032 7.97817075e-033\n",
      " 3.19430287e-033 1.96880704e-037 1.11735352e-032 4.69320801e-032\n",
      " 5.77348615e-036 3.61376308e-032 4.01432142e-033 6.36000529e-032\n",
      " 1.47419545e-031 3.21074524e-034 1.56806686e-032 7.36209550e-037\n",
      " 2.39407919e-032 1.13019739e-032 2.57334475e-032 3.47063459e-055\n",
      " 5.35088704e-068 8.26154370e-033 9.67681236e-048 3.75594900e-032\n",
      " 3.62004055e-032 3.10967471e-035 4.45619138e-032 9.05635879e-037\n",
      " 4.35752625e-033 1.93134503e-032 1.09488229e-032 2.41705063e-035\n",
      " 2.39342959e-033 3.94752129e-035 6.54415173e-032 4.14970805e-034\n",
      " 2.73903989e-032 3.44860243e-032 2.68617597e-033 3.91720073e-032\n",
      " 8.19475621e-034 2.53937335e-032 1.19009385e-032 4.54174837e-035\n",
      " 9.38040506e-033 6.83809246e-033 2.24897564e-033 3.41365972e-032\n",
      " 2.20264188e-033 2.74068827e-032 5.21904935e-032 6.64289615e-032\n",
      " 1.41524019e-035 1.12055231e-032 5.91024277e-033 3.37991766e-032]\n",
      "\n",
      "\n"
     ]
    }
   ],
   "source": [
    "N_non_diabetes = len(features_array_non_diabetes[:,0]) # number of samples\n",
    "h_non_diabetes = math.sqrt(N_non_diabetes) # set the window width equal to the square root of number of samples for class\n",
    "\n",
    "marginal_pdfs_non_diab = []\n",
    "for i in range(0, dimension):\n",
    "    buffer = np.zeros(N_non_diabetes)\n",
    "    for xi in features_array_non_diabetes[:][i]:\n",
    "        # the below buffer is used for summation of the gaussians (equation from theory)\n",
    "        buffer = buffer + (1 / (math.sqrt(2*math.pi)*h_non_diabetes)) * np.exp((-1 / (2*(h_non_diabetes**2)))*(features_array_non_diabetes[:,i] - xi)**2)\n",
    "    buffer = buffer / N_non_diabetes\n",
    "    marginal_pdfs_non_diab.append(buffer)\n",
    "\n",
    "pdf_non_diabetes_parzen = np.ones(marginal_pdfs_non_diab[0].shape) # initialization for pdf calculation\n",
    "for marg_pdf in marginal_pdfs_non_diab:\n",
    "    pdf_non_diabetes_parzen = pdf_non_diabetes_parzen * marg_pdf # calculate product repeatedly\n",
    "\n",
    "print('pdf estimation for non diabetes class (naive bayes using parzen windows)\\n')\n",
    "print(pdf_non_diabetes_parzen)\n",
    "print('\\n')"
   ]
  },
  {
   "attachments": {},
   "cell_type": "markdown",
   "metadata": {
    "hidden": true
   },
   "source": [
    "<u>**Goodness of fit measument**</u>\n",
    "\n",
    "In order to calculate **AIC and BIC criterion** values for each class, we calculate firstly log-likelihood L(θ). For the assumption used for pdfs *k* (the number of estimated parameters for our model) is 1 => <u>the only parameter we can affect is *h* which is the same for every $X_{i}$</u>. Finally, regarding AIC the **general equation** is used, since N/k is more than 40."
   ]
  },
  {
   "cell_type": "code",
   "execution_count": 55,
   "metadata": {
    "hidden": true
   },
   "outputs": [
    {
     "name": "stdout",
     "output_type": "stream",
     "text": [
      "AIC_parzen_diabetes:  40719.700721292844\n",
      "BIC_parzen_diabetes:  40723.291708273355\n",
      "AIC_parzen_non_diabetes:  78998.97309879342\n",
      "BIC_parzen_non_diabetes:  79003.18770689184\n"
     ]
    }
   ],
   "source": [
    "## k = 1 because the only parameter is h which is the same for every Xi\n",
    "k_parzen = 1\n",
    "N_diabetes = len(features_array_diabetes[:,0])\n",
    "N_non_diabetes = len(features_array_non_diabetes[:,0])\n",
    "\n",
    "diabetes_loglikelihood_parzen = np.log(pdf_diabetes_parzen).sum()\n",
    "AIC_parzen_diabetes = -2*diabetes_loglikelihood_parzen + 2 * k_parzen\n",
    "BIC_parzen_diabetes = -2*diabetes_loglikelihood_parzen + k_parzen * math.log(N_diabetes)\n",
    "print('AIC_parzen_diabetes: ', AIC_parzen_diabetes)\n",
    "print('BIC_parzen_diabetes: ', BIC_parzen_diabetes)\n",
    "\n",
    "non_diabetes_loglikelihood_parzen = np.log(pdf_non_diabetes_parzen).sum()\n",
    "AIC_parzen_non_diabetes = -2*non_diabetes_loglikelihood_parzen + 2 * k_parzen \n",
    "BIC_parzen_non_diabetes = -2*non_diabetes_loglikelihood_parzen + k_parzen * math.log(N_non_diabetes)\n",
    "print('AIC_parzen_non_diabetes: ', AIC_parzen_non_diabetes)\n",
    "print('BIC_parzen_non_diabetes: ', BIC_parzen_non_diabetes)"
   ]
  },
  {
   "cell_type": "markdown",
   "metadata": {
    "hidden": true,
    "id": "PR7oOqDG7gxR"
   },
   "source": [
    "### 2.3"
   ]
  },
  {
   "cell_type": "code",
   "execution_count": 56,
   "metadata": {
    "hidden": true,
    "id": "1kUbHxax7i3o"
   },
   "outputs": [],
   "source": [
    "#  Problem 2 - iii - Bayesian classification utilizing the estimated pdfs from 2ii\n",
    "\n",
    "# importing the required modules\n",
    "\n",
    "import pandas as pd\n",
    "import numpy as np\n",
    "import math\n",
    "\n",
    "df = pd.read_csv('pima-indians-diabetes.data', delimiter=',', encoding='ISO-8859–1', names=['X1', 'X2', 'X3', 'X4', 'X5', 'X6', 'X7', 'X8', 'Y'])"
   ]
  },
  {
   "cell_type": "markdown",
   "metadata": {
    "hidden": true
   },
   "source": [
    "#### 2.3.a"
   ]
  },
  {
   "cell_type": "markdown",
   "metadata": {
    "heading_collapsed": true,
    "hidden": true
   },
   "source": [
    "#### 2.3.b"
   ]
  },
  {
   "cell_type": "markdown",
   "metadata": {
    "hidden": true
   },
   "source": [
    "**Assumption:** \"*Pdfs are gaussian, with non-diagonal covariance matrices. Means and covariance matrices of the pdfs are estimated using Maximum Likelihood from the available data.*\"\n",
    "\n",
    "Below we define helper functions we are going to use to implement the Bayes Classifier for the above assumption for class pdfs. *We are explaining only any new notions added to the code from question 2.ii since in general it's the same, just grouped for reusability reasons.*"
   ]
  },
  {
   "cell_type": "code",
   "execution_count": 64,
   "metadata": {
    "hidden": true
   },
   "outputs": [],
   "source": [
    "# this function calculates the mean for a given dataframe\n",
    "# class_feature is the key corresponding to the class\n",
    "# class_value is the value corresponding to the class whose mean we are calculating\n",
    "def calculate_mean_for_class(dataframe, class_feature, class_value):\n",
    "    mean = np.array([])\n",
    "    features = dataframe.keys()\n",
    "    features = features.drop(class_feature)\n",
    "    for key in features:\n",
    "        mean = np.append(mean, [dataframe[key][df[class_feature] == class_value].sum()/len(df[key][df[class_feature] == class_value])])\n",
    "    return mean\n",
    "\n",
    "# this function calculates the covariance matrix for a given dataframe\n",
    "# class_mean is the means matrix for the class\n",
    "# class_feature is the key corresponding to the class\n",
    "# class_value is the value corresponding to the class whose mean we are calculating\n",
    "def calculate_covariance_matrix_for_class(dataframe, class_mean, class_feature, class_value):\n",
    "    features = dataframe.keys()\n",
    "    features = features.drop(class_feature)\n",
    "    dimension = len(features)\n",
    "    covariance = np.zeros(shape=(dimension, dimension))\n",
    "    for i in range(0, dimension):\n",
    "        for j in range(0, dimension):\n",
    "            buffer = (df[features[i]][df[class_feature] == class_value] - class_mean[i])*(df[features[j]][df[class_feature] == class_value] - class_mean[j])\n",
    "            covariance[i][j] = buffer.sum()/len(buffer)\n",
    "\n",
    "    return covariance\n",
    "\n",
    "# this function calculates pdf for a given test set x\n",
    "# mean is the means matrix of the train data\n",
    "# covariance is the covariance matrix of the train data\n",
    "def calculate_pdf_for_test_set(x, mean, covariance):\n",
    "    deter_covariance = np.linalg.det(covariance)\n",
    "    covariance_inv = np.linalg.inv(covariance)\n",
    "    dimension = len(mean)\n",
    "    pdf_x = (1 / ( (2*math.pi)**(dimension/2) * (deter_covariance**(1/2)))) * np.exp((-1/2)*((x.to_numpy()-mean).dot(covariance_inv)).dot((x.to_numpy()-mean).T))\n",
    "    return pdf_x.diagonal()\n",
    "\n",
    "# this function does the classification of the points in test set and calculates the accuracy\n",
    "# prop_class0, prop_class1 are the probabilities for each sample in test set to be in class0 or class1 respectively\n",
    "# test_set is the test series with the features and the actual class for each feature\n",
    "# epoch is the repetition we are in the cross validation cycle\n",
    "def classify_and_calculate_epoch_accuracy(prop_class0, prop_class1, test_set, epoch):\n",
    "    classification = []\n",
    "    for i in range(0, len(prop_class0)):\n",
    "        # classification of each sample according to which probability is greater\n",
    "        if prop_class0[i] > prop_class1[i]:\n",
    "            classification.append(0)\n",
    "        else:\n",
    "            classification.append(1)\n",
    "    # in order to count the accuracy we count the correct classifications\n",
    "    # by comparing with actual class of each sample and finally divide with the test set size\n",
    "    correct_classifications = 0\n",
    "    for i in range(0, len(classification)):\n",
    "        if classification[i] == test_set['Y'][epoch*len(classification)+i]:\n",
    "            correct_classifications += 1\n",
    "    accurracy_percentage = correct_classifications * 100 / len(classification) # we return % percentage\n",
    "    return accurracy_percentage\n",
    "\n",
    "# this function runs all the necessary steps to calculate the accuracy for a validation epoch\n",
    "# train_set is our training set for this epoch\n",
    "# test_set is our test set fot this epoch\n",
    "# prop_non_diabetes, prop_diabetes are the propabilities for each class for the given dataset in total\n",
    "# epoch is the repetition step in cross validation\n",
    "def calculate_accuracy_for_validation_epoch(train_set, test_set, prop_non_diabetes, prop_diabetes, epoch):\n",
    "    # calculate mean for non diabetes class\n",
    "    mean_class_non_diabetes = calculate_mean_for_class(train_set, 'Y', 0)\n",
    "    # calculate cov matrix for non diabetes class\n",
    "    covariance_class_non_diabetes = calculate_covariance_matrix_for_class(train_set, mean_class_non_diabetes, 'Y', 0)\n",
    "    # calculate mean for diabetes class\n",
    "    mean_class_diabetes = calculate_mean_for_class(train_set, 'Y', 1)\n",
    "    # calculate cov matrix for non diabetes class\n",
    "    covariance_class_diabetes = calculate_covariance_matrix_for_class(train_set, mean_class_diabetes, 'Y', 1)\n",
    "    # calculate pdf for test set for non diabetes class\n",
    "    pdfs_test_set_class_non_diabetes = calculate_pdf_for_test_set(test_set.drop('Y', axis=1), mean_class_non_diabetes, covariance_class_non_diabetes)\n",
    "    # calculate probabilities for each sample in test set to be in non diabetes class\n",
    "    prop_class_non_diabetes_test_set = pdfs_test_set_class_non_diabetes*prop_non_diabetes\n",
    "    # calculate pdf for test set for diabetes class\n",
    "    pdfs_test_set_class_diabetes = calculate_pdf_for_test_set(test_set.drop('Y', axis=1), mean_class_diabetes, covariance_class_diabetes)\n",
    "    # calculate probabilities for each sample in test set to be in diabetes class\n",
    "    prop_class_diabetes_test_set = pdfs_test_set_class_diabetes*prop_diabetes\n",
    "    # do the classification, the cross validation and return the accuracy for the current epoch\n",
    "    return classify_and_calculate_epoch_accuracy(prop_class_non_diabetes_test_set, prop_class_diabetes_test_set, test_set, epoch)\n",
    "\n"
   ]
  },
  {
   "cell_type": "markdown",
   "metadata": {
    "hidden": true
   },
   "source": [
    "Below we are utilizing the above defined functions to **perform 8-fold cross validation** for our data set"
   ]
  },
  {
   "cell_type": "code",
   "execution_count": 65,
   "metadata": {
    "hidden": true
   },
   "outputs": [
    {
     "name": "stdout",
     "output_type": "stream",
     "text": [
      "Accuracy percentages for each \"epoch\":\n",
      "\n",
      "[72.91666666666667, 75.0, 72.91666666666667, 72.91666666666667, 76.04166666666667, 78.125, 76.04166666666667, 73.95833333333333]\n",
      "\n",
      "\n",
      "Average accuracy for current pdf assumption:\n",
      "\n",
      "74.74 %\n",
      "\n",
      "\n"
     ]
    }
   ],
   "source": [
    "fold = 8\n",
    "k = math.ceil(df.index.shape[0] / fold) # 8-Fold cross validation\n",
    "\n",
    "# the probabibly of each class in our data set is by definition the number of samples belonging in the class\n",
    "# devided by the size of the data set\n",
    "class_non_diabetes_prop = df[df['Y'] == 0].shape[0] / df.index.shape[0]\n",
    "class_diabete_prop = df[df['Y'] == 1].shape[0] / df.index.shape[0]\n",
    "\n",
    "accurracy_percentages = []\n",
    "for i in range(0, fold):\n",
    "  accurracy_percentages.append(calculate_accuracy_for_validation_epoch(df.drop(df.index[i*k:(i+1)*k]), df[i*k:(i+1)*k], class_non_diabetes_prop, class_diabete_prop, i))\n",
    "\n",
    "print('Accuracy percentages for each \"epoch\":\\n')\n",
    "print(accurracy_percentages)\n",
    "print('\\n')\n",
    "\n",
    "average_accuracy = sum(accurracy_percentages) / len(accurracy_percentages)\n",
    "\n",
    "print('Average accuracy for current pdf assumption:\\n')\n",
    "print(round(average_accuracy, 2), '%')\n",
    "print('\\n')"
   ]
  },
  {
   "cell_type": "markdown",
   "metadata": {
    "hidden": true
   },
   "source": [
    "#### 2.3.c"
   ]
  },
  {
   "cell_type": "markdown",
   "metadata": {
    "heading_collapsed": true,
    "hidden": true
   },
   "source": [
    "#### 2.3.d"
   ]
  },
  {
   "cell_type": "markdown",
   "metadata": {
    "hidden": true
   },
   "source": [
    "**Assumption:** \"*Components of the feature vectors are mutually statistically independent (the usual naïve Bayes approach). Marginal pdfs are computed using 1-d Parzen windows with gaussian kernels. Take the width h of each window equal to the square root of the number of patterns in the available data.*\"\n",
    "\n",
    "Below we define helper functions we are going to use to implement the Bayes Classifier for the above assumption for class pdfs. *We are explaining only any new notions added to the code from question 2.ii since in general it's the same, just grouped for reusability reasons.*"
   ]
  },
  {
   "cell_type": "code",
   "execution_count": 69,
   "metadata": {
    "hidden": true
   },
   "outputs": [],
   "source": [
    "# this function calculates the pdf for the test set using 1-d parzen windows with gaussian kernels for the marginal pdfs\n",
    "# it receives 2 arguments: the training and the test set in the form of pandas series\n",
    "def calculate_pdf_parzen_for_test_set(x_train, x_test):\n",
    "    x_train_array = x_train.to_numpy() # turn train series into array\n",
    "    x_test_array = x_test.to_numpy() # turn test series into array\n",
    "    N = x_train_array.shape[0] # size of training set\n",
    "    h = math.sqrt(N) # set the window width equal to the square root of number of samples for class\n",
    "    dimension = x_train_array.shape[1] # problem dimensionality\n",
    "    \n",
    "    # marginal pdfs calculation\n",
    "    marginal_pdfs = []\n",
    "    for i in range(0, dimension):\n",
    "        buffer = np.zeros(x_test_array.shape[0])\n",
    "        for xi in x_train_array[:][i]:\n",
    "            buffer = buffer + (1 / (math.sqrt(2*math.pi)*h)) * np.exp((-1 / (2*(h**2)))*(x_test_array[:,i] - xi)**2)\n",
    "        buffer = buffer / N\n",
    "        marginal_pdfs.append(buffer)\n",
    "    \n",
    "    # pdf calculation as product of the marginal pdfs according to naive bayes approach\n",
    "    pdf_parzen = np.ones(marginal_pdfs[0].shape)\n",
    "    for marg_pdf in marginal_pdfs:\n",
    "        pdf_parzen = pdf_parzen * marg_pdf\n",
    "    return pdf_parzen\n",
    "\n",
    "# this function does the classification of the points in test set and calculates the accuracy\n",
    "# prop_class0, prop_class1 are the probabilities for each sample in test set to be in class0 or class1 respectively\n",
    "# test_set is the test series with the features and the actual class for each feature\n",
    "# epoch is the repetition we are in the cross validation cycle\n",
    "def classify_and_calculate_epoch_accuracy(prop_class0, prop_class1, test_set, epoch):\n",
    "    classification = []\n",
    "    for i in range(0, len(prop_class0)):\n",
    "        # classification of each sample according to which probability is greater\n",
    "        if prop_class0[i] > prop_class1[i]:\n",
    "            classification.append(0)\n",
    "        else:\n",
    "            classification.append(1)\n",
    "    # in order to count the accuracy we count the correct classifications\n",
    "    # by comparing with actual class of each sample and finally divide with the test set si\n",
    "    correct_classifications = 0\n",
    "    for i in range(0, len(classification)):\n",
    "        if classification[i] == test_set['Y'][epoch*len(classification)+i]:\n",
    "            correct_classifications += 1\n",
    "    accurracy_percentage = correct_classifications * 100 / len(classification) # we return % percentage\n",
    "    return accurracy_percentage\n",
    "\n",
    "# this function runs all the necessary steps to calculate the accuracy for a validation epoch\n",
    "# train_set is our training set for this epoch\n",
    "# test_set is our test set fot this epoch\n",
    "# prop_non_diabetes, prop_diabetes are the propabilities for each class for the given dataset in total\n",
    "# epoch is the repetition step in cross validation\n",
    "def calculate_accuracy_parzen_for_validation_epoch(train_set, test_set, prop_non_diabetes, prop_diabetes, epoch):\n",
    "    # calculate pdf for test set for non diabetes class\n",
    "    pdfs_parzen_test_set_class_non_diabetes = calculate_pdf_parzen_for_test_set(train_set[train_set['Y'] == 0].drop('Y', axis=1), test_set.drop('Y', axis=1))\n",
    "    # calculate probabilities for each sample in test set to be in non diabetes class\n",
    "    prop_class_non_diabetes_test_set = pdfs_parzen_test_set_class_non_diabetes*prop_non_diabetes\n",
    "    # calculate pdf for test set for diabetes class\n",
    "    pdfs_parzen_test_set_class_diabetes = calculate_pdf_parzen_for_test_set(train_set[train_set['Y'] == 1].drop('Y', axis=1), test_set.drop('Y', axis=1))\n",
    "    # calculate probabilities for each sample in test set to be in diabetes class\n",
    "    prop_class_diabetes_test_set = pdfs_parzen_test_set_class_diabetes*prop_diabetes\n",
    "    # do the classification, the cross validation and return the accuracy for the current epoch\n",
    "    return classify_and_calculate_epoch_accuracy(prop_class_non_diabetes_test_set, prop_class_diabetes_test_set, test_set, epoch)"
   ]
  },
  {
   "cell_type": "markdown",
   "metadata": {
    "hidden": true
   },
   "source": [
    "Below we are utilizing the above defined functions to **perform 8-fold cross validation** for our data set"
   ]
  },
  {
   "cell_type": "code",
   "execution_count": 70,
   "metadata": {
    "hidden": true
   },
   "outputs": [
    {
     "name": "stdout",
     "output_type": "stream",
     "text": [
      "Accuracy percentages for each \"epoch\":\n",
      "\n",
      "[36.458333333333336, 43.75, 55.208333333333336, 52.083333333333336, 51.041666666666664, 47.916666666666664, 53.125, 48.958333333333336]\n",
      "\n",
      "\n",
      "Average accuracy for current pdf assumption:\n",
      "\n",
      "48.57 %\n",
      "\n",
      "\n"
     ]
    }
   ],
   "source": [
    "fold = 8\n",
    "k = math.ceil(df.index.shape[0] / fold) # 8-Fold cross validation\n",
    "\n",
    "# the probabibly of each class in our data set is by definition the number of samples belonging in the class\n",
    "# devided by the size of the data set\n",
    "class_non_diabetes_prop = df[df['Y'] == 0].shape[0] / df.index.shape[0]\n",
    "class_diabete_prop = df[df['Y'] == 1].shape[0] / df.index.shape[0]\n",
    "\n",
    "accurracy_percentages_parzen = []\n",
    "for i in range(0, fold):\n",
    "    accurracy_percentages_parzen.append(calculate_accuracy_parzen_for_validation_epoch(df.drop(df.index[i*k:(i+1)*k]), df[i*k:(i+1)*k], class_non_diabetes_prop, class_diabete_prop, i))\n",
    "\n",
    "print('Accuracy percentages for each \"epoch\":\\n')\n",
    "print(accurracy_percentages_parzen)\n",
    "print('\\n')\n",
    "\n",
    "average_accuracy_parzen = sum(accurracy_percentages_parzen) / len(accurracy_percentages_parzen)\n",
    "\n",
    "print('Average accuracy for current pdf assumption:\\n')\n",
    "print(round(average_accuracy_parzen, 2), '%')\n",
    "print('\\n')"
   ]
  },
  {
   "cell_type": "markdown",
   "metadata": {
    "hidden": true
   },
   "source": [
    "<u>**Conclusions/Comments for 2.3:**</u>"
   ]
  },
  {
   "cell_type": "markdown",
   "metadata": {
    "hidden": true,
    "id": "59VomALE7jRV"
   },
   "source": [
    "### 2.4"
   ]
  },
  {
   "cell_type": "code",
   "execution_count": null,
   "metadata": {
    "hidden": true,
    "id": "ctawkCBz7omE"
   },
   "outputs": [],
   "source": []
  }
 ],
 "metadata": {
  "colab": {
   "collapsed_sections": [
    "9eF3ETV56zNJ",
    "A_kirO4W7AKE",
    "09d10p0R7xI8",
    "bnonK-Uf72_n",
    "RVjLC4YH78GQ",
    "XT9glXC679y8"
   ],
   "name": "[Machine Learning] Assignment 1 - Deliverables.ipynb",
   "provenance": []
  },
  "kernelspec": {
   "display_name": "Python 3",
   "language": "python",
   "name": "python3"
  },
  "language_info": {
   "codemirror_mode": {
    "name": "ipython",
    "version": 3
   },
   "file_extension": ".py",
   "mimetype": "text/x-python",
   "name": "python",
   "nbconvert_exporter": "python",
   "pygments_lexer": "ipython3",
   "version": "3.8.3"
  }
 },
 "nbformat": 4,
 "nbformat_minor": 1
}
