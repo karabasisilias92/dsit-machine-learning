{
 "cells": [
  {
   "cell_type": "markdown",
   "metadata": {
    "id": "R6kYAu1b6oL8"
   },
   "source": [
    "# Machine Learning - DSIT UOA\n",
    "\n",
    "*** Assignment 1 ***\n",
    "\n",
    "<u>**Contributors:**</u> Christina Borovilou (ds1200008), Ilias Stylianos Karampasis (ds1200005), Anastasia Rempoulaki (ds1200016)\n",
    "\n",
    "General comments regarding the below deliverables:\n",
    "\n",
    "- Each question can be run independently and all code regarding its solution has been grouped in a collapsible heading for better and easier observation. *In case of you are using Anaconda, extensions for jupyter notebooks must be installed and then enabling of collapsible heading if you want to use this functionalilty. See more here: https://jupyter-contrib-nbextensions.readthedocs.io/en/latest/install.html*\n",
    "- We distributed the work for each problem. So although everyone in the team has knowledge of the solution for every individual question, you are going to observe diffent coding styles and perhaps level of details in commenting."
   ]
  },
  {
   "cell_type": "markdown",
   "metadata": {
    "id": "vFfzGA3V6s6r"
   },
   "source": [
    "## Problem 1"
   ]
  },
  {
   "cell_type": "markdown",
   "metadata": {
    "id": "9eF3ETV56zNJ"
   },
   "source": [
    "### 1.1"
   ]
  },
  {
   "cell_type": "code",
   "execution_count": null,
   "metadata": {
    "id": "npHBwhZ--O6I"
   },
   "outputs": [],
   "source": [
    "# importing the required module \n",
    "import matplotlib.pyplot as plt \n",
    "import numpy as np\n",
    "import math"
   ]
  },
  {
   "cell_type": "markdown",
   "metadata": {
    "id": "S70eopB4-O6K"
   },
   "source": [
    "Function to generate our **Input** & **\"Experimental\"** Results in arrays"
   ]
  },
  {
   "cell_type": "code",
   "execution_count": null,
   "metadata": {
    "id": "SWZFBet--O6K"
   },
   "outputs": [],
   "source": [
    "def y_actual_res(th0, th1, th2, th3, th5, r_step, r__start, r__end):\n",
    "\n",
    "    x = np.linspace(r_start, r_end, num= N)     #includes 2 in range [0,2]\n",
    "    noise = np.random.normal(mu,math.sqrt(variance), size=(20,)) \n",
    "    y = th5*x**5 + th3*x**3 + th2*x**2 + th1*x + th0 + noise\n",
    "    y_true = th5*x**5 + th3*x**3 + th2*x**2 + th1*x + th0\n",
    "\n",
    "    return(x, y, y_true)"
   ]
  },
  {
   "cell_type": "markdown",
   "metadata": {
    "id": "Kh-xAfIl-O6L"
   },
   "source": [
    "Actual polynomial model parameters and Sample range"
   ]
  },
  {
   "cell_type": "code",
   "execution_count": null,
   "metadata": {
    "id": "lUtGRd---O6M"
   },
   "outputs": [],
   "source": [
    "#polynomial weights\n",
    "th0 = 0.2\n",
    "th1 = -1\n",
    "th2 = 0.9\n",
    "th3 = 0.7\n",
    "th5 = -0.2\n",
    "\n",
    "mu, variance = 0, 0.1 # mean and standard deviation of Input noise\n",
    "noise = np.random.normal(mu,math.sqrt(variance), [20,])\n",
    "\n",
    "#Input data range\n",
    "r_start = 0\n",
    "r_end = 2\n",
    "N  = 20\n",
    "step = (r_end - r_start) / N\n"
   ]
  },
  {
   "cell_type": "markdown",
   "metadata": {
    "id": "WEq45KZu-O6N"
   },
   "source": [
    "*Assign values to {x, y} set*"
   ]
  },
  {
   "cell_type": "code",
   "execution_count": null,
   "metadata": {
    "id": "UJI6Y_P8-O6O"
   },
   "outputs": [],
   "source": [
    "x, y, y_true = y_actual_res(th0, th1, th2, th3, th5, step, r_start, r_end)"
   ]
  },
  {
   "cell_type": "markdown",
   "metadata": {
    "id": "GJ7KTyN5-O6O"
   },
   "source": [
    "Predict Results $\\rightarrow$\n",
    "*Compute parameters from Input data of the $5^{th}$ degree polynomial model with Least Squares method*"
   ]
  },
  {
   "cell_type": "code",
   "execution_count": null,
   "metadata": {
    "colab": {
     "base_uri": "https://localhost:8080/",
     "height": 295
    },
    "id": "oI7ILlVS-O6P",
    "outputId": "4b75b0fa-3661-4cfa-8148-d58cff07993f"
   },
   "outputs": [],
   "source": [
    "# plotting the points \n",
    "plt.plot(x, y, marker='o',linewidth=0, label = 'experiment input', ) \n",
    "\n",
    "# naming the x axis \n",
    "plt.xlabel('x - axis') \n",
    "# naming the y axis \n",
    "plt.ylabel('y - axis') \n",
    "\n",
    "# giving a title to my graph \n",
    "plt.title('Experiments Input') \n",
    "\n",
    "# function to show the plot \n",
    "plt.legend()\n",
    "plt.show() "
   ]
  },
  {
   "cell_type": "markdown",
   "metadata": {},
   "source": [
    "*Parameter*"
   ]
  },
  {
   "cell_type": "code",
   "execution_count": null,
   "metadata": {},
   "outputs": [],
   "source": [
    "poly_deg = 5"
   ]
  },
  {
   "cell_type": "markdown",
   "metadata": {},
   "source": [
    " *Build vector **$X$**: [1  $x$  $x^{2}$  $x^{3}$  $x^{5}$] in range [0,2] of N points to use for trainning*"
   ]
  },
  {
   "cell_type": "code",
   "execution_count": null,
   "metadata": {
    "colab": {
     "base_uri": "https://localhost:8080/",
     "height": 268
    },
    "id": "55b-0Agv6ypO",
    "outputId": "319d2835-5c66-430c-fd4c-bab29574198c"
   },
   "outputs": [],
   "source": [
    "Q_train = np.zeros(shape = (N,poly_deg+1))\n",
    "Q_train[:,0] = 1\n",
    "\n",
    "for i in range(1,poly_deg+1):\n",
    "    Q_train[:,i] = np.power(x,i).reshape((N,))\n"
   ]
  },
  {
   "cell_type": "markdown",
   "metadata": {},
   "source": [
    "*Parameter $Θ$ Calculation with train data*"
   ]
  },
  {
   "cell_type": "code",
   "execution_count": null,
   "metadata": {},
   "outputs": [],
   "source": [
    "#theta = ((X.T * X)^-1) * Χ.Τ * Υ\n",
    "theta = np.linalg.pinv(Q_train.T.dot(Q_train)).dot(Q_train.T).dot(y)\n",
    "\n",
    "plt.plot(x,Q_train.dot(theta), marker='o',linewidth=0, label='polynomial fit degree =' + str(poly_deg))\n",
    "plt.legend()\n",
    "plt.show()"
   ]
  },
  {
   "cell_type": "markdown",
   "metadata": {
    "id": "-H28JNBq-O6U"
   },
   "source": [
    "Calculation of **MSE (Mean Square Error)** of y over the training set."
   ]
  },
  {
   "cell_type": "code",
   "execution_count": null,
   "metadata": {
    "colab": {
     "base_uri": "https://localhost:8080/"
    },
    "id": "5sqt1A4k-O6V",
    "outputId": "34906b6d-ebe0-4ff5-8110-7db9a4f2ab80"
   },
   "outputs": [],
   "source": [
    "y_act = y_true\n",
    "y_pred = Q_train.dot(theta)\n",
    "summation = 0  #variable to store the summation of differences\n",
    "n = len(y_act) #finding total number of items in list\n",
    "for i in range(len(y_act)):  #looping through each element of the list\n",
    "    difference = y_act[i] - y_pred[i]  #finding the difference between observed and predicted value\n",
    "    squared_difference = pow(difference,2)  #taking square of the differene \n",
    "    summation = summation + squared_difference  #taking a sum of all the differences\n",
    "MSE = summation/n  #dividing summation by total values to obtain average\n",
    "print (\"The Mean Square Error is: \" , MSE)"
   ]
  },
  {
   "cell_type": "markdown",
   "metadata": {
    "id": "eVK4H5hJ68KF"
   },
   "source": [
    "### 1.2"
   ]
  },
  {
   "cell_type": "code",
   "execution_count": null,
   "metadata": {
    "id": "LNThXp-76fOr"
   },
   "outputs": [],
   "source": [
    "#  Problem 1 - ii - Least Squares Regression\n",
    "\n",
    "# importing the required modules \n",
    "import matplotlib.pyplot as plt \n",
    "import numpy as np\n",
    "import math"
   ]
  },
  {
   "cell_type": "markdown",
   "metadata": {
    "id": "p9wlShJ_r5ly"
   },
   "source": [
    "Below you can see a function to acquire the **y train data** for a <u>N size input vector</u> from a given $5^{th}$ degree polynomial with *random i.i.d. noise samples* originating from a Gaussian distribution added for each point."
   ]
  },
  {
   "cell_type": "code",
   "execution_count": null,
   "metadata": {
    "id": "0zcnYEC5sC6f"
   },
   "outputs": [],
   "source": [
    "def get_y_train(t0, t1, t2, t3, t4, t5, mean, variance, N, x_input):\n",
    "\n",
    "    noise = np.random.normal(mean,math.sqrt(variance), size=(N,)) # An N-size vector of random gaussian noise samples with mean value equal to \"mean\" variable and variance equal to \"variance\" variable\n",
    "    y = t5*x_input**5 + t4*x_input**4 + t3*x_input**3 + t2*x_input**2 + t1*x_input + t0 + noise # The N-size vector of our y_train data\n",
    "\n",
    "    return (y)"
   ]
  },
  {
   "cell_type": "markdown",
   "metadata": {
    "id": "gIO4OxloyABR"
   },
   "source": [
    "Below you can see a function to acquire the **y estimates** given x and y train data, the degree of the polynomial model and the size of train data vectors."
   ]
  },
  {
   "cell_type": "code",
   "execution_count": null,
   "metadata": {
    "id": "LYsz3gF_yAvV"
   },
   "outputs": [],
   "source": [
    "def get_y_est(poly_deg, x_train, y_train, N):\n",
    "\n",
    "    Phi = np.zeros(shape = (N,poly_deg+1)) # initialize the Phi matrix with the correspondent dimensions as determined by theory\n",
    "    Phi[:, -1] = 1 # the last column (corrensponding to the fixed term of the polynomian) is set to have 1 as value for all rows\n",
    "\n",
    "    for i in range(0,poly_deg):\n",
    "        Phi[:,i] = np.power(x_train,i+1) # calculating the rest values for Phi matrix as powers of the x_train vector\n",
    "\n",
    "    # calculating the estimates for the thetas according to the theory type for Least Squared method for Generalized Linear Regression (white gaussian noise)\n",
    "    theta = np.linalg.pinv(Phi.T.dot(Phi)).dot(Phi.T).dot(y_train) \n",
    "    y_est = Phi.dot(theta) # calculating y estimates\n",
    "    return (y_est)"
   ]
  },
  {
   "cell_type": "markdown",
   "metadata": {
    "id": "nziVxSr3Govx"
   },
   "source": [
    "The below function calculates the **mean** and **variance** for each point for *exp_num experiments* (noise in train data is variable) and then **plots them along with the curve corresponding to the true model**."
   ]
  },
  {
   "cell_type": "code",
   "execution_count": null,
   "metadata": {
    "id": "zQUKeq27GsI9"
   },
   "outputs": [],
   "source": [
    "def plot_pol_est_result(pol_deg, N, x_t, exp_num, t0, t1, t2, t3, t4, t5, mean, variance):\n",
    "    experiments = [] # list gathering the results for each experiment\n",
    "    for i in range(0,exp_num):\n",
    "        y_train = get_y_train(t0, t1, t2, t3, t4, t5, mean, variance, N, x_t) # acquire train data for each experiment\n",
    "\n",
    "        experiments.append(get_y_est(pol_deg, x_t, y_train, N)) # append estimates for experiment\n",
    "\n",
    "    ##### Expected Value calculation\n",
    "    E_Y = np.zeros(N)\n",
    "    for i in range(0, exp_num):\n",
    "        E_Y = E_Y + experiments[i]\n",
    "\n",
    "    E_Y = E_Y / exp_num\n",
    "\n",
    "    print('Results for polynomial of degree: ', pol_deg, '\\n')\n",
    "    print('Mean values: \\n')\n",
    "    print(E_Y)\n",
    "    print('\\n')\n",
    "\n",
    "    ##### Variance calculation \n",
    "    var_Y = np.zeros(N)\n",
    "    for i in range(0, exp_num):\n",
    "        var_Y = var_Y + (experiments[i] - E_Y)**2\n",
    "\n",
    "    var_Y = var_Y / exp_num\n",
    "\n",
    "    print('Variance values: \\n')\n",
    "    print(var_Y)\n",
    "    print('\\n')\n",
    "\n",
    "    #### True model calculation\n",
    "    x_true = np.linspace(0, 2, 100) # to simulate continuity we increase the number of points\n",
    "    y_true = t5*x_true**5 + t3*x_true**3 + t2*x_true**2 + t1*x_true + t0 # true model has no noise added\n",
    "\n",
    "    plt.plot(x_true, y_true, '-g', label= 'true_model')\n",
    "\n",
    "    plt.errorbar(x_t, E_Y, marker='o', markersize='2', linewidth=0, yerr= var_Y, elinewidth = 1, capsize = 5, label='polynomial LS regression degree: ' + str(pol_deg))\n",
    "\n",
    "    # naming the x axis \n",
    "    plt.xlabel('x - axis') \n",
    "    # naming the y axis \n",
    "    plt.ylabel('y - axis') \n",
    "\n",
    "    # giving a title to my graph \n",
    "    plt.title('True model vs Polynomial Least Squares Regression') \n",
    "\n",
    "    # function to show the plot \n",
    "    plt.legend(bbox_to_anchor=(1.05, 1), loc='upper left', borderaxespad=0.)\n",
    "\n",
    "    plt.show()"
   ]
  },
  {
   "cell_type": "markdown",
   "metadata": {
    "id": "vy1IKLRVRzl6"
   },
   "source": [
    "Below we utilize the above defined fucntions to run the experiments **at first for a $2^{nd}$ degree** polynomial and **then for a $10^{th}$ degree** one."
   ]
  },
  {
   "cell_type": "code",
   "execution_count": null,
   "metadata": {
    "colab": {
     "base_uri": "https://localhost:8080/",
     "height": 1000
    },
    "id": "c3CmGQWsRz6m",
    "outputId": "04e1c22a-e495-4129-bf55-e6d439ef76a2"
   },
   "outputs": [],
   "source": [
    "# polynomial factors of true model used in experiments\n",
    "th0 = 0.2\n",
    "th1 = -1\n",
    "th2 = 0.9\n",
    "th3 = 0.7\n",
    "th5 = -0.2\n",
    "\n",
    "# data range\n",
    "r_start, r_end = 0, 2\n",
    "# number of points\n",
    "points_number  = 20\n",
    "# number of experiments\n",
    "experiments_number = 100\n",
    "# mean, variance values for Gaussian noise\n",
    "noise_mean, noise_variance = 0, 0.1\n",
    "# take \"points_number\" equidistant points in [r_start, r_end]\n",
    "x_train = np.linspace(r_start, r_end, num= points_number)\n",
    "\n",
    "# run experiments for 2nd degree polynomial\n",
    "plot_pol_est_result(2, points_number, x_train, experiments_number, th0, th1, th2, th3, 0, th5, noise_mean, noise_variance)\n",
    "print('\\n')\n",
    "# run experiments for 10th degree polynomial\n",
    "plot_pol_est_result(10, points_number, x_train, experiments_number, th0, th1, th2, th3, 0, th5, noise_mean, noise_variance)"
   ]
  },
  {
   "cell_type": "markdown",
   "metadata": {
    "id": "_avWvCInVbge"
   },
   "source": [
    "<u>**Conclusions:**</u>\n",
    "\n",
    "As expected, the **$2^{nd}$ degree** polynomial <u>does not produce a good estimate</u> of the true model which is of **$5^{th}$ degree**. On the other hand, the **$10^{th}$ degree** polynomial <u>fits much better (maybe even overfits)</u> the true model. However, we have to mention that **the variance** of y points is <u>much greater in the second case</u>.\n",
    "\n",
    "**This is justified by the bias-variance dilemma**: *For <u>a fixed number</u> of train points (in our case 20), as the complexity of the estimator is increased the bias becomes smaller, but the variance of the estimates become higher because there are more free parameters to estimate between changing train set*.\n",
    "\n",
    "So for the $2^{nd}$ degree polynomial we have high bias, but generally small variance and for the $10^{th}$ degree polynomial we succeed in minimizing bias, but with the cost of much higher variance for our estimates. **In order to avoid this and minimize both terms, we need to gradually and carefully increase the number of train points and the complexity of the model.**"
   ]
  },
  {
   "cell_type": "markdown",
   "metadata": {
    "id": "QV0LolO46_PV"
   },
   "source": [
    "### 1.3"
   ]
  },
  {
   "cell_type": "markdown",
   "metadata": {
    "id": "BbljXfQjcVf5"
   },
   "source": [
    "*Importing required modules*"
   ]
  },
  {
   "cell_type": "code",
   "execution_count": null,
   "metadata": {
    "id": "IqDx-QiR7BQV"
   },
   "outputs": [],
   "source": [
    "import matplotlib.pyplot as plt \n",
    "import numpy as np \n",
    "import math"
   ]
  },
  {
   "cell_type": "markdown",
   "metadata": {
    "id": "3uFqsv8pcbPg"
   },
   "source": [
    "*Function to generate our Input & \"Experimental\" Results in arrays*"
   ]
  },
  {
   "cell_type": "code",
   "execution_count": null,
   "metadata": {
    "id": "Ora-eoNGca4U"
   },
   "outputs": [],
   "source": [
    "def x_y_actual(t0, t1, t2, t3, t5, r_step, r__start, r__end,sig):\n",
    "\n",
    "    _x = np.linspace(r__start, r__end, num= N)               #input range [0,2] including 2 \n",
    "    noise = np.random.normal(mu,math.sqrt(sig), size=(N,))   #adding random noise of input data\n",
    "    _y = t5*_x**5 + t3*_x**3 + t2*_x**2 + t1*_x + t0 + noise \n",
    "    _y_true  = t5*_x**5 + t3*_x**3 + t2*_x**2 + t1*_x + t0 \n",
    "\n",
    "    return(_x, _y, _y_true)"
   ]
  },
  {
   "cell_type": "markdown",
   "metadata": {
    "id": "yK2kiLgccsTV"
   },
   "source": [
    "*Actual polynomial model parameters and Sample range*"
   ]
  },
  {
   "cell_type": "code",
   "execution_count": null,
   "metadata": {
    "id": "VB2kF2xqcr-w"
   },
   "outputs": [],
   "source": [
    "#polynomial weights\n",
    "th0 = 0.2\n",
    "th1 = -1\n",
    "th2 = 0.9\n",
    "th3 = 0.7\n",
    "th5 = -0.2\n",
    "\n",
    "#Input data range\n",
    "r_start = 0\n",
    "r_end = 2\n",
    "N  = 20\n",
    "step = (r_end - r_start) / N\n",
    "\n",
    "# mean and standard deviation of Input noise\n",
    "mu, sigma = 0, 0.1   "
   ]
  },
  {
   "cell_type": "markdown",
   "metadata": {
    "id": "CTICTchy9OLs"
   },
   "source": [
    "*Assign values to {x, y} set*"
   ]
  },
  {
   "cell_type": "code",
   "execution_count": null,
   "metadata": {
    "id": "dFDzez0e9Nyj"
   },
   "outputs": [],
   "source": [
    "x, y , y_true = x_y_actual(th0, th1, th2, th3, th5, step, r_start, r_end, sigma)"
   ]
  },
  {
   "cell_type": "markdown",
   "metadata": {
    "id": "txcc8Hmr9XQA"
   },
   "source": [
    "Predict Results $\\rightarrow$\n",
    "*Compute parameters from Input data of the $5^{th}$ degree polynomial model with Ridge Regression*\n"
   ]
  },
  {
   "cell_type": "markdown",
   "metadata": {
    "id": "7AsU4fYu9mLB"
   },
   "source": [
    "*Parameters*"
   ]
  },
  {
   "cell_type": "code",
   "execution_count": null,
   "metadata": {
    "id": "Jy_4_CpA9edd"
   },
   "outputs": [],
   "source": [
    "poly_deg = 5\n",
    "lamda = 0.02   #Optimal value is selected by MSE least value, compputed below"
   ]
  },
  {
   "cell_type": "markdown",
   "metadata": {
    "id": "_As9x9ib9wCL"
   },
   "source": [
    " *Build vector **$X$**: [1  $x$  $x^{2}$  $x^{3}$  $x^{5}$] in range [0,2] of N points to use for trainning*"
   ]
  },
  {
   "cell_type": "code",
   "execution_count": null,
   "metadata": {
    "id": "_eTcRCiG9s7R"
   },
   "outputs": [],
   "source": [
    "Q_train = np.zeros(shape = (N,poly_deg+1))\n",
    "Q_train[:,0] = 1\n",
    "for i in range(1,poly_deg+1):\n",
    "    if i!=4:         #we do not want term x^4 to contribute\n",
    "        Q_train[:,i] = np.power(x,i).reshape((N,))   #[x, x^2, x^3, x^5] of input data x ∈ [0,2]"
   ]
  },
  {
   "cell_type": "markdown",
   "metadata": {
    "id": "rwUUtK2J94l8"
   },
   "source": [
    "*Parameter $Θ$ Calculation with train data*"
   ]
  },
  {
   "cell_type": "code",
   "execution_count": null,
   "metadata": {
    "colab": {
     "base_uri": "https://localhost:8080/"
    },
    "id": "iUUqvWmj97st",
    "outputId": "9f4d403f-bb3c-431c-c9a8-69880f279506"
   },
   "outputs": [],
   "source": [
    "#closed form solution for theta = ((X.T * X + λΙ)^-1) * Χ.Τ * Υ\n",
    "theta = np.linalg.pinv((Q_train.T.dot(Q_train) + lamda*np.eye(poly_deg+1))).dot(Q_train.T).dot(y)\n",
    "print('Theta value is:\\n',str(theta))"
   ]
  },
  {
   "cell_type": "markdown",
   "metadata": {
    "id": "QRVOa1v1-CPP"
   },
   "source": [
    "*Check MSE behaviour vs different $λ$ values & plot them*"
   ]
  },
  {
   "cell_type": "code",
   "execution_count": null,
   "metadata": {
    "colab": {
     "base_uri": "https://localhost:8080/",
     "height": 265
    },
    "id": "Qh0SvfFS-JM7",
    "outputId": "36b58e64-1b91-4cb3-fc41-4509b71a4ceb",
    "scrolled": true
   },
   "outputs": [],
   "source": [
    "import math\n",
    "\n",
    "sample_shp = 500\n",
    "\n",
    "# Initialize arrays\n",
    "mse = np.zeros((sample_shp))\n",
    "mse_better = np.zeros((sample_shp))\n",
    "\n",
    "# Define lamda values range & density\n",
    "l_str = 0\n",
    "l_end = 2.0\n",
    "step_l = (l_end - l_str) / sample_shp\n",
    "lamd_range = np.arange(l_str ,l_end, step_l)  \n",
    "i,m =0, 0\n",
    "for lamda in lamd_range:\n",
    "\n",
    "    #closed form solution for theta = ((X.T * X + λΙ)^-1) * Χ.Τ * Υ\n",
    "    theta = np.linalg.pinv((Q_train.T.dot(Q_train) + lamda*np.eye(poly_deg+1))).dot(Q_train.T).dot(y)\n",
    "\n",
    "    prev = 0 \n",
    "    for k in range(len(y)):\n",
    "    \n",
    "        mse[i] = prev + pow(Q_train.dot(theta)[k] - y_true[k],2)  \n",
    "        prev =  mse[i]\n",
    "\n",
    "    if mse[i] < mse[0]:\n",
    "        mse_better[i] = mse[i]\n",
    "\n",
    "\n",
    "    i = i+1\n",
    "\n",
    "opt = np.argmin(mse)    #index of optimal lamda (least value of MSE)\n",
    "mse_better[ mse_better==0 ] = np.nan\n",
    "\n",
    "# Plot to see the dependency\n",
    "\n",
    "plt.plot(lamd_range, mse_better , 'r|',linewidth=0, label='MSE better than LS for these lamda',markersize=6)\n",
    "plt.plot(lamd_range, mse, 'k.',linewidth=0, label='MSE vs lamda',markersize=2)\n",
    "plt.plot(lamd_range[opt], mse[opt], 'g^',linewidth=0, label='optimal lamda')\n",
    "plt.legend()\n",
    "plt.show()\n"
   ]
  },
  {
   "cell_type": "markdown",
   "metadata": {
    "id": "gZIoBN3Z-Vlz"
   },
   "source": [
    "**Optimal Lamda**"
   ]
  },
  {
   "cell_type": "code",
   "execution_count": null,
   "metadata": {
    "colab": {
     "base_uri": "https://localhost:8080/"
    },
    "id": "MdzuzEQr-SMd",
    "outputId": "69e0de89-3de4-49b2-aa0f-ed6c099114bd"
   },
   "outputs": [],
   "source": [
    "found =  mse[opt] - min(mse)\n",
    "print('Ridge regression Method.\\nFor the optimal value of lamda = ', str(lamd_range[opt]),\", the least MSE is= \", str(round(mse[opt],3)))\n",
    "print(\"\\n\\nLeast Squares Method:\\nMSE=\",str((round(mse[0],3))))\n"
   ]
  },
  {
   "cell_type": "markdown",
   "metadata": {
    "id": "oRfWIbMHd5BL"
   },
   "source": [
    "<u>**Conclusions:**</u>\n",
    "\n",
    "From the graph above we can observe that for different values of lamda, exist some values (noted with red line) for which, MSE value is reduced compared with the MSE using Least Squares method(*λ*=0). Giving that, we can conclude that adding proper value of bias can improve the predictions of the problem."
   ]
  },
  {
   "cell_type": "markdown",
   "metadata": {
    "id": "A_kirO4W7AKE"
   },
   "source": [
    "### 1.4"
   ]
  },
  {
   "cell_type": "code",
   "execution_count": null,
   "metadata": {
    "id": "cw4yoiGF7E6b"
   },
   "outputs": [],
   "source": [
    "#  Assignment 1 - iv - Full Bayesian Regression (θο equal to true parameter vector)\n",
    "\n",
    "# importing the required module \n",
    "import matplotlib.pyplot as plt \n",
    "import numpy as np\n",
    "import random\n",
    "import math"
   ]
  },
  {
   "cell_type": "markdown",
   "metadata": {
    "id": "EKiGX-u1-O6Z"
   },
   "source": [
    "Below you can see a function to acquire the **y train data** for a <u>N size input vector</u> from a given $5^{th}$ degree polynomial with *random i.i.d. noise samples* originating from a Gaussian distribution added for each point."
   ]
  },
  {
   "cell_type": "code",
   "execution_count": null,
   "metadata": {
    "id": "mfdBVu4W-O6a"
   },
   "outputs": [],
   "source": [
    "def get_y_train(t0, t1, t2, t3, t4, t5, mu, variance, N, x):\n",
    "\n",
    "    noise = np.random.normal(mu,math.sqrt(variance), size=(N,))  # An N-size vector of random gaussian noise samples with mean value equal to \"mean\" variable and variance equal to \"variance\" variable\n",
    "    y = t5*x**5 + t4*x**4 + t3*x**3 + t2*x**2 + t1*x + t0 + noise # The N-size vector of our y_train data\n",
    "\n",
    "    return (y)"
   ]
  },
  {
   "cell_type": "markdown",
   "metadata": {
    "id": "xwo2fczq-O6b"
   },
   "source": [
    "We use the true parameter vector as the mean $θ_{0}$. We also get 20 random test points in [0, 2] interval."
   ]
  },
  {
   "cell_type": "code",
   "execution_count": null,
   "metadata": {
    "id": "___poR6A-O6b"
   },
   "outputs": [],
   "source": [
    "th = [-1, 0.9, 0.7, 0, -0.2, 0.2] # true paremeter vector\n",
    "random.seed()\n",
    "x_random = np.array([])\n",
    "for i in range(0, 20):\n",
    "    x_random = np.append(x_random, [random.random()*2]) # random.random() return random points in [0, 1] therefore we multiply with 2"
   ]
  },
  {
   "cell_type": "markdown",
   "metadata": {
    "id": "cC7gIguR-O6c"
   },
   "source": [
    "i) 1st case:\n",
    "   Ν = 20 , $σ_{η}^{2}$ = 0.05, $σ_{θ}^{2}$ = 0.1 "
   ]
  },
  {
   "cell_type": "markdown",
   "metadata": {
    "id": "qIyx_8Nc-O6c"
   },
   "source": [
    "We assign the values which are necessary for this case on the variables sigma_h, N, sigma_theta."
   ]
  },
  {
   "cell_type": "code",
   "execution_count": null,
   "metadata": {
    "id": "ycoQxMHa-O6d"
   },
   "outputs": [],
   "source": [
    "sigma_h = 0.05\n",
    "N = 20\n",
    "sigma_theta = 0.1\n"
   ]
  },
  {
   "cell_type": "markdown",
   "metadata": {
    "id": "ztbrih3d-O6d"
   },
   "source": [
    "The true model structure is used in order to construct the **matrix Phi**."
   ]
  },
  {
   "cell_type": "code",
   "execution_count": null,
   "metadata": {
    "id": "pVkfPPOU-O6d"
   },
   "outputs": [],
   "source": [
    "x_train = np.linspace(0, 2, num= N) # get N equidistant point in [0, 2] inverval\n",
    "y_train = get_y_train(th[5], th[0], th[1], th[2], th[3], th[4], 0, sigma_h, N, x_train) # get the y train data for the given input and parameters\n",
    "\n",
    "pol_degree = 5\n",
    "\n",
    "Phi = np.zeros(shape = (N,(pol_degree + 1))) # 6 = polynomial degree + 1\n",
    "Phi[:, -1] = 1 # last column, all rows equal to 1 for the fixed term of θ_0\n",
    "\n",
    "phi_x_random = [] # this is going to be used for calculating y estimates for the random points\n",
    "for i in range(0,5):\n",
    "    phi_x_random.append(np.power(x_random,i+1)*th[i]) # φ(x) matrix calculation (actually φ(x) is a vector but here is a matrix because we compute its values for all points in x_random vector)\n",
    "    Phi[:,i] = np.power(x_train,i+1)*th[i] # Φ calculation\n",
    "\n",
    "phi_x_random.append(np.array([1]*x_random.shape[0]))  # append a vector of ones as last element, according to theory\n",
    "\n"
   ]
  },
  {
   "cell_type": "markdown",
   "metadata": {
    "id": "zK0_nT5Q-O6e"
   },
   "source": [
    "We calculate the predicted values of y and we plot them corresponding to the input value x (blue points of the diagram)."
   ]
  },
  {
   "cell_type": "code",
   "execution_count": null,
   "metadata": {
    "colab": {
     "base_uri": "https://localhost:8080/",
     "height": 295
    },
    "id": "eadbTOLa-O6f",
    "outputId": "6828f9d3-3a55-4d3d-9444-c375681b6db4"
   },
   "outputs": [],
   "source": [
    "est_th_y = th + 1 / sigma_h * np.linalg.inv(1 / sigma_theta * np.eye(6) + 1 / sigma_h * Phi.T.dot(Phi)).dot(Phi.T).dot(y_train - Phi.dot(th))\n",
    "\n",
    "# print('μ_θ_y:')\n",
    "# print(est_th_y)\n",
    "# print('\\n')\n",
    "phi_x_random = np.array(phi_x_random) # turn the list into an array\n",
    "\n",
    "est_y = phi_x_random.T.dot(est_th_y) # calculation of the estimates of the model full bayesian inference produce, for the points in x_random vector\n",
    "\n",
    "sigma_y = sigma_h + sigma_h * sigma_theta * phi_x_random.T.dot(np.linalg.inv(sigma_h * np.eye(6) + sigma_theta * Phi.T.dot(Phi))).dot(phi_x_random) # variance - covariance matrix\n",
    "y_var = sigma_y.diagonal()\n",
    "\n",
    "#### True model calculation\n",
    "x_true = np.linspace(0, 2, 100) # to simulate continuity we increase the number of points\n",
    "y_true = th[4]*x_true**5 + th[2]*x_true**3 + th[1]*x_true**2 + th[0]*x_true + th[5] # true model has no noise added\n",
    "\n",
    "plt.errorbar(x_random, est_y, marker= 'o', markersize=2, linewidth=0, yerr= y_var, elinewidth = 1, capsize = 5, label='bayes')\n",
    "plt.plot(x_true, y_true, '-g', linewidth=2, label= 'true_model')\n",
    "\n",
    "# naming the x axis \n",
    "plt.xlabel('x - axis') \n",
    "# naming the y axis \n",
    "plt.ylabel('y - axis') \n",
    "\n",
    "# giving a title to my graph \n",
    "plt.title('True Model vs Full Bayesian Inference Regression') \n",
    "\n",
    "# function to show the plot \n",
    "plt.legend(bbox_to_anchor=(1.05, 1), loc='upper left', borderaxespad=0.)\n",
    "plt.show()"
   ]
  },
  {
   "cell_type": "markdown",
   "metadata": {
    "id": "SI72jcl6-O6g"
   },
   "source": [
    "ii) 2nd case:\n",
    "Ν = 20 , $σ_{η}^{2}$ = 0.05, $σ_{θ}^{2}$ = 0.1 "
   ]
  },
  {
   "cell_type": "markdown",
   "metadata": {
    "id": "W7GmOSfx-O6g"
   },
   "source": [
    "We assign the values which are necessary for this case on the variables sigma_h, N, sigma_theta. The same random points are going to be used in order to extract useful and meaningful conclusions."
   ]
  },
  {
   "cell_type": "code",
   "execution_count": null,
   "metadata": {
    "id": "6jY0VQPB-O6h"
   },
   "outputs": [],
   "source": [
    "sigma_h = 0.15\n",
    "N = 20\n",
    "sigma_theta = 0.1"
   ]
  },
  {
   "cell_type": "markdown",
   "metadata": {
    "id": "oumy-APe-O6i"
   },
   "source": [
    "The true model structure is used in order to construct the **matrix Phi**."
   ]
  },
  {
   "cell_type": "code",
   "execution_count": null,
   "metadata": {
    "id": "8CnHdv_s-O6j"
   },
   "outputs": [],
   "source": [
    "x_train = np.linspace(0, 2, num= N)\n",
    "y_train = get_y_train(th[5], th[0], th[1], th[2], th[3], th[4], 0, sigma_h, N, x_train)\n",
    "\n",
    "pol_degree = 5\n",
    "Phi = np.zeros(shape = (N,(pol_degree + 1))) # 6 = polynomial degree + 1\n",
    "Phi[:, -1] = 1\n",
    "\n",
    "phi_x_random = [] # in fact the calculation of phi_x_random could have been avoided, since the paremeters it's depending on did not change, but we recalculate it here for independence of experiments\n",
    "for i in range(0,5):\n",
    "    phi_x_random.append(np.power(x_random,i+1)*th[i])\n",
    "    Phi[:,i] = np.power(x_train,i+1)*th[i]\n",
    "\n",
    "phi_x_random.append(np.array([1]*x_random.shape[0]))"
   ]
  },
  {
   "cell_type": "markdown",
   "metadata": {
    "id": "95e78sQmqqT4"
   },
   "source": [
    "We calculate the predicted values of y and we plot them corresponding to the input value x (blue points of the diagram)."
   ]
  },
  {
   "cell_type": "code",
   "execution_count": null,
   "metadata": {
    "colab": {
     "base_uri": "https://localhost:8080/",
     "height": 295
    },
    "id": "_x7nC4ax-O6m",
    "outputId": "b900ac0c-d5a7-447a-e69b-785f8a831c63"
   },
   "outputs": [],
   "source": [
    "est_th_y = th + 1 / sigma_h * np.linalg.inv(1 / sigma_theta * np.eye(6) + 1 / sigma_h * Phi.T.dot(Phi)).dot(Phi.T).dot(y_train - Phi.dot(th))\n",
    "\n",
    "# print('μ_θ_y:')\n",
    "# print(est_th_y)\n",
    "# print('\\n')\n",
    "phi_x_random = np.array(phi_x_random) # turn the list into an array\n",
    "\n",
    "est_y = phi_x_random.T.dot(est_th_y) # calculation of the estimates of the model full bayesian inference produce, for the points in x_random vector\n",
    "\n",
    "\n",
    "# print('μ_y:')\n",
    "# print(est_y)\n",
    "# print('\\n')\n",
    "\n",
    "# calculation of errors/variances for the estimates (variance - covariance matrix)\n",
    "sigma_y = sigma_h + sigma_h * sigma_theta * phi_x_random.T.dot(np.linalg.inv(sigma_h * np.eye(6) + sigma_theta * Phi.T.dot(Phi))).dot(phi_x_random) # variance - covariance matrix\n",
    "# we keep only the elements of the diagonal of the covariance matrix which correspond to the variances we are interested in \n",
    "y_var = sigma_y.diagonal() \n",
    "\n",
    "\n",
    "#### True model calculation\n",
    "x_true = np.linspace(0, 2, 100)\n",
    "y_true = th[4]*x_true**5 + th[2]*x_true**3 + th[1]*x_true**2 + th[0]*x_true + th[5]\n",
    "\n",
    "plt.errorbar(x_random, est_y, marker= 'o', markersize=2, linewidth=0, yerr= y_var, elinewidth = 1, capsize = 5, label='bayes')\n",
    "plt.plot(x_true, y_true, '-g', linewidth=2, label= 'true_model')\n",
    "\n",
    "# naming the x axis \n",
    "plt.xlabel('x - axis') \n",
    "# naming the y axis \n",
    "plt.ylabel('y - axis') \n",
    "\n",
    "# giving a title to my graph \n",
    "plt.title('True Model vs Full Bayesian Inference Regression') \n",
    "\n",
    "# function to show the plot \n",
    "plt.legend(bbox_to_anchor=(1.05, 1), loc='upper left', borderaxespad=0.)\n",
    "\n",
    "plt.show()"
   ]
  },
  {
   "cell_type": "markdown",
   "metadata": {
    "id": "SQEH2Mb3-O6n"
   },
   "source": [
    "<u>**Conclusions:**</u>\n",
    "\n",
    "As it is clear the value of N = 20 is large enough in order to have the best predictions. Moreover, we can observe that the larger the noise variance is, the larger the error bars (the variance of estimations/predictions) become."
   ]
  },
  {
   "cell_type": "markdown",
   "metadata": {
    "id": "p6cDFpTt7Hc1"
   },
   "source": [
    "### 1.5"
   ]
  },
  {
   "cell_type": "code",
   "execution_count": null,
   "metadata": {
    "id": "6tnFo3Je7HFH"
   },
   "outputs": [],
   "source": [
    "#  Problem 1 - v - Full Bayesian Regression (mean vector θο not equal to true parameter vector)\n",
    "\n",
    "# importing the required module \n",
    "import matplotlib.pyplot as plt \n",
    "import numpy as np\n",
    "import random\n",
    "import math"
   ]
  },
  {
   "cell_type": "markdown",
   "metadata": {
    "id": "lyGVslqkqRaK"
   },
   "source": [
    "Below you can see a function to acquire the **y train data** for a <u>N size input vector</u> from a given $5^{th}$ degree polynomial with *random i.i.d. noise samples* originating from a Gaussian distribution added for each point."
   ]
  },
  {
   "cell_type": "code",
   "execution_count": null,
   "metadata": {
    "id": "jJUIpBSZqR-R"
   },
   "outputs": [],
   "source": [
    "def get_y_train(t0, t1, t2, t3, t4, t5, mu, variance, N, x):\n",
    "\n",
    "    noise = np.random.normal(mu,math.sqrt(variance), size=(N,)) # An N-size vector of random gaussian noise samples with mean value equal to \"mean\" variable and variance equal to \"variance\" variable\n",
    "    y = t5*x**5 + t4*x**4 + t3*x**3 + t2*x**2 + t1*x + t0 + noise # The N-size vector of our y_train data\n",
    "\n",
    "    return (y)"
   ]
  },
  {
   "cell_type": "markdown",
   "metadata": {
    "id": "RQgmXrOaqj9-"
   },
   "source": [
    "Below you can see a function that **implements full bayesian inference** for *N training points* and with *variance sigma_theta for the Gaussian function of the prior*. The **mean vector $θ_{0}$** is <u>following the correct model as for the polynomial degree but with different values from the true model</u>. Finally a plot of the estimates and their errors for the points in the x_random vector is drawn."
   ]
  },
  {
   "cell_type": "code",
   "execution_count": null,
   "metadata": {
    "id": "M5RhkU9BqkPn"
   },
   "outputs": [],
   "source": [
    "def bayesian_inference(N, sigma_theta, x_random):\n",
    "\n",
    "    x_train = np.linspace(0, 2, num= N) # get N equidistant point in [0, 2] inverval\n",
    "    th = [-1, 0.9, 0.7, 0, -0.2, 0.2]  # true paremeter vector\n",
    "    theta_zero = np.array([-10.54, 0.465, 0.0087, 0, -0.093, -0.004]) # get the array from a list of values for mean θ0 vector\n",
    "    sigma_h = 0.05 # variance of the noise gaussian model\n",
    "\n",
    "    y_train = get_y_train(th[5], th[0], th[1], th[2], th[3], th[4], 0, sigma_h, N, x_train) # get the y train data for the given input and parameters\n",
    "\n",
    "    Phi = np.zeros(shape = (N,6)) # 6 = polynomial degree + 1\n",
    "    Phi[:, -1] = 1 # last column, all rows equal to 1 for the fixed term of θ_0\n",
    "\n",
    "    phi_x_random = [] # this is going to be used for calculating y estimates for the random points\n",
    "    for i in range(0,5):\n",
    "        phi_x_random.append(np.power(x_random,i+1)*theta_zero[i]) # φ(x) matrix calculation (actually φ(x) is a vector but here is a matrix because we compute its values for all points in x_random vector)\n",
    "        Phi[:,i] = np.power(x_train,i+1)*theta_zero[i] # Φ calculation\n",
    "\n",
    "    phi_x_random.append(np.array([1]*x_random.shape[0])) # append a vector of ones as last element, according to theory\n",
    "\n",
    "    est_th_y = theta_zero + 1 / sigma_h * np.linalg.inv(1 / sigma_theta * np.eye(6) + 1 / sigma_h * Phi.T.dot(Phi)).dot(Phi.T).dot(y_train - Phi.dot(theta_zero)) # calculation of estimates for θ vector for the given y train data\n",
    "\n",
    "    # print('μ_θ_y:')\n",
    "    # print(est_th_y)\n",
    "    # print('\\n')\n",
    "    phi_x_random = np.array(phi_x_random) # turn the list into an array\n",
    "\n",
    "    est_y = phi_x_random.T.dot(est_th_y) # calculation of the estimates of the model full bayesian inference produce, for the points in x_random vector\n",
    "\n",
    "    # print('μ_y:')\n",
    "    # print(est_y)\n",
    "    # print('\\n')\n",
    "\n",
    "    sigma_y = sigma_h + sigma_h * sigma_theta * phi_x_random.T.dot(np.linalg.inv(sigma_h * np.eye(6) + sigma_theta * Phi.T.dot(Phi))).dot(phi_x_random) # calculation of errors/variances for the estimates (variance - covariance matrix)\n",
    "    y_var = sigma_y.diagonal() # we keep only the elements of the diagonal of the covariance matrix which correspond to the variances we are interested in \n",
    "\n",
    "    #### True model calculation\n",
    "    x_true = np.linspace(0, 2, 100) # to simulate continuity we increase the number of points\n",
    "    y_true = th[4]*x_true**5 + th[2]*x_true**3 + th[1]*x_true**2 + th[0]*x_true + th[5] # true model has no noise added\n",
    "\n",
    "    plt.errorbar(x_random, est_y, marker= 'o', markersize=2, linewidth=0, yerr= y_var, elinewidth = 1, capsize = 5, label='full bayesian inference N: ' + str(N) + ', σ_θ: ' + str(sigma_theta))\n",
    "    plt.plot(x_true, y_true, '-g', linewidth=1, label= 'true_model')\n",
    "\n",
    "    # naming the x axis \n",
    "    plt.xlabel('x - axis') \n",
    "    # naming the y axis \n",
    "    plt.ylabel('y - axis') \n",
    "\n",
    "    # giving a title to my graph \n",
    "    plt.title('True Model vs Full Bayesian Inference Regression') \n",
    "\n",
    "    # function to show the plot \n",
    "    plt.legend(bbox_to_anchor=(1.05, 1), loc='upper left', borderaxespad=0.)\n",
    "    plt.show()"
   ]
  },
  {
   "cell_type": "markdown",
   "metadata": {
    "id": "B24Tjzryqk19"
   },
   "source": [
    "We get **20 random points in [0, 2] interval** and use the same in each experiment for better and more meaningful comparisons and conclusions. Then we run the 4 seperate experiments."
   ]
  },
  {
   "cell_type": "code",
   "execution_count": null,
   "metadata": {
    "colab": {
     "base_uri": "https://localhost:8080/",
     "height": 1000
    },
    "id": "8qCPL9S4qlFn",
    "outputId": "edd6bba6-d0a5-4570-f7b9-37d028fb3c75"
   },
   "outputs": [],
   "source": [
    "random.seed()\n",
    "x_random = np.array([])\n",
    "for i in range(0, 20):\n",
    "    x_random = np.append(x_random, [random.random()*2]) # random.random() return random points in [0, 1] therefore we multiply with 2\n",
    "\n",
    "bayesian_inference(20, 0.1, x_random) # N = 20, sigma_theta = 0.1\n",
    "print('\\n')\n",
    "bayesian_inference(20, 2, x_random) # N = 20, sigma_theta = 2\n",
    "print('\\n')\n",
    "bayesian_inference(500, 0.1, x_random) # N = 500, sigma_theta = 0.1\n",
    "print('\\n')\n",
    "bayesian_inference(500, 2, x_random) # N = 500, sigma_theta = 2"
   ]
  },
  {
   "cell_type": "markdown",
   "metadata": {
    "id": "E2IGhviSx9jE"
   },
   "source": [
    "<u>**Conclusions:**</u>\n",
    "\n",
    "*The results we get for the above 4 experiments were the expected ones according to theory.*\n",
    "\n",
    "The first safe comment that we can make is that <u>for a fixed number of points</u>, **as the variance (uncertainty) of the prior increases, we get better fit for**, <u>which is normal in our case</u>: we have adopted a model correct regarding the degree of the polynomial but **we are not certain about our initial estimates for $θ_{0}$** mean vector of the prior. Therefore **greater variance takes this into account and produces better predictions**.\n",
    "\n",
    "Furthermore, **our estimates approximate/fit better the true model curve as the N increases while keeping constant the variance of the prior**. This is also justified, since <u>more training points is natural to give better results for our prediction even with small variance of the prior</u>.\n",
    "\n",
    "In general as we **increase both the number of training points and the variance of the prior, we get better estimation of the true model**. <u>Also, we do not observe significant differences in the errors of the estimates</u>, although it seems to become a little smaller for greater N and slightly greater as $σ_{θ}$ increases (normal according to theory equation)."
   ]
  },
  {
   "cell_type": "markdown",
   "metadata": {
    "id": "g2Rb1qJ87JVk"
   },
   "source": [
    "### 1.6"
   ]
  },
  {
   "cell_type": "markdown",
   "metadata": {
    "id": "iIt_GHU_7M4_"
   },
   "source": [
    "Expectation Maximization Method"
   ]
  },
  {
   "cell_type": "code",
   "execution_count": null,
   "metadata": {},
   "outputs": [],
   "source": [
    "# importing the required module \n",
    "import matplotlib.pyplot as plt \n",
    "import numpy as np\n",
    "import random\n",
    "import math"
   ]
  },
  {
   "cell_type": "markdown",
   "metadata": {},
   "source": [
    "Generate Training Data function"
   ]
  },
  {
   "cell_type": "code",
   "execution_count": null,
   "metadata": {},
   "outputs": [],
   "source": [
    "#Build  N = 500 sample Data (training data set) in [0,2] that follow the form y = th0 + th1.x + th2.x^2 + th3.x^3 + th5.x^5 (Eq.1)  with sigma^2=0.05.\n",
    "def y_training_set(t0, t1, t2, t3, t5, mu,variance, N_sam, r__start, r__end):\n",
    "\n",
    "    x = np.linspace(r_start, r_end, num= N_sam)     #includes 2 in range [0,2]\n",
    "    noise = np.random.normal(mu,math.sqrt(variance), size=(N_sam,))  \n",
    "    y = t5*x**5 + t3*x**3 + t2*x**2 + t1*x + t0 + noise\n",
    "    \n",
    "    return(x, y)"
   ]
  },
  {
   "cell_type": "markdown",
   "metadata": {},
   "source": [
    "Parameter Values"
   ]
  },
  {
   "cell_type": "code",
   "execution_count": null,
   "metadata": {},
   "outputs": [],
   "source": [
    "#Vector Parameter (True)\n",
    "th0 = 0.2\n",
    "th1 = -1\n",
    "th2 = 0.9\n",
    "th3 = 0.7\n",
    "th5 = -0.2\n",
    "\n",
    "#data range\n",
    "r_start = 0\n",
    "r_end = 2\n",
    "N  = 500\n",
    "\n",
    "mu, sigma = 0, 0.05 # mean and standard deviation\n",
    "\n",
    "th = [-1, 0.9, 0.7, 0, -0.2, 0.2]  # true paremeter vector"
   ]
  },
  {
   "cell_type": "markdown",
   "metadata": {},
   "source": [
    "Train Set"
   ]
  },
  {
   "cell_type": "code",
   "execution_count": null,
   "metadata": {},
   "outputs": [],
   "source": [
    "x, y = y_training_set(th0, th1, th2, th3, th5, mu,sigma,N, r_start, r_end)"
   ]
  },
  {
   "cell_type": "markdown",
   "metadata": {},
   "source": [
    "Test Set"
   ]
  },
  {
   "cell_type": "code",
   "execution_count": null,
   "metadata": {},
   "outputs": [],
   "source": [
    "random.seed()\n",
    "x_random = np.array([])\n",
    "for i in range(0, 20):\n",
    "    x_random = np.append(x_random, [random.random()*2])\n",
    "\n",
    "Phi = np.zeros(shape = (N,6)) # 6 = polynomial degree + 1\n",
    "Phi[:, -1] = 1\n",
    "\n",
    "phi_x_random = []\n",
    "for i in range(0,5):\n",
    "    phi_x_random.append(np.power(x_random,i+1)*th[i])\n",
    "    Phi[:,i] = np.power(x,i+1)*th[i]\n",
    "\n",
    "phi_x_random.append(np.array([1]*x_random.shape[0]))\n",
    "phi_x_random = np.array(phi_x_random)"
   ]
  },
  {
   "cell_type": "markdown",
   "metadata": {},
   "source": [
    "Expectation-Maximization Repetitions in order to aproximate the values of $σ_{η}$ & $σ_{θ}$"
   ]
  },
  {
   "cell_type": "code",
   "execution_count": null,
   "metadata": {},
   "outputs": [],
   "source": [
    "# Define convergence threshold\n",
    "e = 0.0001\n",
    "\n",
    "k = 6 # θ dimensionality\n",
    "\n",
    "a_temp = 1 #sigma-theta^-2\n",
    "b_temp = 1 #sigma-ita^-2\n",
    "\n",
    "A = 0.0   #A capital\n",
    "B  = 0.0   #B capital\n",
    "step = 1\n",
    "\n",
    "while True:  #random range of iretations to make sure it converges. Instead should be a_temp-a_temp(previous)< e & b_temp-b_temp(previous)< e\n",
    "\n",
    "    # Replace the equations of EM \n",
    "    sigma2_th_wrt_y = np.linalg.inv(a_temp * np.eye(Phi.shape[1]) + b_temp * (Phi.T).dot(Phi))   #Σ.θ|y = (αI+bΦ.ΤΦ) ^-1\n",
    "    mi_th_wrt_y = b_temp * ((sigma2_th_wrt_y.dot(Phi.T)).dot(y))   #μ.θ|y = β*Σ.θ|y*Φ.Τ*y\n",
    "\n",
    "    a_tmp_prev = a_temp\n",
    "    b_tmp_prev = b_temp\n",
    "\n",
    "    A = np.linalg.norm(mi_th_wrt_y)**2  + np.matrix.trace(sigma2_th_wrt_y)    # ||μ.θ|y ||^2 + trace(Σ.θ|y)\n",
    "    B  = np.linalg.norm(y-Phi.dot(mi_th_wrt_y))**2 + np.matrix.trace(Phi.dot(sigma2_th_wrt_y).dot(Phi.T))   # ||y-Φμ.θ|y ||^2 + trace(Φ*Σ.θ|y*Φ.Τ)\n",
    "\n",
    "    a_temp = k/A\n",
    "    b_temp = N/B\n",
    "    \n",
    "    differ_a =  abs(a_temp - a_tmp_prev)     # a_temp-a_temp(j-1)< e \n",
    "    differ_b =  abs(b_temp  - b_tmp_prev)    #& b_temp-b_temp(j-1)<e\n",
    "    \n",
    "    print('\\n',step, '. ' , 'σ_{θ} = ' , round((1/a_temp),3), 'σ_{η} = ' , round((1/b_temp),3))\n",
    "    print(\"\\n   Διαφορά από Επανάληψη: \",  round(differ_a,5),   round(differ_b,5) )\n",
    "    if (differ_a < e and differ_b < e):\n",
    "        break\n",
    "    step += 1"
   ]
  },
  {
   "cell_type": "markdown",
   "metadata": {},
   "source": [
    "Calculate final $σ_{η}$ & $σ_{θ}$"
   ]
  },
  {
   "cell_type": "code",
   "execution_count": null,
   "metadata": {},
   "outputs": [],
   "source": [
    "# calculate Σ_θ_y and μ_θ_y for converged a_temp and b_temp\n",
    "sigma2_th_wrt_y = np.linalg.inv(a_temp * np.eye(Phi.shape[1]) + b_temp * (Phi.T).dot(Phi))   #Σ.θ|y = (αI+bΦ.ΤΦ) ^-1\n",
    "mi_th_wrt_y = b_temp * ((sigma2_th_wrt_y.dot(Phi.T)).dot(y))   #μ.θ|y = β*Σ.θ|y*Φ.Τ*y\n",
    "est_y = phi_x_random.T.dot(mi_th_wrt_y)\n",
    "sigma_h = 1/b_temp\n",
    "sigma_theta = 1/a_temp"
   ]
  },
  {
   "cell_type": "markdown",
   "metadata": {},
   "source": [
    "Plot Expected points (with uncertainty) together with true model Curve"
   ]
  },
  {
   "cell_type": "code",
   "execution_count": null,
   "metadata": {},
   "outputs": [],
   "source": [
    "sigma_y = sigma_h + sigma_h * sigma_theta * phi_x_random.T.dot(np.linalg.inv(sigma_h * np.eye(6) + sigma_theta * Phi.T.dot(Phi))).dot(phi_x_random) # variance - covariance matrix\n",
    "y_var = sigma_y.diagonal()\n",
    "\n",
    "x_true = np.linspace(0, 2, 100)\n",
    "y_true = th[4]*x_true**5 + th[2]*x_true**3 + th[1]*x_true**2 + th[0]*x_true + th[5]\n",
    "\n",
    "\n",
    "# plt.plot(x_train, est_y, marker= 'o', markersize=5, linewidth=0, label='bayes')\n",
    "plt.errorbar(x_random, est_y, marker= 'o', markersize=2, linewidth=0, yerr= y_var, elinewidth = 1, capsize = 5, label='Expectation-Maxizimation')\n",
    "plt.plot(x_true, y_true, '-g', linewidth=1, label= 'true_model')\n",
    "\n",
    "# naming the x axis \n",
    "plt.xlabel('x - axis') \n",
    "# naming the y axis \n",
    "plt.ylabel('y - axis') \n",
    "\n",
    "# giving a title to my graph \n",
    "plt.title('True Model vs Expectation-Maximization Regression') \n",
    "\n",
    "# function to show the plot \n",
    "plt.legend(bbox_to_anchor=(1.05, 1), loc='upper left', borderaxespad=0.)\n",
    "plt.show()"
   ]
  },
  {
   "cell_type": "markdown",
   "metadata": {},
   "source": [
    "The expectation points follow quite closely the model. \n",
    "\n",
    "The prices converged in a small number of repetitions."
   ]
  },
  {
   "cell_type": "markdown",
   "metadata": {
    "id": "jyNBGEi57L9H"
   },
   "source": [
    "## Problem 2"
   ]
  },
  {
   "cell_type": "markdown",
   "metadata": {
    "id": "x4AZiyPnX5Ej"
   },
   "source": [
    "**ATTENTION!**\n",
    "\n",
    "<u>In order the code in below cells to work properly, the data set files should be in the same folder with the notebook, as we have provided them to you. Otherwise, you should change the path for the file read command.</u>"
   ]
  },
  {
   "cell_type": "markdown",
   "metadata": {
    "id": "rSWoM7Ko7buG"
   },
   "source": [
    "### 2.1"
   ]
  },
  {
   "cell_type": "markdown",
   "metadata": {
    "id": "e2qsSQA6riw0"
   },
   "source": [
    "\n",
    "\n",
    "Import modules\n",
    "\n"
   ]
  },
  {
   "cell_type": "code",
   "execution_count": null,
   "metadata": {
    "id": "88JLXBUXhNjp"
   },
   "outputs": [],
   "source": [
    "from csv import reader\n",
    "from math import sqrt\n",
    "import matplotlib.pyplot as plt\n",
    "import numpy as np  \n",
    "from random import randrange"
   ]
  },
  {
   "cell_type": "markdown",
   "metadata": {
    "id": "ZVrz7Joqr7-e"
   },
   "source": [
    "Function Definitions"
   ]
  },
  {
   "cell_type": "markdown",
   "metadata": {
    "id": "IRIrasQCsnmY"
   },
   "source": [
    "\n",
    "\n",
    "> Genereic functions\n",
    "\n"
   ]
  },
  {
   "cell_type": "code",
   "execution_count": null,
   "metadata": {
    "id": "a-TL2izusTgF"
   },
   "outputs": [],
   "source": [
    "def load_file(filename):\n",
    "    dataset = list()\n",
    "    with open(filename, 'r') as file:\n",
    "        file_reader = reader(file)\n",
    "        for row in file_reader:\n",
    "            if not row:\n",
    "                continue\n",
    "            dataset.append(row)\n",
    "   \n",
    "    return dataset\n",
    "\n",
    "\n",
    "def most_frequent(List): \n",
    "    counter = 0\n",
    "    num = List[0] \n",
    "      \n",
    "    for i in List: \n",
    "        curr_frequency = List.count(i) \n",
    "        if(curr_frequency> counter): \n",
    "            counter = curr_frequency \n",
    "            num = i \n",
    "  \n",
    "    return num \n",
    "\n",
    "# Convert string column to float\n",
    "def str_column_to_float(dataset, column):\n",
    "    for row in dataset:\n",
    "        row[column] = float(row[column].strip())\n",
    "\n",
    "\n",
    "# Distance of 2 vectors of dataset\n",
    "def find_distance(row1, row2):\n",
    "    distance = 0.0\n",
    "    for i in range(len(row1)-1):\n",
    "        distance += (row1[i] - row2[i])**2\n",
    "\n",
    "    return sqrt(distance)"
   ]
  },
  {
   "cell_type": "markdown",
   "metadata": {
    "id": "LdxsFIKwstaq"
   },
   "source": [
    "\n",
    "\n",
    ">KNN algorithm help functions\n",
    "\n"
   ]
  },
  {
   "cell_type": "code",
   "execution_count": null,
   "metadata": {
    "id": "Ew58Bvnt2pOl"
   },
   "outputs": [],
   "source": [
    " # Locate the most similar neighbors\n",
    "def find_most_freq_neighbor(knn_num, train_set, test_row):\n",
    "    distances = list()\n",
    "    sorted_dist = list()\n",
    "    neighbors = list()\n",
    "  \n",
    "    for i in train_set:\n",
    "        row_dis = find_distance(i, test_row)\n",
    "        distances.append((i, row_dis))\n",
    "  \n",
    "    # get k neighbors with the smallest distance\n",
    "    distances.sort(key=lambda tup: tup[1])\n",
    "    for j in range(knn_num):\n",
    "        neighbors.append(distances[j][0])\n",
    "  \n",
    "    # i want to find in which class belong the majority of the k neighbors\n",
    "    class_of_knn=most_frequent(neighbors)\n",
    "    return class_of_knn[-1]\n",
    "\n",
    "\n",
    "\n",
    " # We need to create a train set & a test set, compare them & check success percentage\n",
    "def compute_knn_success_w_cross_val(dataset, n_folds):  #cross_validation_split\n",
    "    dataset_split = list()\n",
    "    dataset_copy = list(dataset)\n",
    "    fold_size = int(len(dataset) / n_folds)\n",
    " \n",
    "    #   ----------- Fold level --------------------\n",
    "    for r in range(n_folds):\n",
    "        fold = list()\n",
    "\n",
    "        while len(fold) < fold_size:\n",
    "            index = randrange(len(dataset_copy))  #steal randomly records of the data set & create a group of \"len(dataset) / n_folds\" records\n",
    "            fold.append(dataset_copy.pop(index))\n",
    "        dataset_split.append(fold)  \n",
    "\n",
    "#     -------- level of each Group of each Fold --------------------\n",
    "# Create a train_set, a test_set w/o class specification, & a set of actual class of test set  \n",
    "    succ_perc_sum = 0\n",
    "    for grp in dataset_split:\n",
    "        train_set = list(dataset_split)\n",
    "        train_set.remove(grp)\n",
    "        train_set = sum(train_set, [])\n",
    "        test_set = list()\n",
    "        actual_test_set = list()\n",
    "\n",
    "#       ------ level of row of each group of each Fold --------------------\n",
    "# Empty class info of test set & keep class info in actual test set\n",
    "        for row in grp:\n",
    "            row_copy = list(row)\n",
    "            test_set.append(row_copy)\n",
    "            row_copy[-1] = None               #hide values of test set in order to predict them\n",
    "            actual_test_set.append(list(row))   #keep actual values of test set\n",
    "\n",
    "        # Predict values of test set using training set\n",
    "        for row in test_set:\n",
    "            row[-1] = find_most_freq_neighbor(num_neighbors, train_set, row)\n",
    "\n",
    "#     -------- level of each Group of each Fold --------------------\n",
    "        # Evaluate Prediction vs Reality \n",
    "        model_success_percentage = compare_pred_actual_perc(test_set, actual_test_set)\n",
    "        succ_perc_sum = model_success_percentage +  succ_perc_sum\n",
    "\n",
    "#     -------- level of each Group of each Fold --------------------\n",
    "    tot_sucess_perc = succ_perc_sum / n_folds\n",
    "    return tot_sucess_perc\n",
    "\n",
    "# Compare Actual values wth predicted to get sucess perentage %\n",
    "def compare_pred_actual_perc(prediction, actual):\n",
    "    correct = 0\n",
    "    for i in range(len(prediction)):\n",
    "        if actual[i] == prediction[i]:\n",
    "            correct += 1\n",
    "        success = correct / len(actual) * 100.0\n",
    "    return success"
   ]
  },
  {
   "cell_type": "markdown",
   "metadata": {
    "id": "wJhDLSiNtPS3"
   },
   "source": [
    "\n",
    "\n",
    ">KNN algorithm \n",
    "---\n",
    "It takes input data with the number of neighbors selected and returns percentage of KNN algorithm success\n",
    "\n"
   ]
  },
  {
   "cell_type": "code",
   "execution_count": null,
   "metadata": {
    "id": "5yxALBve2o2F"
   },
   "outputs": [],
   "source": [
    "def kNN(x_filename,num_neighbors):\n",
    "    filename = x_filename\n",
    "    x_dataset = load_file(filename)\n",
    "\n",
    "    # convert input from string to numbers\n",
    "    row_len = len(x_dataset[0])\n",
    "    for i in range(row_len-1):    \n",
    "        str_column_to_float(x_dataset, i)\n",
    "\n",
    "    # Replace class names with numbers (like a dictionary: 1 for 'Iris-setosa', 2 for 'Iris-setosa', 3 for 'Iris-virginica')\n",
    "    correlate_dict = dict()\n",
    "    class_names = set([row[-1] for row in x_dataset])\n",
    "    for i, cl_name in enumerate(class_names,1):\n",
    "        correlate_dict[cl_name] = i\n",
    "    for row in x_dataset:\n",
    "        row[-1] = correlate_dict[row[-1]]   #here we substitute class name \"iris-setosa with 1.. etc..\"\n",
    "\n",
    "    # Split dataset to train and test set, copyning the actual va;ues of test set in actual_test_set\n",
    "    model_success_percentage = compute_knn_success_w_cross_val(x_dataset, 8)   #for k-fold of cross valid, we set k=8\n",
    "    return model_success_percentage"
   ]
  },
  {
   "cell_type": "markdown",
   "metadata": {
    "id": "iBy-XsvA3Dap"
   },
   "source": [
    "*Play with number of neighbors and Datasets*"
   ]
  },
  {
   "cell_type": "markdown",
   "metadata": {
    "id": "AdARGREK5TSt"
   },
   "source": [
    "\n",
    "\n",
    "> Pima Indians Diabetes (try KNN from 2 until 200 neighbors)\n",
    "\n"
   ]
  },
  {
   "cell_type": "code",
   "execution_count": null,
   "metadata": {
    "colab": {
     "base_uri": "https://localhost:8080/",
     "height": 312
    },
    "id": "Lo6oFrh53om5",
    "outputId": "2b8e59af-7948-4876-f9bf-0dc99d9a7c49"
   },
   "outputs": [],
   "source": [
    "# Initialize variables\n",
    "perc_list = list()\n",
    "nn_for_max_propab = 0\n",
    "max_prop = 0.0\n",
    "\n",
    "# Problem parameters\n",
    "r_nn_str= 1\n",
    "r_nn_end= 200\n",
    "_filename = 'pima-indians-diabetes.data'\n",
    "\n",
    "for num_neighbors in range (r_nn_str,r_nn_end):\n",
    "    perc_list.append(kNN(_filename, num_neighbors))\n",
    "\n",
    "\n",
    "# Optimal number of neighbors\n",
    "nn_for_max_propab = np.argmax(perc_list)\n",
    "max_prop = perc_list[nn_for_max_propab]\n",
    "\n",
    "print('Maximum percentage of Prediction for this dataset: ', str(round(max_prop,2)), '% using ', str(nn_for_max_propab), ' neighbors' )\n",
    "\n",
    "neib = range (r_nn_str,r_nn_end)\n",
    "\n",
    "# x & y axis naming\n",
    "plt.xlabel('neighbor number of selection') \n",
    "plt.ylabel('percentage of model KNN success') \n",
    "\n",
    "# title & design of graph \n",
    "plt.title(_filename) \n",
    "plt.plot(neib, perc_list, marker='o',linewidth=0) \n",
    "\n",
    "# function to show the plot \n",
    "plt.show() \n"
   ]
  },
  {
   "cell_type": "markdown",
   "metadata": {
    "id": "1XU0PNTE5dfi"
   },
   "source": [
    "\n",
    "\n",
    ">Iris flowers *(& pima-indians-diabetes at same knn range for compare)*\n",
    "\n"
   ]
  },
  {
   "cell_type": "code",
   "execution_count": null,
   "metadata": {
    "colab": {
     "base_uri": "https://localhost:8080/",
     "height": 606
    },
    "id": "1_q-jRYS5lbD",
    "outputId": "dc4962ab-e548-410a-9f10-7a09fce51ea7"
   },
   "outputs": [],
   "source": [
    "_filename2 = 'iris.data'\n",
    "_filename1 = 'pima-indians-diabetes.data'\n",
    "_filenames = (_filename1, _filename2)\n",
    "\n",
    "\n",
    "for idx, filename in enumerate(_filenames):\n",
    "    perc_list = list()\n",
    "    nn_for_max_propab = 0\n",
    "\n",
    "    for num_neighbors in range (2,100):\n",
    "        perc_list.append(kNN(filename, num_neighbors))\n",
    "\n",
    "    neib = range (2,100)\n",
    "\n",
    "    if idx%2 == 1:\n",
    "        colr= 'g'\n",
    "    else:\n",
    "        colr= 'b' \n",
    "\n",
    "    nn_for_max_propab = np.argmax(perc_list)\n",
    "    max_prop = perc_list[nn_for_max_propab]\n",
    "    print('Maximum percentage of Prediction for this dataset: ', str(round(max_prop,2)), '% using ', str(nn_for_max_propab), ' neighbors' )\n",
    " \n",
    "\n",
    "    # Plot Results\n",
    "    plt.plot(neib, perc_list, marker='o',linewidth=0, color= colr, label = filename) \n",
    "\n",
    "    #  x & y axis naming\n",
    "    plt.xlabel('neighbor number selection') \n",
    "    plt.ylabel('percentage of model KNN success') \n",
    "\n",
    "    # title of graph \n",
    "    plt.title('KNN Model for 2 datasets') \n",
    "\n",
    "    # functions to show the plot \n",
    "    plt.legend()\n",
    "    plt.show() "
   ]
  },
  {
   "cell_type": "markdown",
   "metadata": {
    "id": "zXBUb6cS7ez_"
   },
   "source": [
    "### 2.2"
   ]
  },
  {
   "cell_type": "code",
   "execution_count": null,
   "metadata": {
    "id": "aujWBOiBX5El"
   },
   "outputs": [],
   "source": [
    "#  Problem 2 - ii - Probability Density Function calculation for different assumptions\n",
    "\n",
    "# importing the required modules\n",
    "\n",
    "import pandas as pd\n",
    "import numpy as np\n",
    "import math\n",
    "\n",
    "df = pd.read_csv('pima-indians-diabetes.data', delimiter=',', encoding='ISO-8859–1', names=['X1', 'X2', 'X3', 'X4', 'X5', 'X6', 'X7', 'X8', 'Y'])"
   ]
  },
  {
   "cell_type": "markdown",
   "metadata": {
    "id": "09d10p0R7xI8"
   },
   "source": [
    "#### 2.2.a"
   ]
  },
  {
   "cell_type": "markdown",
   "metadata": {},
   "source": [
    "**Assumption:** \"*Pdfs are gaussian, with diagonal covariance matrices. Means and covariance matrices of the pdfs are estimated using Maximum Likelihood from the available data.*\""
   ]
  },
  {
   "cell_type": "markdown",
   "metadata": {},
   "source": [
    "In the next cell we calculate the mean and covariance of the samples belonging in **diabetes class ('Y' = 1)** and then we use these values to calculate the estimation for the correspondent pdf, according to the below equation:\n",
    "\n",
    "We calculate the mean and the covariance from the next math formulas:\n",
    "  <br>\n",
    "  $μ = \\frac{1}{Ν} \\sum{x_i}$\n",
    "  <br>\n",
    "  $Σ = \\frac{1}{Ν} \\sum{(x_n-μ)^Τ(x_n-μ)}$\n",
    "  \n",
    "The proof of these formulas are given as a pdf with the submitted .ipynb file.\n"
   ]
  },
  {
   "cell_type": "code",
   "execution_count": null,
   "metadata": {},
   "outputs": [],
   "source": [
    "mean_diabetes = np.array([])\n",
    "features = df.keys() # take the feature keys\n",
    "features = features.drop('Y') # drop key corresponding to the class value\n",
    "for key in features:\n",
    "    # calculate the mean for each feature by summing all values and dividing with their number\n",
    "    mean_diabetes = np.append(mean_diabetes, [df[key][df['Y'] == 1].sum()/len(df[key][df['Y'] == 1])])\n",
    "\n",
    "print('mean for diabetes class\\n')\n",
    "print(mean_diabetes)\n",
    "print('\\n')\n",
    "\n",
    "dimension = len(features) # dimensionality of the problem\n",
    "variance_diabetes = np.array([]) # initialize of the variance array\n",
    "covariance_diabetes = np.zeros(shape=(dimension, dimension)) # covariance matrix initialization\n",
    "N_diabetes = len(df[features[1]][df['Y'] == 1]) # the length of dataset for diabetes ('Υ' == 1)\n",
    "buffer = 0 # initialization of a buffer for the calculation of sigma\n",
    "for i in range(0, dimension):\n",
    "    # calculate (co)variance following the theory equation\n",
    "    buffer = buffer + ((df[features[i]][df['Y'] == 1] - mean_diabetes[i]).T).dot(df[features[i]][df['Y'] == 1] - mean_diabetes[i])\n",
    "\n",
    "sigma = buffer/(dimension*N_diabetes)\n",
    "\n",
    "for i in range(0, dimension):\n",
    "    covariance_diabetes[i][i] = sigma\n",
    "\n",
    "print('covariance matrix for diabetes class\\n')\n",
    "print(covariance_diabetes)\n",
    "print('\\n')\n",
    "\n",
    "df_feat_only_diabetes = df.drop('Y', axis=1)[df['Y'] == 1]\n",
    "features_array_diabetes = df_feat_only_diabetes.to_numpy()\n",
    "\n",
    "# the below variables are just intermediate result for the pdf equation, in order to keep it readable\n",
    "buffer_array = features_array_diabetes-mean_diabetes\n",
    "deter_cov_diab = np.linalg.det(covariance_diabetes)\n",
    "cov_diab_inv = np.linalg.inv(covariance_diabetes)\n",
    "\n",
    "# apply the equation from theory to calculate the pdf estimates\n",
    "pdf_diabetes = (1 / ( (2*math.pi)**(dimension/2) * (deter_cov_diab**(1/2)))) * np.exp((-1/2)*(buffer_array.dot(cov_diab_inv)).dot(buffer_array.T))\n",
    "\n",
    "# We avoid using a for loop and use the matrix multiplication because it is optimized in python.\n",
    "pdf_diabetes = pdf_diabetes.diagonal()\n",
    "\n",
    "print('pdf estimation for diabetes class\\n')\n",
    "print(pdf_diabetes)\n",
    "print('\\n')"
   ]
  },
  {
   "cell_type": "markdown",
   "metadata": {},
   "source": [
    "In the next cell we calculate the mean and covariance matrix of the samples belonging in **non diabetes class ('Y' = 0)** and then we use these values to calculate the estimation for the correspondent pdf."
   ]
  },
  {
   "cell_type": "code",
   "execution_count": null,
   "metadata": {},
   "outputs": [],
   "source": [
    "mean_non_diabetes = np.array([])\n",
    "# features array has already been computed in above cell\n",
    "features = df.keys()\n",
    "features = features.drop('Y')\n",
    "for key in features:\n",
    "    # calculate the mean for each feature by summing all values and dividing with their number\n",
    "    mean_non_diabetes = np.append(mean_non_diabetes, [df[key][df['Y'] == 0].sum()/len(df[key][df['Y'] == 0])])\n",
    "\n",
    "print('mean for non diabetes class\\n')\n",
    "print(mean_non_diabetes)\n",
    "print('\\n')\n",
    "\n",
    "dimension = len(features)\n",
    "variance_non_diabetes = np.array([])\n",
    "covariance_non_diabetes = np.zeros(shape=(dimension, dimension))\n",
    "N_non_diabetes = len(df[features[1]][df['Y'] == 0])\n",
    "buffer = 0\n",
    "for i in range(0, dimension):\n",
    "   # calculate (co)variance for each element of the matrix, following the theory equation\n",
    "   buffer = buffer + ((df[features[i]][df['Y'] == 0] - mean_non_diabetes[i]).T).dot(df[features[i]][df['Y'] == 0] - mean_non_diabetes[i])\n",
    "\n",
    "sigma = buffer/(dimension*N_non_diabetes)\n",
    "\n",
    "\n",
    "for i in range(0, dimension):\n",
    "    covariance_non_diabetes[i][i] = sigma\n",
    "\n",
    "print('covariance_diabetes\\n')\n",
    "print(covariance_non_diabetes)\n",
    "print('\\n')\n",
    "\n",
    "df_feat_only_non_diabetes = df.drop('Y', axis=1)[df['Y'] == 0]\n",
    "features_array_non_diabetes = df_feat_only_non_diabetes.to_numpy()\n",
    "# the below variables are just intermediate result for the pdf equation, in order to keep it readable\n",
    "buffer_array = features_array_non_diabetes-mean_non_diabetes\n",
    "deter_cov_diab = np.linalg.det(covariance_non_diabetes)\n",
    "cov_diab_inv = np.linalg.inv(covariance_non_diabetes)\n",
    "\n",
    "# apply the equation from theory to calculate the pdf estimates\n",
    "pdf_non_diabetes = (1 / ( (2*math.pi)**(dimension/2) * (deter_cov_diab**(1/2)))) * np.exp((-1/2)*(buffer_array.dot(cov_diab_inv)).dot(buffer_array.T))\n",
    "\n",
    "#We avoid using a for loop and use the matrix multiplication because it is optimized in python.\n",
    "pdf_non_diabetes = pdf_non_diabetes.diagonal()\n",
    "\n",
    "print('pdf estimation for non diabetes class\\n')\n",
    "print(pdf_non_diabetes)\n",
    "print('\\n')"
   ]
  },
  {
   "cell_type": "markdown",
   "metadata": {},
   "source": [
    "<u>**Goodness of fit measument**</u>\n",
    "\n",
    "In order to calculate **AIC and BIC criterion** values for each class, we calculate firstly log-likelihood L(θ). For the assumption used for pdfs *k* (the number of estimated parameters for our model) is 44 => <u>8 values for means for each $X_{i}$ + 8*(8+1)/2 values because the covariance matrix is symmetric so we have half table plus diagonal</u>. Finally, regarding AIC the **equation for small sample size** is used, since N/k is less than 40."
   ]
  },
  {
   "cell_type": "code",
   "execution_count": null,
   "metadata": {},
   "outputs": [],
   "source": [
    "### 2.2.a\n",
    "## k = 8 values for means for each Xi + 8x(8+1)/2 values because the covariance matrix is symmetric so we have half table plus diagonal\n",
    "k = 8 + 8*9/2\n",
    "\n",
    "print(-2*np.log(pdf_diabetes).sum())\n",
    "AIC_diabetes = -2*np.log(pdf_diabetes).sum() + 2 * k + (2*k+1) / (N_diabetes-k-1)\n",
    "BIC_diabetes = -2*np.log(pdf_diabetes).sum() + k * math.log(N_diabetes)\n",
    "print('AIC_diabetes: ', AIC_diabetes)\n",
    "print('BIC_diabetes: ', BIC_diabetes)\n",
    "AIC_non_diabetes = -2*np.log(pdf_non_diabetes).sum() + 2 * k + (2*k+1) / (N_non_diabetes-k-1)\n",
    "BIC_non_diabetes = -2*np.log(pdf_non_diabetes).sum() + k * math.log(N_non_diabetes)\n",
    "print('AIC_non_diabetes: ', AIC_non_diabetes)\n",
    "print('BIC_non_diabetes: ', BIC_non_diabetes)"
   ]
  },
  {
   "cell_type": "markdown",
   "metadata": {
    "id": "bnonK-Uf72_n"
   },
   "source": [
    "#### 2.2.b"
   ]
  },
  {
   "cell_type": "markdown",
   "metadata": {
    "id": "-uvTuVBaX5En"
   },
   "source": [
    "**Assumption:** \"*Pdfs are gaussian, with non-diagonal covariance matrices. Means and covariance matrices of the pdfs are estimated using Maximum Likelihood from the available data.*\""
   ]
  },
  {
   "attachments": {
    "pdf_non_diagonal_cov_matrices.jpg": {
     "image/jpeg": "[encoded data removed]"
    }
   },
   "cell_type": "markdown",
   "metadata": {
    "id": "wBF3o2poX5Eo"
   },
   "source": [
    "In the next cell we calculate the mean and covariance matrix of the samples belonging in **diabetes class ('Y' = 1)** and then we use these values to calculate the estimation for the correspondent pdf, according to the below equation:\n",
    "\n",
    "![pdf_non_diagonal_cov_matrices.jpg](attachment:pdf_non_diagonal_cov_matrices.jpg)"
   ]
  },
  {
   "cell_type": "code",
   "execution_count": null,
   "metadata": {
    "id": "vGiXXVEY77d5",
    "outputId": "bb188fec-405a-4ea7-8706-5ac72c4ea011"
   },
   "outputs": [],
   "source": [
    "mean_diabetes = np.array([])\n",
    "features = df.keys() # take the feature keys\n",
    "features = features.drop('Y') # drop key corresponding to the class value\n",
    "for key in features:\n",
    "    # calculate the mean for each feature by summing all values and dividing with their number\n",
    "    mean_diabetes = np.append(mean_diabetes, [df[key][df['Y'] == 1].sum()/len(df[key][df['Y'] == 1])])\n",
    "\n",
    "print('means matrix for diabetes class\\n')\n",
    "print(mean_diabetes)\n",
    "print('\\n')\n",
    "\n",
    "dimension = len(features) # dimensionality of the problem\n",
    "covariance_diabetes = np.zeros(shape=(dimension, dimension)) # covariance matrix initialization\n",
    "for i in range(0, dimension):\n",
    "    for j in range(0, dimension):\n",
    "        # calculate (co)variance for each element of the matrix, following the theory equation\n",
    "        buffer = (df[features[i]][df['Y'] == 1] - mean_diabetes[i])*(df[features[j]][df['Y'] == 1] - mean_diabetes[j])\n",
    "        covariance_diabetes[i][j] = buffer.sum()/len(buffer)\n",
    "\n",
    "print('covariance matrix for diabetes class\\n')\n",
    "print(covariance_diabetes)\n",
    "print('\\n')\n",
    "\n",
    "df_feat_only_diabetes = df.drop('Y', axis=1)[df['Y'] == 1] # get series without class feature, only for diabetes class\n",
    "features_array_diabetes = df_feat_only_diabetes.to_numpy() # turn series to an array\n",
    "\n",
    "# the below variables are just intermediate result for the pdf equation, in order to keep it readable\n",
    "buffer_array = features_array_diabetes-mean_diabetes\n",
    "deter_cov_diab = np.linalg.det(covariance_diabetes)\n",
    "cov_diab_inv = np.linalg.inv(covariance_diabetes)\n",
    "\n",
    "# apply the equation from theory to calculate the pdf estimates\n",
    "pdf_diabetes = (1 / ( (2*math.pi)**(dimension/2) * (deter_cov_diab**(1/2)))) * np.exp((-1/2)*(buffer_array.dot(cov_diab_inv)).dot(buffer_array.T))\n",
    "\n",
    "# because we introduce the whole matrix buffer_array in the equation and not point by point, we calculate more results,\n",
    "# most of them not having actual meaning. Only the diagonal values are the actual pdfs.\n",
    "# however we avoid using a for loop and use the matrix multiplication because it is optimized in python.\n",
    "pdf_diabetes = pdf_diabetes.diagonal()\n",
    "print('pdf estimation for diabetes class\\n')\n",
    "print(pdf_diabetes)\n",
    "print('\\n')"
   ]
  },
  {
   "cell_type": "markdown",
   "metadata": {
    "id": "8DZt6kxsX5Es"
   },
   "source": [
    "In the next cell we calculate the mean and covariance matrix of the samples belonging in **non diabetes class ('Y' = 0)** and then we use these values to calculate the estimation for the correspondent pdf."
   ]
  },
  {
   "cell_type": "code",
   "execution_count": null,
   "metadata": {
    "id": "3TuY2QDCX5Es",
    "outputId": "ac699d98-480c-4752-c448-099a63349f49"
   },
   "outputs": [],
   "source": [
    "mean_non_diabetes = np.array([])\n",
    "# features array has already been computed in above cell\n",
    "for key in features:\n",
    "    # calculate the mean for each feature by summing all values and dividing with their number\n",
    "    mean_non_diabetes = np.append(mean_non_diabetes, [df[key][df['Y'] == 0].sum()/len(df[key][df['Y'] == 0])])\n",
    "\n",
    "print('means matrix for non diabetes class\\n')\n",
    "print(mean_non_diabetes)\n",
    "print('\\n')\n",
    "\n",
    "covariance_non_diabetes = np.zeros(shape=(dimension, dimension)) # covariance matrix initialization\n",
    "for i in range(0, dimension):\n",
    "    for j in range(0, dimension):\n",
    "        # calculate (co)variance for each element of the matrix, following the theory equation\n",
    "        buffer = (df[features[i]][df['Y'] == 0] - mean_diabetes[i])*(df[features[j]][df['Y'] == 0] - mean_diabetes[j])\n",
    "        covariance_non_diabetes[i][j] = buffer.sum()/len(buffer)\n",
    "\n",
    "print('covariance matrix for non diabetes class\\n')\n",
    "print(covariance_non_diabetes)\n",
    "print('\\n')\n",
    "\n",
    "df_feat_only_non_diabetes = df.drop('Y', axis=1)[df['Y'] == 0] # get series without class feature, only for diabetes class\n",
    "features_array_non_diabetes = df_feat_only_non_diabetes.to_numpy() # turn series to an array\n",
    "\n",
    "# the below variables are just intermediate result for the pdf equation, in order to keep it readable\n",
    "buffer_array = features_array_non_diabetes-mean_non_diabetes\n",
    "deter_cov_non_diab = np.linalg.det(covariance_diabetes)\n",
    "cov_non_diab_inv = np.linalg.inv(covariance_non_diabetes)\n",
    "\n",
    "# apply the equation from theory to calculate the pdf estimates\n",
    "pdf_non_diabetes = (1 / ( (2*math.pi)**(dimension/2) * (deter_cov_non_diab**(1/2)))) * np.exp((-1/2)*(buffer_array.dot(cov_non_diab_inv)).dot(buffer_array.T))\n",
    "\n",
    "# as already has been stated, because we introduce the whole matrix buffer_array in the equation and not point by point, we calculate more results,\n",
    "# most of them not having actual meaning. Only the diagonal values are the actual pdfs.\n",
    "# however we avoid using a for loop and use the matrix multiplication because it is optimized in python.\n",
    "pdf_non_diabetes = pdf_non_diabetes.diagonal()\n",
    "print('pdf estimation for non diabetes class\\n')\n",
    "print(pdf_non_diabetes)\n",
    "print('\\n')"
   ]
  },
  {
   "cell_type": "markdown",
   "metadata": {
    "id": "7ejB9GYoX5Et"
   },
   "source": [
    "<u>**Goodness of fit measument**</u>\n",
    "\n",
    "In order to calculate **AIC and BIC criterion** values for each class, we calculate firstly log-likelihood L(θ). For the assumption used for pdfs *k* (the number of estimated parameters for our model) is 44 => <u>8 values for means for each $X_{i}$ + 8*(8+1)/2 values because the covariance matrix is symmetric so we have half table plus diagonal</u>. Finally, regarding AIC the **equation for small sample size** is used, since N/k is less than 40."
   ]
  },
  {
   "cell_type": "code",
   "execution_count": null,
   "metadata": {
    "id": "uFM8rIXsX5Et",
    "outputId": "43ad827d-30c2-4584-d2d3-37685db455f9"
   },
   "outputs": [],
   "source": [
    "## k = 8 values for means for each Xi + 8x(8+1)/2 values because the covariance matrix is symmetric so we have half table plus diagonal\n",
    "k = 8 + 8*9/2\n",
    "N_diabetes = len(features_array_diabetes[:,0])\n",
    "N_non_diabetes = len(features_array_non_diabetes[:,0])\n",
    "\n",
    "diabetes_loglikelihood = np.log(pdf_diabetes).sum()\n",
    "AIC_diabetes = -2*diabetes_loglikelihood + 2 * k + (2*k+1) / (N_diabetes-k-1)\n",
    "BIC_diabetes = -2*diabetes_loglikelihood + k * math.log(N_diabetes)\n",
    "print('AIC_diabetes: ', AIC_diabetes)\n",
    "print('BIC_diabetes: ', BIC_diabetes)\n",
    "\n",
    "non_diabetes_loglikelihood = np.log(pdf_non_diabetes).sum()\n",
    "AIC_non_diabetes = -2*non_diabetes_loglikelihood + 2 * k + (2*k+1) / (N_non_diabetes-k-1)\n",
    "BIC_non_diabetes = -2*non_diabetes_loglikelihood + k * math.log(N_non_diabetes)\n",
    "print('AIC_non_diabetes: ', AIC_non_diabetes)\n",
    "print('BIC_non_diabetes: ', BIC_non_diabetes)"
   ]
  },
  {
   "cell_type": "markdown",
   "metadata": {
    "id": "RVjLC4YH78GQ"
   },
   "source": [
    "#### 2.2.c"
   ]
  },
  {
   "cell_type": "markdown",
   "metadata": {},
   "source": [
    "**Assumption:** \"*Components of the feature vectors are mutually statistically independent (the usual naïve Bayes approach). Marginal Pdfs are gaussian, with parameters (mean, variance) estimated using Maximum Likelihood from the available data.*\""
   ]
  },
  {
   "cell_type": "markdown",
   "metadata": {},
   "source": [
    "In the next cell we calculate **the marginal pdf for each feature** of the samples belonging in **diabetes class ('Y' = 1)** and then we calculate the estimation for the correspondent pdf as the product of the marginal pdfs (naive bayes approach).\n",
    "\n",
    "For the computation of the marginal pdfs we use Maximum Likelihood Method."
   ]
  },
  {
   "cell_type": "code",
   "execution_count": null,
   "metadata": {
    "id": "e1e85M0A79VL"
   },
   "outputs": [],
   "source": [
    "df_feat_only_diabetes = df.drop('Y', axis=1)[df['Y'] == 1]\n",
    "features = df.keys()\n",
    "features = features.drop('Y')\n",
    "features_array_diabetes = df_feat_only_diabetes.to_numpy()\n",
    "marginal_pdfs_diab = [] #initialize an array for every marginal pdf for diabetes\n",
    "\n",
    "#for every feature we calculate the mean and the variance for diabetes\n",
    "for i in range(0, dimension):\n",
    "    mean_diabetes_feature = 0\n",
    "    N_diabetes = len(df[features[i]][df['Y'] == 1])\n",
    "\n",
    "    buffer = np.zeros(N_diabetes)\n",
    "    sum_feature = 0\n",
    "    sum_variance_feature = 0\n",
    "    variance_feature = 0\n",
    "    \n",
    "    #we calculate the mean for every feature according to the math formulas\n",
    "    mean_diabetes_feature =  df[features[i]][df['Y'] == 1].sum()/len(df[features[i]][df['Y'] == 1])\n",
    "    \n",
    "    print(\"mean_feature\")\n",
    "    print(mean_diabetes_feature)\n",
    "    buffer_marg = 0\n",
    "    features_diabetes = df[features[i]][df['Y'] == 1]\n",
    "    \n",
    "    for xi in features_diabetes:\n",
    "        buffer_marg = buffer_marg + (xi - mean_diabetes_feature)*(xi - mean_diabetes_feature)\n",
    "    \n",
    "    #we calculate the variance for every feature according to the math formulas\n",
    "    variance_diabetes = buffer_marg/(N_diabetes)\n",
    "    print(\"variance_diabetes\")\n",
    "    print(variance_diabetes)\n",
    "  \n",
    "    \n",
    "    buffer_array = df[features[i]][df['Y'] == 1]-mean_diabetes_feature\n",
    "    buffer = (1 / ( (2*math.pi)**(1/2) * (variance_diabetes**(1/2)))) * np.exp((-1/2)*(buffer_array**2)/(variance_diabetes))\n",
    " \n",
    "    marginal_pdfs_diab.append(buffer) #append the new marginal pdf in the array\n",
    "    \n",
    "pdf_diabetes_ml = np.ones(marginal_pdfs_diab[0].shape) # initialization for pdf calculation\n",
    "\n",
    "#in order to calculate the total pdf we multiply the pdfs of every marginal pdf bacause of the Naive Bayes\n",
    "for marg_pdf in marginal_pdfs_diab:\n",
    "    pdf_diabetes_ml = pdf_diabetes_ml * marg_pdf\n",
    "\n",
    "print('pdf estimation for diabetes class (naive bayes using ML)\\n')\n",
    "print(pdf_diabetes_ml)\n",
    "print('\\n')\n",
    "\n"
   ]
  },
  {
   "cell_type": "code",
   "execution_count": null,
   "metadata": {},
   "outputs": [],
   "source": [
    "df_feat_only_non_diabetes = df.drop('Y', axis=1)[df['Y'] == 0]\n",
    "features = df.keys()\n",
    "features = features.drop('Y')\n",
    "features_array_diabetes = df_feat_only_non_diabetes.to_numpy()\n",
    "marginal_pdfs_non_diab = [] #initialize an array for every marginal pdf for non diabetes\n",
    "\n",
    "#for every feature we calculate the mean and the variance for diabetes\n",
    "for i in range(0, dimension):\n",
    "    mean_non_diabetes_feature = 0\n",
    "    N_non_diabetes = len(df[features[i]][df['Y'] == 0])\n",
    "\n",
    "    buffer = np.zeros(N_non_diabetes)\n",
    "    sum_feature = 0\n",
    "    sum_variance_feature = 0\n",
    "    variance_non_feature = 0\n",
    "    \n",
    "    #we calculate the mean for every feature according to the math formulas\n",
    "    mean_non_diabetes_feature =  df[features[i]][df['Y'] == 0].sum()/len(df[features[i]][df['Y'] == 0])\n",
    "    \n",
    "\n",
    "    print(\"mean_feature\")\n",
    "    print(i)\n",
    "    print(mean_non_diabetes_feature)\n",
    "    buffer_marg = 0\n",
    "    features_diabetes = df[features[i]][df['Y'] == 0]\n",
    "    for xi in features_diabetes:\n",
    "        buffer_marg = buffer_marg + (xi - mean_non_diabetes_feature)*(xi - mean_non_diabetes_feature)\n",
    "\n",
    "    variance_non_feature = buffer_marg/(N_non_diabetes)\n",
    "    print(\"variance_diabetes\")\n",
    "    print(variance_non_feature)\n",
    "  \n",
    "    \n",
    "    buffer_array = df[features[i]][df['Y'] == 0]-mean_non_diabetes_feature\n",
    "    buffer = (1 / ( (2*math.pi)**(1/2) * (variance_non_feature**(1/2)))) * np.exp((-1/2)*(buffer_array**2)/(variance_non_feature))\n",
    " \n",
    "    marginal_pdfs_non_diab.append(buffer)\n",
    "    \n",
    "pdf_non_diabetes_ml = np.ones(marginal_pdfs_non_diab[0].shape) # initialization for pdf calculation\n",
    "\n",
    "#in order to calculate the total pdf we multiply the pdfs of every marginal pdf bacause of the Naive Bayes\n",
    "for marg_pdf in marginal_pdfs_non_diab:\n",
    "    pdf_non_diabetes_ml = pdf_non_diabetes_ml * marg_pdf\n",
    "\n",
    "print('pdf estimation for non diabetes class (naive bayes using ML)\\n')\n",
    "print(pdf_non_diabetes_ml)\n",
    "print('\\n')\n",
    "\n"
   ]
  },
  {
   "cell_type": "markdown",
   "metadata": {},
   "source": [
    "<u>**Goodness of fit measument**</u>\n",
    "\n",
    "In order to calculate **AIC and BIC criterion** values for each class, we calculate firstly log-likelihood L(θ). For the assumption used for pdfs *k* (the number of estimated parameters for our model) is 16 => <u>there are 8 means and 8 covariances because of the features</u>. Finally, regarding AIC the **equation for small sample size** is used, since N/k is less than 40."
   ]
  },
  {
   "cell_type": "code",
   "execution_count": null,
   "metadata": {},
   "outputs": [],
   "source": [
    "### 2.2.c\n",
    "## k = 8 values for means for each Xi + 8x(8+1)/2 values because the covariance matrix is symmetric so we have half table plus diagonal\n",
    "k = 2*8\n",
    "\n",
    "print(-2*np.log(pdf_diabetes_ml).sum())\n",
    "AIC_diabetes = -2*np.log(pdf_diabetes_ml).sum() + 2 * k + (2*k+1) / (N_diabetes-k-1)\n",
    "BIC_diabetes = -2*np.log(pdf_diabetes_ml).sum() + k * math.log(N_diabetes)\n",
    "print('AIC_diabetes: ', AIC_diabetes)\n",
    "print('BIC_diabetes: ', BIC_diabetes)\n",
    "AIC_non_diabetes = -2*np.log(pdf_non_diabetes_ml).sum() + 2 * k + (2*k+1) / (N_non_diabetes-k-1)\n",
    "BIC_non_diabetes = -2*np.log(pdf_non_diabetes_ml).sum() + k * math.log(N_non_diabetes)\n",
    "print('AIC_non_diabetes: ', AIC_non_diabetes)\n",
    "print('BIC_non_diabetes: ', BIC_non_diabetes)"
   ]
  },
  {
   "cell_type": "markdown",
   "metadata": {
    "id": "XT9glXC679y8"
   },
   "source": [
    "#### 2.2.d"
   ]
  },
  {
   "cell_type": "markdown",
   "metadata": {
    "id": "EVw1NWk5X5Ex"
   },
   "source": [
    "**Assumption:** \"*Components of the feature vectors are mutually statistically independent (the usual naïve Bayes approach). Marginal pdfs are computed using 1-d Parzen windows with gaussian kernels. Take the width h of each window equal to the square root of the number of patterns in the available data.*\""
   ]
  },
  {
   "attachments": {
    "marginal_pdf_parzen.jpg": {
     "image/jpeg": "[encoded data removed]"
    }
   },
   "cell_type": "markdown",
   "metadata": {
    "id": "XIVm1dhIX5Ex"
   },
   "source": [
    "In the next cell we calculate **the marginal pdf for each feature** of the samples belonging in **diabetes class ('Y' = 1)** and then we calculate the estimation for the correspondent pdf as the product of the marginal pdfs (naive bayes approach).\n",
    "\n",
    "For the computation of the marginal pdfs we use <u>1-d Parzen windows with gaussian kernels, which have standard deviation equal to the width *h* of the window and mean value each sample point</u>, according to the below equation (we replace σ with h):\n",
    "\n",
    "![marginal_pdf_parzen.jpg](attachment:marginal_pdf_parzen.jpg)"
   ]
  },
  {
   "cell_type": "code",
   "execution_count": null,
   "metadata": {
    "id": "v94BZUhb7f1h",
    "outputId": "d4e773f3-61b0-4755-ef76-4fe1b0dbec12"
   },
   "outputs": [],
   "source": [
    "N_diabetes = len(features_array_diabetes[:,0]) # number of samples\n",
    "h_diabetes = math.sqrt(N_diabetes) # set the window width equal to the square root of number of samples for class\n",
    "\n",
    "marginal_pdfs_diab = []\n",
    "for i in range(0, dimension):\n",
    "    buffer = np.zeros(N_diabetes)\n",
    "    for xi in features_array_diabetes[:][i]:\n",
    "        # the below buffer is used for summation of the gaussians (equation from theory)\n",
    "        buffer = buffer + (1 / (math.sqrt(2*math.pi)*h_diabetes)) * np.exp((-1 / (2*(h_diabetes**2)))*(features_array_diabetes[:,i] - xi)**2)\n",
    "    buffer = buffer / N_diabetes\n",
    "    marginal_pdfs_diab.append(buffer)\n",
    "\n",
    "pdf_diabetes_parzen = np.ones(marginal_pdfs_diab[0].shape) # initialization for pdf calculation\n",
    "for marg_pdf in marginal_pdfs_diab:\n",
    "    pdf_diabetes_parzen = pdf_diabetes_parzen * marg_pdf # calculate product repeatedly\n",
    "\n",
    "print('pdf estimation for diabetes class (naive bayes using parzen windows)\\n')\n",
    "print(pdf_diabetes_parzen)\n",
    "print('\\n')"
   ]
  },
  {
   "attachments": {
    "marginal_pdf_parzen.jpg": {
     "image/jpeg": "[encoded data removed]"
    }
   },
   "cell_type": "markdown",
   "metadata": {
    "id": "hQor5685X5Ey"
   },
   "source": [
    "In the next cell we calculate **the marginal pdf for each feature** of the samples belonging in **non diabetes class ('Y' = 0)** and then we calculate the estimation for the correspondent pdf as the product of the marginal pdfs (naive bayes approach).\n",
    "\n",
    "For the computation of the marginal pdfs we use <u>1-d Parzen windows with gaussian kernels, which have standard deviation equal to the width *h* of the window and mean value each sample point</u>, according to the below equation (we replace σ with h):\n",
    "\n",
    "![marginal_pdf_parzen.jpg](attachment:marginal_pdf_parzen.jpg)"
   ]
  },
  {
   "cell_type": "code",
   "execution_count": null,
   "metadata": {
    "id": "qNly2m3CX5Ez",
    "outputId": "5a163879-073c-4392-fb26-c2c8723b9c2c"
   },
   "outputs": [],
   "source": [
    "N_non_diabetes = len(features_array_non_diabetes[:,0]) # number of samples\n",
    "h_non_diabetes = math.sqrt(N_non_diabetes) # set the window width equal to the square root of number of samples for class\n",
    "\n",
    "marginal_pdfs_non_diab = []\n",
    "for i in range(0, dimension):\n",
    "    buffer = np.zeros(N_non_diabetes)\n",
    "    for xi in features_array_non_diabetes[:][i]:\n",
    "        # the below buffer is used for summation of the gaussians (equation from theory)\n",
    "        buffer = buffer + (1 / (math.sqrt(2*math.pi)*h_non_diabetes)) * np.exp((-1 / (2*(h_non_diabetes**2)))*(features_array_non_diabetes[:,i] - xi)**2)\n",
    "    buffer = buffer / N_non_diabetes\n",
    "    marginal_pdfs_non_diab.append(buffer)\n",
    "\n",
    "pdf_non_diabetes_parzen = np.ones(marginal_pdfs_non_diab[0].shape) # initialization for pdf calculation\n",
    "for marg_pdf in marginal_pdfs_non_diab:\n",
    "    pdf_non_diabetes_parzen = pdf_non_diabetes_parzen * marg_pdf # calculate product repeatedly\n",
    "\n",
    "print('pdf estimation for non diabetes class (naive bayes using parzen windows)\\n')\n",
    "print(pdf_non_diabetes_parzen)\n",
    "print('\\n')"
   ]
  },
  {
   "cell_type": "markdown",
   "metadata": {
    "id": "DEMnTWTmX5E0"
   },
   "source": [
    "<u>**Goodness of fit measument**</u>\n",
    "\n",
    "In order to calculate **AIC and BIC criterion** values for each class, we calculate firstly log-likelihood L(θ). For the assumption used for pdfs *k* (the number of estimated parameters for our model) is 1 => <u>the only parameter we can affect is *h* which is the same for every $X_{i}$</u>. Finally, regarding AIC the **general equation** is used, since N/k is more than 40."
   ]
  },
  {
   "cell_type": "code",
   "execution_count": null,
   "metadata": {
    "id": "YMXC2-9-X5E1",
    "outputId": "cffc4070-8908-46ee-a64b-35119069ca0b"
   },
   "outputs": [],
   "source": [
    "## k = 1 because the only parameter is h which is the same for every Xi\n",
    "k_parzen = 1\n",
    "N_diabetes = len(features_array_diabetes[:,0])\n",
    "N_non_diabetes = len(features_array_non_diabetes[:,0])\n",
    "\n",
    "diabetes_loglikelihood_parzen = np.log(pdf_diabetes_parzen).sum()\n",
    "AIC_parzen_diabetes = -2*diabetes_loglikelihood_parzen + 2 * k_parzen\n",
    "BIC_parzen_diabetes = -2*diabetes_loglikelihood_parzen + k_parzen * math.log(N_diabetes)\n",
    "print('AIC_parzen_diabetes: ', AIC_parzen_diabetes)\n",
    "print('BIC_parzen_diabetes: ', BIC_parzen_diabetes)\n",
    "\n",
    "non_diabetes_loglikelihood_parzen = np.log(pdf_non_diabetes_parzen).sum()\n",
    "AIC_parzen_non_diabetes = -2*non_diabetes_loglikelihood_parzen + 2 * k_parzen \n",
    "BIC_parzen_non_diabetes = -2*non_diabetes_loglikelihood_parzen + k_parzen * math.log(N_non_diabetes)\n",
    "print('AIC_parzen_non_diabetes: ', AIC_parzen_non_diabetes)\n",
    "print('BIC_parzen_non_diabetes: ', BIC_parzen_non_diabetes)"
   ]
  },
  {
   "cell_type": "markdown",
   "metadata": {},
   "source": [
    "#### 2.2 Conclusions regarding the above assumptions based on AIC and BIC criteria"
   ]
  },
  {
   "cell_type": "markdown",
   "metadata": {},
   "source": [
    "Firstly, we observe that regardless the assumption we use for the pdfs **the AIC and BIC criteria values don't differ for each class significantly**. That is because **the log-likelihood term dominates the result** and this term is <u>the same</u> for both criteria.\n",
    "\n",
    "The fact that for each assumption the AIC/BIC criteria is almost double for the non diabetes class is justified from the fact that in our dataset the samples belonging to is almost double from diabetes class samples.\n",
    "\n",
    "As for the comparison between the assumptions, we see that the assumptions for **2.2.b and 2.2.c have the smallest values with 2.2.b being slighly smaller** and so being <u>candidates for better fit</u> of the actual pdfs. **Then comes 2.2.a and the worst candidate (always according to the criteria) is the 2.2.d assumption.**\n",
    "\n",
    "The above are justified if we take into account that <u>2.2.b assumption is the more complex one and takes into account the possible dependencies between the class features</u>. The 2.2.c assumption however is <u>less complex (since it regards the class features as mutually statistically independent) but still stands as a good candidate</u> for fitting the pdfs because it takes into account the mean and variance of each feature and possibly they features actually follow gaussian distribution. <u>On the other hand the approach with naive bayes and the parzen windows doesn't seem to approach the data well. Finally, the 2.2.a assumption seems to be a simple yet moderately effective fit as it produces much smaller values for AIC and BIC than 2.2.d and not much larger than the other two approaches.</u>"
   ]
  },
  {
   "cell_type": "markdown",
   "metadata": {
    "id": "PR7oOqDG7gxR"
   },
   "source": [
    "### 2.3"
   ]
  },
  {
   "cell_type": "code",
   "execution_count": null,
   "metadata": {
    "id": "1kUbHxax7i3o"
   },
   "outputs": [],
   "source": [
    "#  Problem 2 - iii - Bayesian classification utilizing the estimated pdfs from 2ii\n",
    "\n",
    "# importing the required modules\n",
    "\n",
    "import pandas as pd\n",
    "import numpy as np\n",
    "import math\n",
    "\n",
    "df = pd.read_csv('pima-indians-diabetes.data', delimiter=',', encoding='ISO-8859–1', names=['X1', 'X2', 'X3', 'X4', 'X5', 'X6', 'X7', 'X8', 'Y'])"
   ]
  },
  {
   "cell_type": "markdown",
   "metadata": {
    "id": "TXnI1wT2X5E2"
   },
   "source": [
    "#### 2.3.a"
   ]
  },
  {
   "cell_type": "markdown",
   "metadata": {},
   "source": [
    "**Assumption:** \"*Pdfs are gaussian, with diagonal covariance matrices. Mean and covariance of the pdfs are estimated using Maximum Likelihood from the available data.*\"\n",
    "\n",
    "Below we define helper functions we are going to use to implement the Bayes Classifier for the above assumption for class pdfs. *We are explaining only any new notions added to the code from question 2.ii since in general it's the same, just grouped for reusability reasons.*"
   ]
  },
  {
   "cell_type": "code",
   "execution_count": null,
   "metadata": {},
   "outputs": [],
   "source": [
    "import pandas as pd\n",
    "import numpy as np\n",
    "import math\n",
    "\n",
    "# this function calculates the mean for a given dataframe\n",
    "# class_feature is the key corresponding to the class\n",
    "# class_value is the value corresponding to the class whose mean we are calculating\n",
    "def calculate_mean_for_class(dataframe, class_feature, class_value):\n",
    "    mean = np.array([])\n",
    "    features = dataframe.keys()\n",
    "    features = features.drop(class_feature)\n",
    "    for key in features:\n",
    "        mean = np.append(mean, [dataframe[key][dataframe[class_feature] == class_value].sum()/len(dataframe[key][dataframe[class_feature] == class_value])])\n",
    "    return mean\n",
    "\n",
    "# this function calculates the covariance matrix for a given dataframe\n",
    "# class_mean is the mean for the class\n",
    "# class_feature is the key corresponding to the class\n",
    "# class_value is the value corresponding to the class whose mean we are calculating\n",
    "def calculate_covariance_matrix_for_class(dataframe, class_mean, class_feature, class_value):\n",
    "    features = dataframe.keys()\n",
    "    features = features.drop(class_feature)\n",
    "    dimension = len(features)\n",
    "    covariance = np.zeros(shape=(dimension, dimension))\n",
    "         \n",
    "    N_diabetes = len(dataframe[features[1]][dataframe[class_feature] == class_value])\n",
    "    buffer = 0\n",
    "    for i in range(0, dimension):\n",
    "        buffer = buffer + ((dataframe[features[i]][dataframe[class_feature] == class_value] - class_mean[i]).T).dot(dataframe[features[i]][dataframe[class_feature] == class_value] - class_mean[i])\n",
    "\n",
    "    sigma = buffer/(dimension*N_diabetes)\n",
    "\n",
    "    for i in range(0, dimension):\n",
    "        covariance[i][i] = sigma\n",
    "\n",
    "    return covariance\n",
    "\n",
    "# this function calculates pdf for a given test set x\n",
    "# mean is the mean of the train data\n",
    "# covariance is the covariance matrix of the train data\n",
    "def calculate_pdf_for_test_set(x, mean, covariance):\n",
    "    deter_covariance = np.linalg.det(covariance)\n",
    "    covariance_inv = np.linalg.inv(covariance)\n",
    "    dimension = len(mean)\n",
    "    pdf_x = (1 / ( (2*math.pi)**(dimension/2) * (deter_covariance**(1/2)))) * np.exp((-1/2)*((x.to_numpy()-mean).dot(covariance_inv)).dot((x.to_numpy()-mean).T))\n",
    "    return pdf_x.diagonal()\n",
    "\n",
    "# this function does the classification of the points in test set and calculates the accuracy\n",
    "# prop_class0, prop_class1 are the probabilities for each sample in test set to be in class0 or class1 respectively\n",
    "# test_set is the test series with the features and the actual class for each feature\n",
    "# epoch is the repetition we are in the cross validation cycle\n",
    "def classify_and_calculate_epoch_accuracy(prop_class0, prop_class1, test_set, epoch):  \n",
    "    classification = []\n",
    "    for i in range(0, len(prop_class0)):\n",
    "        # classification of each sample according to which probability is greater\n",
    "        if prop_class0[i] > prop_class1[i]:\n",
    "            classification.append(0)\n",
    "        else:\n",
    "            classification.append(1)\n",
    "    # in order to count the accuracy we count the correct classifications\n",
    "    # by comparing with actual class of each sample and finally divide with the test set size\n",
    "    correct_classifications = 0\n",
    "    for i in range(0, len(classification)):\n",
    "        if classification[i] == test_set['Y'][epoch*len(classification)+i]:\n",
    "            correct_classifications += 1\n",
    "        accurracy_percentage = correct_classifications * 100 / len(classification)\n",
    "    return accurracy_percentage\n",
    "\n",
    "# this function runs all the necessary steps to calculate the accuracy for a validation epoch\n",
    "# train_set is our training set for this epoch\n",
    "# test_set is our test set fot this epoch\n",
    "# prop_non_diabetes, prop_diabetes are the propabilities for each class for the given dataset in total\n",
    "# epoch is the repetition step in cross validation\n",
    "def calculate_accuracy_for_validation_epoch(train_set, test_set, prop_non_diabetes, prop_diabetes, epoch):\n",
    "    # calculate mean for non diabetes class\n",
    "    mean_class_non_diabetes = calculate_mean_for_class(train_set, 'Y', 0)\n",
    "    # calculate covariance for non diabetes class\n",
    "    covariance_class_non_diabetes = calculate_covariance_matrix_for_class(train_set, mean_class_non_diabetes, 'Y', 0)\n",
    "    # calculate mean for diabetes class\n",
    "    mean_class_diabetes = calculate_mean_for_class(train_set, 'Y', 1)\n",
    "    # calculate covariance for diabetes class\n",
    "    covariance_class_diabetes = calculate_covariance_matrix_for_class(train_set, mean_class_diabetes, 'Y', 1)\n",
    "    # calculate pdf for test set for non diabetes class\n",
    "    pdfs_test_set_class_non_diabetes = calculate_pdf_for_test_set(test_set.drop('Y', axis=1), mean_class_non_diabetes, covariance_class_non_diabetes)\n",
    "    prop_class_non_diabetes_test_set = pdfs_test_set_class_non_diabetes*prop_non_diabetes\n",
    "    # calculate pdf for test set for diabetes class\n",
    "    pdfs_test_set_class_diabetes = calculate_pdf_for_test_set(test_set.drop('Y', axis=1), mean_class_diabetes, covariance_class_diabetes)\n",
    "    prop_class_diabetes_test_set = pdfs_test_set_class_diabetes*prop_diabetes\n",
    "    # do the classification, the cross validation and return the accuracy for the current epoch\n",
    "    return classify_and_calculate_epoch_accuracy(prop_class_non_diabetes_test_set, prop_class_diabetes_test_set, test_set, epoch)\n"
   ]
  },
  {
   "cell_type": "markdown",
   "metadata": {},
   "source": [
    "Below we are utilizing the above defined functions to **perform 8-fold cross validation** for our data set"
   ]
  },
  {
   "cell_type": "code",
   "execution_count": null,
   "metadata": {},
   "outputs": [],
   "source": [
    "df = pd.read_csv('pima-indians-diabetes.data',delimiter=',', encoding='ISO-8859–1', names=['X1', 'X2', 'X3', 'X4', 'X5', 'X6', 'X7', 'X8', 'Y'])\n",
    "k = math.ceil(df.index.shape[0] / 8) # 8-Fold cross validation\n",
    "# the probabibly of each class in our data set is by definition the number of samples belonging in the class\n",
    "# devided by the size of the data set\n",
    "class_non_diabetes_prop = df[df['Y'] == 0].shape[0] / df.index.shape[0]\n",
    "class_diabete_prop = df[df['Y'] == 1].shape[0] / df.index.shape[0]"
   ]
  },
  {
   "cell_type": "code",
   "execution_count": null,
   "metadata": {},
   "outputs": [],
   "source": [
    "##### Pdfs are gaussian, with diagonal covariance matrices\n",
    "accurracy_percentages = []\n",
    "for i in range(0, 8):\n",
    "    accurracy_percentages.append(calculate_accuracy_for_validation_epoch(df.drop(df.index[i*k:(i+1)*k]), df[i*k:(i+1)*k], class_non_diabetes_prop, class_diabete_prop, i))\n",
    "\n",
    "print(accurracy_percentages)\n",
    "average_accuracy = sum(accurracy_percentages) / len(accurracy_percentages)\n",
    "\n",
    "print('Average accuracy for current pdf assumption:\\n')\n",
    "print(round(average_accuracy, 2), '%')\n",
    "print('\\n')\n"
   ]
  },
  {
   "cell_type": "markdown",
   "metadata": {
    "id": "z9QxsQd2X5E3"
   },
   "source": [
    "#### 2.3.b"
   ]
  },
  {
   "cell_type": "markdown",
   "metadata": {
    "id": "Sgn58UHXX5E3"
   },
   "source": [
    "**Assumption:** \"*Pdfs are gaussian, with non-diagonal covariance matrices. Means and covariance matrices of the pdfs are estimated using Maximum Likelihood from the available data.*\"\n",
    "\n",
    "Below we define helper functions we are going to use to implement the Bayes Classifier for the above assumption for class pdfs. *We are explaining only any new notions added to the code from question 2.ii since in general it's the same, just grouped for reusability reasons.*"
   ]
  },
  {
   "cell_type": "code",
   "execution_count": null,
   "metadata": {
    "id": "crXTUDR5X5E4"
   },
   "outputs": [],
   "source": [
    "# this function calculates the mean for a given dataframe\n",
    "# class_feature is the key corresponding to the class\n",
    "# class_value is the value corresponding to the class whose mean we are calculating\n",
    "def calculate_mean_for_class(dataframe, class_feature, class_value):\n",
    "    mean = np.array([])\n",
    "    features = dataframe.keys()\n",
    "    features = features.drop(class_feature)\n",
    "    for key in features:\n",
    "        mean = np.append(mean, [dataframe[key][df[class_feature] == class_value].sum()/len(df[key][df[class_feature] == class_value])])\n",
    "    return mean\n",
    "\n",
    "# this function calculates the covariance matrix for a given dataframe\n",
    "# class_mean is the means matrix for the class\n",
    "# class_feature is the key corresponding to the class\n",
    "# class_value is the value corresponding to the class whose mean we are calculating\n",
    "def calculate_covariance_matrix_for_class(dataframe, class_mean, class_feature, class_value):\n",
    "    features = dataframe.keys()\n",
    "    features = features.drop(class_feature)\n",
    "    dimension = len(features)\n",
    "    covariance = np.zeros(shape=(dimension, dimension))\n",
    "    for i in range(0, dimension):\n",
    "        for j in range(0, dimension):\n",
    "            buffer = (df[features[i]][df[class_feature] == class_value] - class_mean[i])*(df[features[j]][df[class_feature] == class_value] - class_mean[j])\n",
    "            covariance[i][j] = buffer.sum()/len(buffer)\n",
    "\n",
    "    return covariance\n",
    "\n",
    "# this function calculates pdf for a given test set x\n",
    "# mean is the means matrix of the train data\n",
    "# covariance is the covariance matrix of the train data\n",
    "def calculate_pdf_for_test_set(x, mean, covariance):\n",
    "    deter_covariance = np.linalg.det(covariance)\n",
    "    covariance_inv = np.linalg.inv(covariance)\n",
    "    dimension = len(mean)\n",
    "    pdf_x = (1 / ( (2*math.pi)**(dimension/2) * (deter_covariance**(1/2)))) * np.exp((-1/2)*((x.to_numpy()-mean).dot(covariance_inv)).dot((x.to_numpy()-mean).T))\n",
    "    return pdf_x.diagonal()\n",
    "\n",
    "# this function does the classification of the points in test set and calculates the accuracy\n",
    "# prop_class0, prop_class1 are the probabilities for each sample in test set to be in class0 or class1 respectively\n",
    "# test_set is the test series with the features and the actual class for each feature\n",
    "# epoch is the repetition we are in the cross validation cycle\n",
    "def classify_and_calculate_epoch_accuracy(prop_class0, prop_class1, test_set, epoch):\n",
    "    classification = []\n",
    "    for i in range(0, len(prop_class0)):\n",
    "        # classification of each sample according to which probability is greater\n",
    "        if prop_class0[i] > prop_class1[i]:\n",
    "            classification.append(0)\n",
    "        else:\n",
    "            classification.append(1)\n",
    "    # in order to count the accuracy we count the correct classifications\n",
    "    # by comparing with actual class of each sample and finally divide with the test set size\n",
    "    correct_classifications = 0\n",
    "    for i in range(0, len(classification)):\n",
    "        if classification[i] == test_set['Y'][epoch*len(classification)+i]:\n",
    "            correct_classifications += 1\n",
    "    accurracy_percentage = correct_classifications * 100 / len(classification) # we return % percentage\n",
    "    return accurracy_percentage\n",
    "\n",
    "# this function runs all the necessary steps to calculate the accuracy for a validation epoch\n",
    "# train_set is our training set for this epoch\n",
    "# test_set is our test set fot this epoch\n",
    "# prop_non_diabetes, prop_diabetes are the propabilities for each class for the given dataset in total\n",
    "# epoch is the repetition step in cross validation\n",
    "def calculate_accuracy_for_validation_epoch(train_set, test_set, prop_non_diabetes, prop_diabetes, epoch):\n",
    "    # calculate mean for non diabetes class\n",
    "    mean_class_non_diabetes = calculate_mean_for_class(train_set, 'Y', 0)\n",
    "    # calculate cov matrix for non diabetes class\n",
    "    covariance_class_non_diabetes = calculate_covariance_matrix_for_class(train_set, mean_class_non_diabetes, 'Y', 0)\n",
    "    # calculate mean for diabetes class\n",
    "    mean_class_diabetes = calculate_mean_for_class(train_set, 'Y', 1)\n",
    "    # calculate cov matrix for non diabetes class\n",
    "    covariance_class_diabetes = calculate_covariance_matrix_for_class(train_set, mean_class_diabetes, 'Y', 1)\n",
    "    # calculate pdf for test set for non diabetes class\n",
    "    pdfs_test_set_class_non_diabetes = calculate_pdf_for_test_set(test_set.drop('Y', axis=1), mean_class_non_diabetes, covariance_class_non_diabetes)\n",
    "    # calculate probabilities for each sample in test set to be in non diabetes class\n",
    "    prop_class_non_diabetes_test_set = pdfs_test_set_class_non_diabetes*prop_non_diabetes\n",
    "    # calculate pdf for test set for diabetes class\n",
    "    pdfs_test_set_class_diabetes = calculate_pdf_for_test_set(test_set.drop('Y', axis=1), mean_class_diabetes, covariance_class_diabetes)\n",
    "    # calculate probabilities for each sample in test set to be in diabetes class\n",
    "    prop_class_diabetes_test_set = pdfs_test_set_class_diabetes*prop_diabetes\n",
    "    # do the classification, the cross validation and return the accuracy for the current epoch\n",
    "    return classify_and_calculate_epoch_accuracy(prop_class_non_diabetes_test_set, prop_class_diabetes_test_set, test_set, epoch)\n",
    "\n"
   ]
  },
  {
   "cell_type": "markdown",
   "metadata": {
    "id": "yih26QEIX5E4"
   },
   "source": [
    "Below we are utilizing the above defined functions to **perform 8-fold cross validation** for our data set"
   ]
  },
  {
   "cell_type": "code",
   "execution_count": null,
   "metadata": {
    "id": "5OrSpS-yX5E5",
    "outputId": "dfc87f4e-37eb-41cf-958b-085f85ff3d76"
   },
   "outputs": [],
   "source": [
    "fold = 8\n",
    "k = math.ceil(df.index.shape[0] / fold) # 8-Fold cross validation\n",
    "\n",
    "# the probabibly of each class in our data set is by definition the number of samples belonging in the class\n",
    "# devided by the size of the data set\n",
    "class_non_diabetes_prop = df[df['Y'] == 0].shape[0] / df.index.shape[0]\n",
    "class_diabete_prop = df[df['Y'] == 1].shape[0] / df.index.shape[0]\n",
    "\n",
    "accurracy_percentages = []\n",
    "for i in range(0, fold):\n",
    "  accurracy_percentages.append(calculate_accuracy_for_validation_epoch(df.drop(df.index[i*k:(i+1)*k]), df[i*k:(i+1)*k], class_non_diabetes_prop, class_diabete_prop, i))\n",
    "\n",
    "print('Accuracy percentages for each \"epoch\":\\n')\n",
    "print(accurracy_percentages)\n",
    "print('\\n')\n",
    "\n",
    "average_accuracy = sum(accurracy_percentages) / len(accurracy_percentages)\n",
    "\n",
    "print('Average accuracy for current pdf assumption:\\n')\n",
    "print(round(average_accuracy, 2), '%')\n",
    "print('\\n')"
   ]
  },
  {
   "cell_type": "markdown",
   "metadata": {
    "id": "h-KQmLS6X5E8"
   },
   "source": [
    "#### 2.3.c"
   ]
  },
  {
   "cell_type": "markdown",
   "metadata": {},
   "source": [
    "**Assumption:** \"*Components of the feature vectors are mutually statistically independent (the usual naïve Bayes approach). Marginal Pdfs are gaussian, with parameters (mean, variance) estimated using Maximum Likelihood from the available data.*\"\n",
    "\n",
    "Below we define helper functions we are going to use to implement the Bayes Classifier for the above assumption for class pdfs. *We are explaining only any new notions added to the code from question 2.ii since in general it's the same, just grouped for reusability reasons.*"
   ]
  },
  {
   "cell_type": "code",
   "execution_count": null,
   "metadata": {},
   "outputs": [],
   "source": [
    "# this function calculates the mean for a given dataframe and for every feature\n",
    "# class_feature is the key corresponding to the class\n",
    "# class_value is the value corresponding to the class whose mean we are calculating\n",
    "#feature_value is the value for the current feature\n",
    "def calculate_mean_per_feature_for_class(dataframe, class_feature, class_value, feature_value):\n",
    "    N_diabetes_feature = len(dataframe[feature_value][dataframe[class_feature] == class_value])\n",
    "    features_diabetes = dataframe[feature_value][dataframe[class_feature] == class_value]\n",
    "    mean =  dataframe[feature_value][dataframe[class_feature] == class_value].sum()/len(dataframe[feature_value][dataframe[class_feature] == class_value])\n",
    "    return mean\n",
    "                      \n",
    "# this function calculates the variance for a given dataframe and for every feature\n",
    "# class_feature is the key corresponding to the class\n",
    "# class_value is the value corresponding to the class whose mean we are calculating\n",
    "#feature_value is the value for the current feature\n",
    "def calculate_variance_per_feature_for_class(dataframe,mean, class_feature, class_value, feature_value):\n",
    "    N_diabetes_feature = len(dataframe[feature_value][dataframe[class_feature] == class_value])\n",
    "    features_diabetes = dataframe[feature_value][dataframe[class_feature] == class_value]  \n",
    "    buffer_marg = 0\n",
    "                                               \n",
    "    for xi in features_diabetes:\n",
    "        buffer_marg = buffer_marg + (xi - mean)*(xi - mean)\n",
    "      \n",
    "    variance = buffer_marg/(N_diabetes_feature) \n",
    "    return variance\n",
    "\n",
    "# this function calculates pdf for the marginal pdfs for a given test set x\n",
    "# mean is the mean of the train data\n",
    "# covariance is the covariance matrix of the train data\n",
    "def calculate_pdf_marginal_for_test_set(x,mean, variance,class_feature,class_value,marginal_pdfs,feature_value):                                               \n",
    "    buffer_array = x[feature_value]-mean\n",
    "    buffer = (1 / ( (2*math.pi)**(1/2) * (variance**(1/2)))) * np.exp((-1/2)*(buffer_array**2)/(variance))\n",
    "    marginal_pdfs.append(buffer)\n",
    "    \n",
    "    return marginal_pdfs\n",
    "\n",
    "# this function calculates the total pdf according to the marginal pdfs which are calculated\n",
    "# marginal_pdfs the marginal gaussian pdfs\n",
    "def calculate_total_pdf(marginal_pdfs):\n",
    "    pdf_gaussian = np.ones(marginal_pdfs[0].shape)\n",
    "    for marg_pdf in marginal_pdfs:\n",
    "        pdf_gaussian = pdf_gaussian * marg_pdf\n",
    "    return pdf_gaussian\n",
    "\n",
    "# this function does the classification of the points in test set and calculates the accuracy\n",
    "# prop_class0, prop_class1 are the probabilities for each sample in test set to be in class0 or class1 respectively\n",
    "# test_set is the test series with the features and the actual class for each feature\n",
    "# epoch is the repetition we are in the cross validation cycle\n",
    "def classify_and_calculate_epoch_accuracy_with_marginal(prop_class0, prop_class1, test_set, epoch):\n",
    "    classification = []\n",
    "    for i in range(0, len(prop_class0)):\n",
    "        if prop_class0[i] > prop_class1[i]:\n",
    "            classification.append(0)\n",
    "        else:\n",
    "            classification.append(1)\n",
    "    correct_classifications = 0\n",
    "    for i in range(0, len(classification)):\n",
    "        if classification[i] == test_set['Y'][epoch*len(classification)+i]:\n",
    "            correct_classifications += 1\n",
    "    accurracy_percentage = correct_classifications * 100 / len(classification)\n",
    "    return accurracy_percentage\n",
    "\n",
    "# this function runs all the necessary steps to calculate the accuracy for a validation epoch\n",
    "# In this case firstly we calculate the mean and the variance for each feature in order to calculate the marginal gaussian pdfs\n",
    "# and then we calculate the total pdf.\n",
    "# train_set is our training set for this epoch\n",
    "# test_set is our test set fot this epoch\n",
    "# prop_non_diabetes, prop_diabetes are the propabilities for each class for the given dataset in total\n",
    "# epoch is the repetition step in cross validation\n",
    "def calculate_accuracy_marginal_for_validation_epoch(train_set, test_set, prop_non_diabetes, prop_diabetes, epoch):  \n",
    "    features = train_set.keys()\n",
    "    features = features.drop('Y')\n",
    "    dimension = len(features)\n",
    "    marginal_pdfs_test_set_class_non_diabetes = []\n",
    "    marginal_pdfs_test_set_class_diabetes = []\n",
    "    for i in range(0,dimension):\n",
    "        # calculate mean for non diabetes class\n",
    "        mean_class_per_feature_non_diabetes = calculate_mean_per_feature_for_class(train_set, 'Y', 0,features[i])\n",
    "        # calculate variance for non diabetes class\n",
    "        variance_class_per_feature_non_diabetes = calculate_variance_per_feature_for_class(train_set, mean_class_per_feature_non_diabetes, 'Y', 0,features[i])\n",
    "        # calculate mean for diabetes class\n",
    "        mean_class_per_feature_diabetes = calculate_mean_per_feature_for_class(train_set, 'Y', 1,features[i])\n",
    "        # calculate variance for diabetes class\n",
    "        variance_class_per_feature_diabetes = calculate_variance_per_feature_for_class(train_set, mean_class_per_feature_diabetes, 'Y', 1,features[i])\n",
    "        # calculate the marginal pdfs for non diabetes class\n",
    "        marginal_pdfs_test_set_class_non_diabetes = calculate_pdf_marginal_for_test_set(test_set, mean_class_per_feature_non_diabetes, variance_class_per_feature_non_diabetes,'Y',1,marginal_pdfs_test_set_class_non_diabetes,features[i])        \n",
    "        # calculate the marginal pdfs for diabetes class\n",
    "        marginal_pdfs_test_set_class_diabetes = calculate_pdf_marginal_for_test_set(test_set, mean_class_per_feature_non_diabetes, variance_class_per_feature_non_diabetes,'Y',1,marginal_pdfs_test_set_class_diabetes,features[i])\n",
    "    # calculate the total pdf for non diabetes class\n",
    "    total_gaussian_pdf_non_diabetes = calculate_total_pdf(marginal_pdfs_test_set_class_non_diabetes)    \n",
    "    # calculate the total pdf for diabetes class\n",
    "    total_gaussian_pdf_diabetes = calculate_total_pdf(marginal_pdfs_test_set_class_diabetes)\n",
    "    prop_class_non_diabetes_test_set = total_gaussian_pdf_non_diabetes.to_numpy()*prop_non_diabetes\n",
    "    prop_class_diabetes_test_set = total_gaussian_pdf_diabetes.to_numpy()*prop_diabetes\n",
    "    # do the classification, the cross validation and return the accuracy for the current epoch\n",
    "    return classify_and_calculate_epoch_accuracy_with_marginal(prop_class_non_diabetes_test_set, prop_class_diabetes_test_set, test_set, epoch)\n"
   ]
  },
  {
   "cell_type": "markdown",
   "metadata": {},
   "source": [
    "Below we are utilizing the above defined functions to **perform 8-fold cross validation** for our data set"
   ]
  },
  {
   "cell_type": "code",
   "execution_count": null,
   "metadata": {},
   "outputs": [],
   "source": [
    "df = pd.read_csv('pima-indians-diabetes.data',delimiter=',', encoding='ISO-8859–1', names=['X1', 'X2', 'X3', 'X4', 'X5', 'X6', 'X7', 'X8', 'Y'])\n",
    "k = math.ceil(df.index.shape[0] / 8) # 8-Fold cross validation\n",
    "\n",
    "# the probabibly of each class in our data set is by definition the number of samples belonging in the class\n",
    "# devided by the size of the data set\n",
    "class_non_diabetes_prop = df[df['Y'] == 0].shape[0] / df.index.shape[0]\n",
    "class_diabete_prop = df[df['Y'] == 1].shape[0] / df.index.shape[0]\n"
   ]
  },
  {
   "cell_type": "code",
   "execution_count": null,
   "metadata": {},
   "outputs": [],
   "source": [
    "##### Marginal Pdfs are gaussian,ML method\n",
    "accurracy_percentages_with_marginals = []\n",
    "for i in range(0, 8):\n",
    "    accurracy_percentages_with_marginals.append(calculate_accuracy_marginal_for_validation_epoch(df.drop(df.index[i*k:(i+1)*k]), df[i*k:(i+1)*k], class_non_diabetes_prop, class_diabete_prop, i))\n",
    "\n",
    "print(accurracy_percentages_with_marginals)\n",
    "average_accuracy = sum(accurracy_percentages_with_marginals) / len(accurracy_percentages_with_marginals)\n",
    "\n",
    "print('Average accuracy for current pdf assumption:\\n')\n",
    "print(round(average_accuracy, 2), '%')\n",
    "print('\\n')\n"
   ]
  },
  {
   "cell_type": "markdown",
   "metadata": {
    "id": "NhzRGBNbX5E9"
   },
   "source": [
    "#### 2.3.d"
   ]
  },
  {
   "cell_type": "markdown",
   "metadata": {
    "id": "h8S0y4z2X5E_"
   },
   "source": [
    "**Assumption:** \"*Components of the feature vectors are mutually statistically independent (the usual naïve Bayes approach). Marginal pdfs are computed using 1-d Parzen windows with gaussian kernels. Take the width h of each window equal to the square root of the number of patterns in the available data.*\"\n",
    "\n",
    "Below we define helper functions we are going to use to implement the Bayes Classifier for the above assumption for class pdfs. *We are explaining only any new notions added to the code from question 2.ii since in general it's the same, just grouped for reusability reasons.*"
   ]
  },
  {
   "cell_type": "code",
   "execution_count": null,
   "metadata": {
    "id": "-dKjOdxxX5FA"
   },
   "outputs": [],
   "source": [
    "# this function calculates the pdf for the test set using 1-d parzen windows with gaussian kernels for the marginal pdfs\n",
    "# it receives 2 arguments: the training and the test set in the form of pandas series\n",
    "def calculate_pdf_parzen_for_test_set(x_train, x_test):\n",
    "    x_train_array = x_train.to_numpy() # turn train series into array\n",
    "    x_test_array = x_test.to_numpy() # turn test series into array\n",
    "    N = x_train_array.shape[0] # size of training set\n",
    "    h = math.sqrt(N) # set the window width equal to the square root of number of samples for class\n",
    "    dimension = x_train_array.shape[1] # problem dimensionality\n",
    "    \n",
    "    # marginal pdfs calculation\n",
    "    marginal_pdfs = []\n",
    "    for i in range(0, dimension):\n",
    "        buffer = np.zeros(x_test_array.shape[0])\n",
    "        for xi in x_train_array[:][i]:\n",
    "            buffer = buffer + (1 / (math.sqrt(2*math.pi)*h)) * np.exp((-1 / (2*(h**2)))*(x_test_array[:,i] - xi)**2)\n",
    "        buffer = buffer / N\n",
    "        marginal_pdfs.append(buffer)\n",
    "    \n",
    "    # pdf calculation as product of the marginal pdfs according to naive bayes approach\n",
    "    pdf_parzen = np.ones(marginal_pdfs[0].shape)\n",
    "    for marg_pdf in marginal_pdfs:\n",
    "        pdf_parzen = pdf_parzen * marg_pdf\n",
    "    return pdf_parzen\n",
    "\n",
    "# this function does the classification of the points in test set and calculates the accuracy\n",
    "# prop_class0, prop_class1 are the probabilities for each sample in test set to be in class0 or class1 respectively\n",
    "# test_set is the test series with the features and the actual class for each feature\n",
    "# epoch is the repetition we are in the cross validation cycle\n",
    "def classify_and_calculate_epoch_accuracy(prop_class0, prop_class1, test_set, epoch):\n",
    "    classification = []\n",
    "    for i in range(0, len(prop_class0)):\n",
    "        # classification of each sample according to which probability is greater\n",
    "        if prop_class0[i] > prop_class1[i]:\n",
    "            classification.append(0)\n",
    "        else:\n",
    "            classification.append(1)\n",
    "    # in order to count the accuracy we count the correct classifications\n",
    "    # by comparing with actual class of each sample and finally divide with the test set si\n",
    "    correct_classifications = 0\n",
    "    for i in range(0, len(classification)):\n",
    "        if classification[i] == test_set['Y'][epoch*len(classification)+i]:\n",
    "            correct_classifications += 1\n",
    "    accurracy_percentage = correct_classifications * 100 / len(classification) # we return % percentage\n",
    "    return accurracy_percentage\n",
    "\n",
    "# this function runs all the necessary steps to calculate the accuracy for a validation epoch\n",
    "# train_set is our training set for this epoch\n",
    "# test_set is our test set fot this epoch\n",
    "# prop_non_diabetes, prop_diabetes are the propabilities for each class for the given dataset in total\n",
    "# epoch is the repetition step in cross validation\n",
    "def calculate_accuracy_parzen_for_validation_epoch(train_set, test_set, prop_non_diabetes, prop_diabetes, epoch):\n",
    "    # calculate pdf for test set for non diabetes class\n",
    "    pdfs_parzen_test_set_class_non_diabetes = calculate_pdf_parzen_for_test_set(train_set[train_set['Y'] == 0].drop('Y', axis=1), test_set.drop('Y', axis=1))\n",
    "    # calculate probabilities for each sample in test set to be in non diabetes class\n",
    "    prop_class_non_diabetes_test_set = pdfs_parzen_test_set_class_non_diabetes*prop_non_diabetes\n",
    "    # calculate pdf for test set for diabetes class\n",
    "    pdfs_parzen_test_set_class_diabetes = calculate_pdf_parzen_for_test_set(train_set[train_set['Y'] == 1].drop('Y', axis=1), test_set.drop('Y', axis=1))\n",
    "    # calculate probabilities for each sample in test set to be in diabetes class\n",
    "    prop_class_diabetes_test_set = pdfs_parzen_test_set_class_diabetes*prop_diabetes\n",
    "    # do the classification, the cross validation and return the accuracy for the current epoch\n",
    "    return classify_and_calculate_epoch_accuracy(prop_class_non_diabetes_test_set, prop_class_diabetes_test_set, test_set, epoch)"
   ]
  },
  {
   "cell_type": "markdown",
   "metadata": {
    "id": "2hhboAlSX5FB"
   },
   "source": [
    "Below we are utilizing the above defined functions to **perform 8-fold cross validation** for our data set"
   ]
  },
  {
   "cell_type": "code",
   "execution_count": null,
   "metadata": {
    "id": "EWL8RjhXX5FC",
    "outputId": "1b881cff-d884-4749-ab1a-ea32f32ac700"
   },
   "outputs": [],
   "source": [
    "fold = 8\n",
    "k = math.ceil(df.index.shape[0] / fold) # 8-Fold cross validation\n",
    "\n",
    "# the probabibly of each class in our data set is by definition the number of samples belonging in the class\n",
    "# devided by the size of the data set\n",
    "class_non_diabetes_prop = df[df['Y'] == 0].shape[0] / df.index.shape[0]\n",
    "class_diabete_prop = df[df['Y'] == 1].shape[0] / df.index.shape[0]\n",
    "\n",
    "accurracy_percentages_parzen = []\n",
    "for i in range(0, fold):\n",
    "    accurracy_percentages_parzen.append(calculate_accuracy_parzen_for_validation_epoch(df.drop(df.index[i*k:(i+1)*k]), df[i*k:(i+1)*k], class_non_diabetes_prop, class_diabete_prop, i))\n",
    "\n",
    "print('Accuracy percentages for each \"epoch\":\\n')\n",
    "print(accurracy_percentages_parzen)\n",
    "print('\\n')\n",
    "\n",
    "average_accuracy_parzen = sum(accurracy_percentages_parzen) / len(accurracy_percentages_parzen)\n",
    "\n",
    "print('Average accuracy for current pdf assumption:\\n')\n",
    "print(round(average_accuracy_parzen, 2), '%')\n",
    "print('\\n')"
   ]
  },
  {
   "cell_type": "markdown",
   "metadata": {
    "heading_collapsed": true,
    "id": "cZ_Ifv7LX5FD"
   },
   "source": [
    "#### 2.3 Conclusions and comparison with k-NN classifier\n",
    "\n"
   ]
  },
  {
   "cell_type": "markdown",
   "metadata": {
    "hidden": true
   },
   "source": [
    "We **would expect** that more accurate estimates for the pdfs always tend to improve accuracy as well. **However, the results show us that this is partly true**. For example in 2.2 question we saw that the best and worst candidates for pdfs estimation where the assumptions in b and d sub-question respectively. **The average accuracy for these two Bayes classifiers proves this**.\n",
    "\n",
    "<u>**This is not the case though regarding the assumptions in a and c sub-question**</u>. First of all, the naive bayes approach for sub-question c had approximately the same AIC and BIC values with b sub-question. **However, it's average accuracy is about 10% worst than the approach with the non-diagonal covariance matrices for the pdfs, which shows us that probably the features/components are not mutually statistically independent**. Moreover, <u>the accuracy for sub-question c pdf assuption is slightly worse than the approach with the diagonal covariance matrices of sub-question a</u>, although according to AIC and BIC criteria the later is a less accurate estimate of the pdf.\n",
    "\n",
    "***From all the above we conclude that the AIC/BIC criteria are a good first measure of aborting some estimates or tend in favour of some others, but not always say the truth about the actual accuracy of the classifier.***\n",
    "\n",
    "**In comparison with the k-NN classifier from 2.1**, we observe that <u>the best Bayes classifier</u> from the assumptions conducted has about <u>5% better accuracy than the best k-NN classifier</u>. However, the <u>k-NN classifier</u> for all the range of k performs with **accuracy above 65%** whereas the rest Bayes classifiers based on an assumption different than the best one produce less accurate results, which depending on how bad an assumption about the pdfs is may be even less than 50% accurate."
   ]
  },
  {
   "cell_type": "markdown",
   "metadata": {
    "id": "59VomALE7jRV"
   },
   "source": [
    "### 2.4"
   ]
  },
  {
   "cell_type": "markdown",
   "metadata": {
    "id": "2Ugab8zz6fgQ"
   },
   "source": [
    "Import modules"
   ]
  },
  {
   "cell_type": "code",
   "execution_count": 16,
   "metadata": {
    "id": "09Dqc6VLnX2c"
   },
   "outputs": [],
   "source": [
    "from csv import reader\n",
    "import numpy as np"
   ]
  },
  {
   "cell_type": "markdown",
   "metadata": {
    "id": "sAuAGVr16y2W"
   },
   "source": [
    "Functions\n",
    "> General functions\n",
    "\n"
   ]
  },
  {
   "cell_type": "code",
   "execution_count": 17,
   "metadata": {
    "id": "LCmhIy7jLhg1"
   },
   "outputs": [],
   "source": [
    "# Read data from file\n",
    "def load_file(filename):\n",
    "    dataset = list()\n",
    "    count = 0\n",
    "    with open(filename, 'r') as file:\n",
    "        file_reader = reader(file)\n",
    "        for row in file_reader:\n",
    "            count += 1  #count rows\n",
    "            if not row:\n",
    "                continue\n",
    "            dataset.append(row)\n",
    "    return (dataset, count)\n",
    "\n",
    "\n",
    "# Convert string column to float\n",
    "def str_column_to_float(dataset, column):\n",
    "    for row in dataset:\n",
    "        row[column] = float(row[column].strip())\n"
   ]
  },
  {
   "cell_type": "markdown",
   "metadata": {
    "id": "pEr6VF4HLpYA"
   },
   "source": [
    "\n",
    "\n",
    "> Specific functions used in main perceptron algorithm\n",
    "\n"
   ]
  },
  {
   "cell_type": "code",
   "execution_count": 18,
   "metadata": {
    "id": "j_4yZltPLirn"
   },
   "outputs": [],
   "source": [
    "def multiply_data_w_weights(input, w):\n",
    "    t_w_x = 0\n",
    "    for idx, inp in enumerate(input):\n",
    "        t_w_x += w[idx]*inp\n",
    "    return t_w_x\n",
    "\n",
    "# returns line vector for update or 0 vector for not update\n",
    "def activation_f(t_w_x, epsilon, line):\n",
    "    if t_w_x < epsilon:\n",
    "        return line           #Update\n",
    "    else:\n",
    "        return [0]*len(line)  #No Update\n",
    "\n",
    "\n",
    "def activation_decision(t_w_x, epsilon):\n",
    "    if t_w_x < epsilon:\n",
    "        return 1  #Update\n",
    "    else:\n",
    "        return 0  #No Update\n",
    "\n",
    "# Creates 2 classes noting one class as '(1)' and '(-1)' for the other 2\n",
    "# Also multiply elements by target output (x*t)\n",
    "def create_two_classes(dataset, cl_a):\n",
    "    new_a=list()\n",
    "\n",
    "    for i in dataset:\n",
    "        k=list()\n",
    "        if i[-1] == cl_a:\n",
    "            i[-1] = -1\n",
    "            new_a.append(i)\n",
    "        else:\n",
    "            # # for idx,j in enumerate(i):\n",
    "            k=[j * -1 for j in i]\n",
    "            i=k\n",
    "            i[-1] = 1\n",
    "            new_a.append(i)\n",
    "    return (new_a)\n",
    "\n",
    "\n",
    "def update_weights(dw,w_prev):\n",
    "    w_new=list()\n",
    "    for idx,el in enumerate(w_prev):\n",
    "        w_new.append(el+dw[idx])\n",
    "    return w_new"
   ]
  },
  {
   "cell_type": "markdown",
   "metadata": {
    "id": "k9sr900cflYl"
   },
   "source": [
    "Main Classification Algorithm"
   ]
  },
  {
   "cell_type": "code",
   "execution_count": 19,
   "metadata": {
    "id": "_4VY1qqm7jCz"
   },
   "outputs": [],
   "source": [
    "def classify_sets(w_dataset,epsilon,row_len,sel):\n",
    "\n",
    "    #Initialize variables\n",
    "    upd_vector = []\n",
    "    weights=[0.0]*row_len   #initial weight vector\n",
    "    w_prev=[1]*row_len\n",
    "    line_prev=[0]*row_len\n",
    "\n",
    "    # Parameters\n",
    "    count=0\n",
    "    epochs_number=1000\n",
    "  \n",
    "    # lines of file\n",
    "    lin_sep =[0]*(num_lines-1)  #last line of file that is counted has no data\n",
    "\n",
    "    for rep in range(epochs_number):\n",
    "\n",
    "        upd_vector=[]\n",
    "\n",
    "        for idx,line in enumerate(w_dataset):\n",
    "            dw=[]\n",
    "            w_prev=weights\n",
    "            twx = multiply_data_w_weights(line, weights)  #t*weight*data\n",
    "            upd_vector.append(activation_decision(twx, epsilon))\n",
    "            dw =activation_f(twx, epsilon, line)    \n",
    "            weights=update_weights(dw,w_prev)\n",
    "\n",
    "        if upd_vector!=lin_sep:\n",
    "            count+=1\n",
    " \n",
    "    if upd_vector==lin_sep:\n",
    "        print(\"The dataset\", str(sel), \"is linear separable with the group of the rest two.\\nThe perceptron algorithm converged in\",str(count), \"epoch(s)\\n\")\n",
    "        print(\"Hyperplane dimensions\", weights,'\\n\\n')   \n",
    "    else:\n",
    "        print(\"The dataset\", str(sel), \"is not linear separable with the group of the rest two.\\nThe perceptron algorithm did not converge after:\", str(epochs_number), \"epoch(s)\\n\\n\")\n",
    "\n",
    "    return None"
   ]
  },
  {
   "cell_type": "markdown",
   "metadata": {
    "id": "cHgn4h2mAjTV"
   },
   "source": [
    "Main\n",
    "\n",
    ">**Prepare** dataset element types\n",
    "\n",
    "> **Classify** one dataset against the other two classes left "
   ]
  },
  {
   "cell_type": "code",
   "execution_count": 20,
   "metadata": {
    "colab": {
     "base_uri": "https://localhost:8080/"
    },
    "id": "IiQMDeO3Ajzz",
    "outputId": "ccaa317c-50b8-41cb-a0de-a2070ea82deb"
   },
   "outputs": [
    {
     "name": "stdout",
     "output_type": "stream",
     "text": [
      "We note: \n",
      "1: for 'Iris-setosa', \n",
      "2: for 'Iris-versicolor', \n",
      "3: for 'Iris-virginica'\n",
      "\n",
      "The dataset 1 is linear separable with the group of the rest two.\n",
      "The perceptron algorithm converged in 4 epoch(s)\n",
      "\n",
      "Hyperplane dimensions [1.299999999999999, 5.1, -6.800000000000001, -3.0999999999999996, -1.0] \n",
      "\n",
      "\n",
      "The dataset 2 is not linear separable with the group of the rest two.\n",
      "The perceptron algorithm did not converge after: 1000 epoch(s)\n",
      "\n",
      "\n",
      "The dataset 3 is not linear separable with the group of the rest two.\n",
      "The perceptron algorithm did not converge after: 1000 epoch(s)\n",
      "\n",
      "\n"
     ]
    }
   ],
   "source": [
    "# Main \n",
    "epsilon= 1\n",
    "num_lines = 0\n",
    "filenameX = 'iris.data'\n",
    "in_dataset, num_lines = load_file(filenameX)\n",
    "\n",
    "# convert input from string to numbers\n",
    "row_len = len(in_dataset[0])\n",
    "for i in range(row_len-1):    \n",
    "    str_column_to_float(in_dataset, i)\n",
    "\n",
    "# Replace class names with numbers (like a dictionary: 1 for 'Iris-setosa', 2 for 'Iris-setosa', 3 for 'Iris-virginica')\n",
    "correlate_dict = dict()\n",
    "class_names = sorted(set([row[-1] for row in in_dataset]))\n",
    "for i, cl_name in enumerate(class_names,1):\n",
    "    correlate_dict[cl_name] = i\n",
    "for row in in_dataset:\n",
    "    row[-1] = correlate_dict[row[-1]]   #here we substitute class name \"iris-setosa with 1.. etc..\"\n",
    "\n",
    "# Results\n",
    "print(\"We note: \\n1: for 'Iris-setosa', \\n2: for 'Iris-versicolor', \\n3: for 'Iris-virginica'\\n\")\n",
    "\n",
    "for sel in range(1,4):\n",
    "    y_dataset = create_two_classes(in_dataset,int(sel))\n",
    "    classify_sets(y_dataset,epsilon,row_len,sel)"
   ]
  },
  {
   "cell_type": "markdown",
   "metadata": {},
   "source": [
    "From the results above we can have an insight about the *relevance* among the classes: 1, 2 & 3.\n",
    "\n",
    "Since the only possible combination that can be linear **separable** with a hyper plane is: class 1 separated by the group of [class 2 & class 3]\n",
    "(and it is NOT possible that class 2 to be separated by group [class 1 & class 3], or class 3 to be separated by group [class 1 & class 2]),we can conclude that there is a bigger \"entanglement\" or \"**relevance**\" between the data of class 2 & class 3."
   ]
  }
 ],
 "metadata": {
  "colab": {
   "collapsed_sections": [
    "9eF3ETV56zNJ",
    "A_kirO4W7AKE",
    "09d10p0R7xI8",
    "bnonK-Uf72_n",
    "RVjLC4YH78GQ",
    "XT9glXC679y8"
   ],
   "name": "Machine_LearningAssignment_1_Deliverables.ipynb",
   "provenance": []
  },
  "kernelspec": {
   "display_name": "Python 3",
   "language": "python",
   "name": "python3"
  },
  "language_info": {
   "codemirror_mode": {
    "name": "ipython",
    "version": 3
   },
   "file_extension": ".py",
   "mimetype": "text/x-python",
   "name": "python",
   "nbconvert_exporter": "python",
   "pygments_lexer": "ipython3",
   "version": "3.8.3"
  }
 },
 "nbformat": 4,
 "nbformat_minor": 1
}
