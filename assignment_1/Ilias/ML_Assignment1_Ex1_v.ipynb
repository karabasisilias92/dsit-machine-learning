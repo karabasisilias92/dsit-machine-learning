{
  "nbformat": 4,
  "nbformat_minor": 0,
  "metadata": {
    "colab": {
      "name": "ML_Assignment1_Ex1_v.ipynb",
      "provenance": []
    },
    "kernelspec": {
      "name": "python3",
      "display_name": "Python 3"
    }
  },
  "cells": [
    {
      "cell_type": "code",
      "metadata": {
        "colab": {
          "base_uri": "https://localhost:8080/",
          "height": 349
        },
        "id": "tTWkaOsTF7Y3",
        "outputId": "1f565679-6255-4b8c-cf84-33f7d362cd0e"
      },
      "source": [
        "#  Assignment 1 - v - Full Bayesian Regression (θο not equal to true parameter vector)\r\n",
        "\r\n",
        "# importing the required module \r\n",
        "import matplotlib.pyplot as plt \r\n",
        "import numpy as np\r\n",
        "import random\r\n",
        "\r\n",
        "# true paremeter vector\r\n",
        "th = [-1, 0.9, 0.7, 0, -0.2, 0.2]\r\n",
        "\r\n",
        "def get_y_train(t0, t1, t2, t3, t4, t5, mu, sigma, N, x):\r\n",
        "\r\n",
        "  noise = np.random.normal(mu,sigma, size=(N,))\r\n",
        "  y = t5*x**5 + t4*x**4 + t3*x**3 + t2*x**2 + t1*x + t0 + noise\r\n",
        "\r\n",
        "  return (y)\r\n",
        "\r\n",
        "random.seed()\r\n",
        "theta_zero = np.array([-10.54, 0.465, 0.0087, 0, -0.093, -0.004]) # get the array from a list of values and get the transpose\r\n",
        "sigma_h = 0.05\r\n",
        "\r\n",
        "N = 20\r\n",
        "x_train = np.array([])\r\n",
        "for i in range(0, N):\r\n",
        "  x_train = np.append(x_train, [random.random()*2])\r\n",
        "x_train.sort()\r\n",
        "y_train = get_y_train(th[5], th[0], th[1], th[2], th[3], th[4], 0, sigma_h, N, x_train)\r\n",
        "\r\n",
        "sigma_theta = 2\r\n",
        "Phi = np.zeros(shape = (N,6)) # 6 = polynomial degree + 1\r\n",
        "Phi[:, -1] = 1\r\n",
        "\r\n",
        "phi_x = []\r\n",
        "for i in range(0,5):\r\n",
        "  phi_x.append(np.power(x_train,i+1)*theta_zero[i])\r\n",
        "  Phi[:,i] = np.power(x_train,i+1)*theta_zero[i]\r\n",
        "\r\n",
        "phi_x.append(np.array([1]*N))\r\n",
        "\r\n",
        "est_th_y = theta_zero + 1 / sigma_h * np.linalg.inv(1 / sigma_theta * np.eye(6) + 1 / sigma_h * Phi.T.dot(Phi)).dot(Phi.T).dot(y_train - Phi.dot(theta_zero))\r\n",
        "\r\n",
        "print('μ_θ_y:')\r\n",
        "print(est_th_y)\r\n",
        "print('\\n')\r\n",
        "phi_x = np.array(phi_x)\r\n",
        "\r\n",
        "est_y = phi_x.T.dot(est_th_y)\r\n",
        "\r\n",
        "# print('μ_y:')\r\n",
        "# print(est_y)\r\n",
        "# print('\\n')\r\n",
        "\r\n",
        "sigma_y = sigma_h + sigma_h * sigma_theta * phi_x.T.dot(np.linalg.inv(sigma_h * np.eye(6) + sigma_theta * Phi.T.dot(Phi))).dot(phi_x) # variance - covariance matrix\r\n",
        "y_var = sigma_y.diagonal()\r\n",
        "\r\n",
        "x_true = np.linspace(0, 2, 100)\r\n",
        "y_true = th[4]*x_true**5 + th[2]*x_true**3 + th[1]*x_true**2 + th[0]*x_true + th[5]\r\n",
        "\r\n",
        "\r\n",
        "# plt.plot(x_train, est_y, marker= 'o', markersize=5, linewidth=0, label='bayes')\r\n",
        "plt.errorbar(x_train, est_y, marker= 'o', markersize=2, linewidth=0, yerr= y_var, elinewidth = 1, capsize = 5, label='bayes')\r\n",
        "plt.plot(x_true, y_true, '-g', linewidth=2, label= 'true_model')\r\n"
      ],
      "execution_count": 3,
      "outputs": [
        {
          "output_type": "stream",
          "text": [
            "μ_θ_y:\n",
            "[0.06104662 2.90126008 0.0882648  0.         0.92977881 0.0618603 ]\n",
            "\n",
            "\n"
          ],
          "name": "stdout"
        },
        {
          "output_type": "execute_result",
          "data": {
            "text/plain": [
              "[<matplotlib.lines.Line2D at 0x7fcf1254dc88>]"
            ]
          },
          "metadata": {
            "tags": []
          },
          "execution_count": 3
        },
        {
          "output_type": "display_data",
          "data": {
            "image/png": "[encoded data removed]",
            "text/plain": [
              "<Figure size 432x288 with 1 Axes>"
            ]
          },
          "metadata": {
            "tags": [],
            "needs_background": "light"
          }
        }
      ]
    }
  ]
}