{
  "nbformat": 4,
  "nbformat_minor": 0,
  "metadata": {
    "colab": {
      "name": "KNN- ML- Assignment 2_i - ML.ipynb",
      "provenance": [],
      "collapsed_sections": []
    },
    "kernelspec": {
      "name": "python3",
      "display_name": "Python 3"
    }
  },
  "cells": [
    {
      "cell_type": "markdown",
      "metadata": {
        "id": "p7zZbdGVKu9H"
      },
      "source": [
        "## K-NN  Iris Flowers Dataset"
      ]
    },
    {
      "cell_type": "markdown",
      "metadata": {
        "id": "0Lc8MezmK469"
      },
      "source": [
        "### Import modules"
      ]
    },
    {
      "cell_type": "code",
      "metadata": {
        "id": "HE6oLJ7_F9sN"
      },
      "source": [
        "from csv import reader\r\n",
        "from math import sqrt\r\n",
        "import matplotlib.pyplot as plt\r\n",
        "import numpy as np  \r\n",
        "from random import randrange"
      ],
      "execution_count": 138,
      "outputs": []
    },
    {
      "cell_type": "markdown",
      "metadata": {
        "id": "os91ipgLLAz1"
      },
      "source": [
        "### *Function Definitions*"
      ]
    },
    {
      "cell_type": "markdown",
      "metadata": {
        "id": "hIAXh1LMIdyg"
      },
      "source": [
        "Generic functions"
      ]
    },
    {
      "cell_type": "code",
      "metadata": {
        "id": "ViVa63xlKodk"
      },
      "source": [
        "def load_file(filename):\r\n",
        "\tdataset = list()\r\n",
        "\twith open(filename, 'r') as file:\r\n",
        "\t\tfile_reader = reader(file)\r\n",
        "\t\tfor row in file_reader:\r\n",
        "\t\t\tif not row:\r\n",
        "\t\t\t\tcontinue\r\n",
        "\t\t\tdataset.append(row)\r\n",
        "\treturn dataset\r\n",
        "\r\n",
        "\r\n",
        "def most_frequent(List): \r\n",
        "    counter = 0\r\n",
        "    num = List[0] \r\n",
        "      \r\n",
        "    for i in List: \r\n",
        "        curr_frequency = List.count(i) \r\n",
        "        if(curr_frequency> counter): \r\n",
        "            counter = curr_frequency \r\n",
        "            num = i \r\n",
        "  \r\n",
        "    return num \r\n"
      ],
      "execution_count": 43,
      "outputs": []
    },
    {
      "cell_type": "markdown",
      "metadata": {
        "id": "KOWaOzPcIjc3"
      },
      "source": [
        "More specific functions"
      ]
    },
    {
      "cell_type": "code",
      "metadata": {
        "id": "aZA3V1Hpw0LT"
      },
      "source": [
        "# Convert string column to float\r\n",
        "def str_column_to_float(dataset, column):\r\n",
        "\tfor row in dataset:\r\n",
        "\t\trow[column] = float(row[column].strip())\r\n",
        "\r\n",
        "# Distance of 2 vectors of dataset\r\n",
        "def find_distance(row1, row2):\r\n",
        "  distance = 0.0\r\n",
        "  for i in range(len(row1)-1):\r\n",
        "    distance += (row1[i] - row2[i])**2\r\n",
        "\r\n",
        "  return sqrt(distance)\r\n",
        " \r\n",
        " # Locate the most similar neighbors\r\n",
        "def find_most_freq_neighbor(knn_num, train_set, test_row):\r\n",
        "  distances = list()\r\n",
        "  sorted_dist = list()\r\n",
        "  neighbors = list()\r\n",
        "  \r\n",
        "  for i in train_set:\r\n",
        "    row_dis = find_distance(i, test_row)\r\n",
        "    distances.append((i, row_dis))\r\n",
        "  \r\n",
        "# get k neighbors with the smallest distance\r\n",
        "  distances.sort(key=lambda tup: tup[1])\r\n",
        "  for j in range(knn_num):\r\n",
        "    neighbors.append(distances[j][0])\r\n",
        "  \r\n",
        "  # i want to find in which class belong the majority of the k neighbors\r\n",
        "  class_of_knn=most_frequent(neighbors)\r\n",
        "  return class_of_knn[-1]\r\n",
        "\r\n",
        "\r\n",
        " # we need to create a train set & a test set \r\n",
        "def compute_knn_success_w_cross_val(dataset, n_folds):  #cross_validation_split\r\n",
        "\tdataset_split = list()\r\n",
        "\tdataset_copy = list(dataset)\r\n",
        "\tfold_size = int(len(dataset) / n_folds)\r\n",
        " \r\n",
        "#   ----------- Fold level --------------------\r\n",
        "\tfor r in range(n_folds):\r\n",
        "\t\tfold = list()\r\n",
        " \t\t\r\n",
        "\t\twhile len(fold) < fold_size:\r\n",
        "\t\t\tindex = randrange(len(dataset_copy))  #steal randomly records of the data set & create a group of \"len(dataset) / n_folds\" records\r\n",
        "\t\t\tfold.append(dataset_copy.pop(index))\r\n",
        "\t\tdataset_split.append(fold)  \r\n",
        "\r\n",
        "#     -------- level of each Group of each Fold --------------------\r\n",
        "# Create a train_set, a test_set w/o class specification, & a set of actual class of test set  \r\n",
        "\tsucc_perc_sum = 0\r\n",
        "\tfor grp in dataset_split:\r\n",
        "\t\ttrain_set = list(dataset_split)\r\n",
        "\t\ttrain_set.remove(grp)\r\n",
        "\t\ttrain_set = sum(train_set, [])\r\n",
        "\t\ttest_set = list()\r\n",
        "\t\tactual_test_set = list()\r\n",
        "\r\n",
        "#       ------ level of row of each group of each Fold --------------------\r\n",
        "# Empty class info of test set & keep class info in actual test set\r\n",
        "\t\tfor row in grp:\r\n",
        "\t\t\trow_copy = list(row)\r\n",
        "\t\t\ttest_set.append(row_copy)\r\n",
        "\t\t\trow_copy[-1] = None               #hide values of test set in order to predict them\r\n",
        "\t\t\tactual_test_set.append(list(row))   #keep actual values of test set\r\n",
        "\t\t\t\r\n",
        "\t\t# Predict values of test set using training set\r\n",
        "\t\tfor row in test_set:\r\n",
        "\t\t\trow[-1] = find_most_freq_neighbor(num_neighbors, train_set, row)\r\n",
        "\r\n",
        "#     -------- level of each Group of each Fold --------------------\r\n",
        "\t\t# Evaluate Prediction vs Reality \r\n",
        "\t\tmodel_success_percentage = compare_pred_actual_perc(test_set, actual_test_set)\r\n",
        "\t\tsucc_perc_sum = model_success_percentage +  succ_perc_sum\r\n",
        "\r\n",
        "#     -------- level of each Group of each Fold --------------------\r\n",
        "\ttot_sucess_perc = succ_perc_sum / n_folds\r\n",
        "\treturn tot_sucess_perc\r\n",
        "\r\n",
        "# Compare Actual values wth predicted to get sucess perentage %\r\n",
        "def compare_pred_actual_perc(prediction, actual):\r\n",
        "\tcorrect = 0\r\n",
        "\tfor i in range(len(prediction)):\r\n",
        "\t\tif actual[i] == prediction[i]:\r\n",
        "\t\t\tcorrect += 1\r\n",
        "\t\tsuccess = correct / len(actual) * 100.0\r\n",
        "\treturn success\r\n",
        " \r\n",
        "\t"
      ],
      "execution_count": 132,
      "outputs": []
    },
    {
      "cell_type": "markdown",
      "metadata": {
        "id": "hnsBS1TsQlvx"
      },
      "source": [
        "### *Final main algorithm that takes input data with the number of neighbors selected and returns percentage of success*"
      ]
    },
    {
      "cell_type": "code",
      "metadata": {
        "id": "7ke2wZjQvbgS"
      },
      "source": [
        "def kNN(x_filename,num_neighbors):\r\n",
        "\tfilename = x_filename\r\n",
        "\tx_dataset = load_file(filename)\r\n",
        "\r\n",
        "\t# convert input from string to numbers\r\n",
        "\trow_len = len(x_dataset[0])\r\n",
        "\tfor i in range(row_len-1):    \r\n",
        "\t  str_column_to_float(x_dataset, i)\r\n",
        "\r\n",
        "\t# Replace class names with numbers (like a dictionary: 1 for 'Iris-setosa', 2 for 'Iris-setosa', 3 for 'Iris-virginica')\r\n",
        "\tcorrelate_dict = dict()\r\n",
        "\tclass_names = set([row[-1] for row in x_dataset])\r\n",
        "\tfor i, cl_name in enumerate(class_names,1):\r\n",
        "\t  correlate_dict[cl_name] = i\r\n",
        "\tfor row in x_dataset:\r\n",
        "\t\t\trow[-1] = correlate_dict[row[-1]]   #here we substitute class name \"iris-setosa with 1.. etc..\"\r\n",
        "\r\n",
        "\t# Split dataset to train and test set, copyning the actual va;ues of test set in actual_test_set\r\n",
        "\tmodel_success_percentage = compute_knn_success_w_cross_val(x_dataset, 8)   #for k-fold of cross valid, we set k=8\r\n",
        "\treturn model_success_percentage"
      ],
      "execution_count": 129,
      "outputs": []
    },
    {
      "cell_type": "markdown",
      "metadata": {
        "id": "6YOI3ubLTebI"
      },
      "source": [
        "### *Play with number of neighbors and Datasets*"
      ]
    },
    {
      "cell_type": "code",
      "metadata": {
        "id": "r2p6UskCuPdF",
        "colab": {
          "base_uri": "https://localhost:8080/",
          "height": 312
        },
        "outputId": "d315e01a-7b21-4abd-b58b-93d437cc494a"
      },
      "source": [
        "perc_list = list()\r\n",
        "nn_for_max_propab = 0\r\n",
        "max_prop = 0.0\r\n",
        "r_nn_str= 1\r\n",
        "r_nn_end= 200\r\n",
        "_filename = 'pima-indians-diabetes.data'\r\n",
        "\r\n",
        "for num_neighbors in range (r_nn_str,r_nn_end):\r\n",
        "\tperc_list.append(kNN(_filename, num_neighbors))\r\n",
        "\r\n",
        "nn_for_max_propab = np.argmax(perc_list)\r\n",
        "max_prop = perc_list[nn_for_max_propab]\r\n",
        "print('Maximum percentage of Prediction for this dataset: ', str(max_prop), '% using ', str(nn_for_max_propab), ' neighbors' )\r\n",
        "\r\n",
        "neib = range (r_nn_str,r_nn_end)\r\n",
        "\r\n",
        "plt.plot(neib, perc_list, marker='o',linewidth=0) \r\n",
        "\r\n",
        "# naming the x axis \r\n",
        "plt.xlabel('neighbor number of selection') \r\n",
        "# naming the y axis \r\n",
        "plt.ylabel('percentage of model KNN success') \r\n",
        "\r\n",
        "# giving a title to my graph \r\n",
        "plt.title(_filename) \r\n",
        "\r\n",
        "# function to show the plot \r\n",
        "# plt.legend()\r\n",
        "plt.show() \r\n",
        "\r\n"
      ],
      "execution_count": 139,
      "outputs": [
        {
          "output_type": "stream",
          "text": [
            "Maximum percentage of Prediction for this dataset:  70.57291666666666  using  173  neighbors\n"
          ],
          "name": "stdout"
        },
        {
          "output_type": "display_data",
          "data": {
            "image/png": "[encoded data removed]",
            "text/plain": [
              "<Figure size 432x288 with 1 Axes>"
            ]
          },
          "metadata": {
            "tags": [],
            "needs_background": "light"
          }
        }
      ]
    },
    {
      "cell_type": "code",
      "metadata": {
        "id": "ZWSSvm8NzeyT",
        "colab": {
          "base_uri": "https://localhost:8080/",
          "height": 573
        },
        "outputId": "f91abdbe-b8b7-4ba7-abdb-2f55177b5e44"
      },
      "source": [
        "\r\n",
        "_filename2 = 'iris.data'\r\n",
        "_filename1 = 'pima-indians-diabetes.data'\r\n",
        "_filenames = (_filename1, _filename2)\r\n",
        "\r\n",
        "# for i in _filenames:\r\n",
        "for idx, filename in enumerate(_filenames):\r\n",
        "\tperc_list = list()\r\n",
        "\r\n",
        "\tfor num_neighbors in range (2,100):\r\n",
        "\t  perc_list.append(kNN(filename, num_neighbors))\r\n",
        "\r\n",
        "\tneib = range (2,100)\r\n",
        " \r\n",
        "\tif idx%2 == 1:\r\n",
        "\t\tcolr= 'g'\r\n",
        "\telse:\r\n",
        "\t\tcolr= 'b' \r\n",
        "\r\n",
        "\tplt.plot(neib, perc_list, marker='o',linewidth=0, color= colr, label = filename) \r\n",
        "\r\n",
        "\t# naming the x axis \r\n",
        "\tplt.xlabel('neighbor number selection') \r\n",
        "\t# naming the y axis \r\n",
        "\tplt.ylabel('percentage of model KNN success') \r\n",
        "\r\n",
        "\t# giving a title to my graph \r\n",
        "\tplt.title('KNN Model for 2 datasets') \r\n",
        "\r\n",
        "\t# function to show the plot \r\n",
        "\tplt.legend()\r\n",
        "\tplt.show() \r\n"
      ],
      "execution_count": 141,
      "outputs": [
        {
          "output_type": "display_data",
          "data": {
            "image/png": "[encoded data removed]",
            "text/plain": [
              "<Figure size 432x288 with 1 Axes>"
            ]
          },
          "metadata": {
            "tags": [],
            "needs_background": "light"
          }
        },
        {
          "output_type": "display_data",
          "data": {
            "image/png": "[encoded data removed]",
            "text/plain": [
              "<Figure size 432x288 with 1 Axes>"
            ]
          },
          "metadata": {
            "tags": [],
            "needs_background": "light"
          }
        }
      ]
    }
  ]
}