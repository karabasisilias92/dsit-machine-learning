{
  "nbformat": 4,
  "nbformat_minor": 0,
  "metadata": {
    "colab": {
      "name": "ML_(1_vi)_Expectation Maximization",
      "provenance": [],
      "collapsed_sections": []
    },
    "kernelspec": {
      "name": "python3",
      "display_name": "Python 3"
    }
  },
  "cells": [
    {
      "cell_type": "markdown",
      "metadata": {
        "id": "NsRds8BJ-y2D"
      },
      "source": [
        "We want to see how Expectation-Maximization Method will retrieve knowledge for \r\n"
      ]
    },
    {
      "cell_type": "code",
      "metadata": {
        "colab": {
          "base_uri": "https://localhost:8080/",
          "height": 312
        },
        "id": "PKVKq1jm42zf",
        "outputId": "638202bb-fa95-4eb0-90ff-fd07307426ec"
      },
      "source": [
        "#  Machine Learning DSIT UOA\r\n",
        "#  Assignment 1 - vi - Expectation Maximization\r\n",
        "\r\n",
        "# importing the required module \r\n",
        "import matplotlib.pyplot as plt \r\n",
        "import numpy as np \r\n",
        "\r\n",
        "# Generate Training Data ----------------------- *\r\n",
        "#Build  N = 500 sample Data (training data set) in [0,2] that follow the form y = th0 + th1.x + th2.x^2 + th3.x^3 + th5.x^5 (Eq.1)  with sigma^2=0.05.\r\n",
        "def y_training_set(t0, t1, t2, t3, t5, mu,sigma, N_sam, r__start, r__end):\r\n",
        "\r\n",
        "    # x = np.arange(r__start, r__end, r_step )      #doesn't includes 2 in range [0,2]\r\n",
        "    x = np.linspace(r_start, r_end, num= N_sam)     #includes 2 in range [0,2]\r\n",
        "    noise = np.random.normal(mu,sigma, size=(N_sam,))  #check dimensionality(!!!!!) - pending\r\n",
        "    # noise = 0\r\n",
        "    y = t5*x**5 + t3*x**3 + t2*x**2 + t1*x + t0 + noise\r\n",
        "\r\n",
        "    return(x, y)\r\n",
        "\r\n",
        "#Vector Parameter (True)\r\n",
        "th0 = 0.1\r\n",
        "th1 = -1\r\n",
        "th2 = 0.9\r\n",
        "th3 = 0.7\r\n",
        "th5 = -0.2\r\n",
        "\r\n",
        "#data range\r\n",
        "r_start = 0\r\n",
        "r_end = 2\r\n",
        "N  = 500\r\n",
        "step = (r_end - r_start) / N\r\n",
        "\r\n",
        "mu, sigma = 0, 0.1 # mean and standard deviation\r\n",
        "\r\n",
        "\r\n",
        "x, y = y_training_set(th0, th1, th2, th3, th5, mu,sigma,N, r_start, r_end)\r\n",
        "# Training Data ----------------------- *\r\n",
        "\r\n",
        "\r\n",
        "# Define convergence threshold\r\n",
        "e = 0.01 #-------input!?!\r\n",
        "\r\n",
        "k = 1\r\n",
        "\r\n",
        "\r\n",
        "\r\n",
        "a_temp = 1 #signa-th^-2\r\n",
        "b_temp = 1 #signa-h^-2\r\n",
        "\r\n",
        "# x_mean = np.mean(x)\r\n",
        "#  1/(N*b_temp+a_temp)\r\n",
        "\r\n",
        "sigma2_th_wrt_y = []\r\n",
        "sigma2_th_wrt_y = np.linalg.pinv(a_temp * np.eye(x.shape[0]) + b_temp * (x.T).dot(x))\r\n",
        "# mi_th_wrt_y  = []\r\n",
        "mi_th_wrt_y = b_temp * sigma2_th_wrt_y.dot(x.T).dot(y)\r\n",
        "\r\n",
        "# Φ.Τ*Φ\r\n",
        "ΧΧ = x[:, None].dot(x.reshape (-1,1).T)   #x.x.T - (500,500)  table\r\n",
        "\r\n",
        "alpha_ir = pow(mi_th_wrt_y,2) + np.matrix.trace(sigma2_th_wrt_y)\r\n",
        "bita_ir  = pow((y-x*mi_th_wrt_y),2) + np.matrix.trace(ΧΧ.dot(sigma2_th_wrt_y))\r\n",
        "# bita_ir  = pow((y-x*mi_th_wrt_y),2) + np.matrix.trace(np.matmul(np.matmul(x,sigma2_th_wrt_y),x.T))  #trace?\r\n",
        "\r\n",
        "a_temp = k/alpha_ir\r\n",
        "b_temp = N/bita_ir\r\n",
        "\r\n",
        "# plotting the points \r\n",
        "plt.plot(x, y, marker='.', linewidth=0, label = 'experiment') \r\n",
        "\r\n",
        "# naming the x axis \r\n",
        "plt.xlabel('x - axis') \r\n",
        "# naming the y axis \r\n",
        "plt.ylabel('y - axis') \r\n",
        "\r\n",
        "# giving a title to my graph \r\n",
        "plt.title('Experiments Input') \r\n",
        "\r\n",
        "# function to show the plot \r\n",
        "plt.legend()\r\n",
        "# plt.show() \r\n"
      ],
      "execution_count": 14,
      "outputs": [
        {
          "output_type": "execute_result",
          "data": {
            "text/plain": [
              "<matplotlib.legend.Legend at 0x7fb2357051d0>"
            ]
          },
          "metadata": {
            "tags": []
          },
          "execution_count": 14
        },
        {
          "output_type": "display_data",
          "data": {
            "image/png": "[encoded data removed]",
            "text/plain": [
              "<Figure size 432x288 with 1 Axes>"
            ]
          },
          "metadata": {
            "tags": [],
            "needs_background": "light"
          }
        }
      ]
    },
    {
      "cell_type": "code",
      "metadata": {
        "colab": {
          "base_uri": "https://localhost:8080/"
        },
        "id": "8tB5Gz2aFqkW",
        "outputId": "75fe5719-92cb-4f55-b1cb-378c290b8dfd"
      },
      "source": [
        "np.matrix.trace(ΧΧ.dot(sigma2_th_wrt_y))"
      ],
      "execution_count": 18,
      "outputs": [
        {
          "output_type": "execute_result",
          "data": {
            "text/plain": [
              "167.33616783296802"
            ]
          },
          "metadata": {
            "tags": []
          },
          "execution_count": 18
        }
      ]
    },
    {
      "cell_type": "code",
      "metadata": {
        "colab": {
          "base_uri": "https://localhost:8080/"
        },
        "id": "L6NQ8WJGeZQT",
        "outputId": "def0f6bd-a04d-4f32-8c15-082547df7ee1"
      },
      "source": [
        "sigma2_th_wrt_y.shape"
      ],
      "execution_count": null,
      "outputs": [
        {
          "output_type": "execute_result",
          "data": {
            "text/plain": [
              "(500, 500)"
            ]
          },
          "metadata": {
            "tags": []
          },
          "execution_count": 41
        }
      ]
    },
    {
      "cell_type": "code",
      "metadata": {
        "colab": {
          "base_uri": "https://localhost:8080/"
        },
        "id": "MBizcPCmXQzx",
        "outputId": "4ea45380-4186-48aa-c37b-7b4f686c023f"
      },
      "source": [
        "mi_th_wrt_y"
      ],
      "execution_count": null,
      "outputs": [
        {
          "output_type": "execute_result",
          "data": {
            "text/plain": [
              "173.4396828892796"
            ]
          },
          "metadata": {
            "tags": []
          },
          "execution_count": 43
        }
      ]
    },
    {
      "cell_type": "code",
      "metadata": {
        "colab": {
          "base_uri": "https://localhost:8080/"
        },
        "id": "J9mxeMWBgnrO",
        "outputId": "42dc8ae4-e173-4ae1-86ca-ec0b2a950844"
      },
      "source": [
        "(x).dot(x.T)"
      ],
      "execution_count": null,
      "outputs": [
        {
          "output_type": "execute_result",
          "data": {
            "text/plain": [
              "667.3346693386774"
            ]
          },
          "metadata": {
            "tags": []
          },
          "execution_count": 36
        }
      ]
    },
    {
      "cell_type": "code",
      "metadata": {
        "id": "VfEHX_UehdAo"
      },
      "source": [
        ""
      ],
      "execution_count": null,
      "outputs": []
    }
  ]
}