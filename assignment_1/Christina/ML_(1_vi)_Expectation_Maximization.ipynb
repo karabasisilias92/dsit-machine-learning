{
  "nbformat": 4,
  "nbformat_minor": 0,
  "metadata": {
    "colab": {
      "name": "ML_(1_vi)_Expectation Maximization",
      "provenance": [],
      "collapsed_sections": []
    },
    "kernelspec": {
      "name": "python3",
      "display_name": "Python 3"
    }
  },
  "cells": [
    {
      "cell_type": "markdown",
      "metadata": {
        "id": "NsRds8BJ-y2D"
      },
      "source": [
        "We want to see how Expectation-Maximization Method will retrieve knowledge for \r\n"
      ]
    },
    {
      "cell_type": "code",
      "metadata": {
        "id": "PKVKq1jm42zf"
      },
      "source": [
        "#  Machine Learning DSIT UOA\r\n",
        "#  Assignment 1 - vi - Expectation Maximization\r\n",
        "\r\n",
        "# importing the required module \r\n",
        "import matplotlib.pyplot as plt \r\n",
        "import numpy as np \r\n",
        "\r\n",
        "# Generate Training Data ----------------------- *\r\n",
        "#Build  N = 500 sample Data (training data set) in [0,2] that follow the form y = th0 + th1.x + th2.x^2 + th3.x^3 + th5.x^5 (Eq.1)  with sigma^2=0.05.\r\n",
        "def y_training_set(t0, t1, t2, t3, t5, mu,sigma, N_sam, r__start, r__end):\r\n",
        "\r\n",
        "    x = np.linspace(r_start, r_end, num= N_sam)     #includes 2 in range [0,2]\r\n",
        "    noise = np.random.normal(mu,sigma, size=(N_sam,))  \r\n",
        "    y = t5*x**5 + t3*x**3 + t2*x**2 + t1*x + t0 + noise\r\n",
        "    \r\n",
        "    return(x, y)\r\n",
        "\r\n",
        "#Vector Parameter (True)\r\n",
        "th0 = 0.1\r\n",
        "th1 = -1\r\n",
        "th2 = 0.9\r\n",
        "th3 = 0.7\r\n",
        "th5 = -0.2\r\n",
        "\r\n",
        "#data range\r\n",
        "r_start = 0\r\n",
        "r_end = 2\r\n",
        "N  = 500\r\n",
        "step = (r_end - r_start) / N\r\n",
        "\r\n",
        "mu, sigma = 0, 0.05 # mean and standard deviation\r\n",
        "\r\n",
        "\r\n",
        "x, y = y_training_set(th0, th1, th2, th3, th5, mu,sigma,N, r_start, r_end)\r\n",
        "# Training Data ----------------------- *\r\n",
        "\r\n",
        "\r\n",
        "# Define convergence threshold\r\n",
        "e = 0.01 #not used\r\n",
        "\r\n",
        "k = 1\r\n",
        "\r\n",
        "a_temp = 1 #signa-theta^-2\r\n",
        "b_temp = 1 #signa-ita^-2\r\n",
        "\r\n"
      ],
      "execution_count": 11,
      "outputs": []
    },
    {
      "cell_type": "markdown",
      "metadata": {
        "id": "uI9MF4cNYdfV"
      },
      "source": [
        "Τα νούμερα των *σ.η* & *σ.θ* βγαίνουν λίγο εξωγήινα"
      ]
    },
    {
      "cell_type": "code",
      "metadata": {
        "colab": {
          "base_uri": "https://localhost:8080/"
        },
        "id": "qwYAjaaqD1ZR",
        "outputId": "7a083827-fce8-4203-c145-43d9d6e62ecd"
      },
      "source": [
        "alpha_ir = 0.0   #A capital\r\n",
        "bita_ir  = 0.0   #B capital\r\n",
        "\r\n",
        "for i in range(1,9):  #random range of iretations to make sure it converges. Instead should be a_temp-a_temp(previous)< e & b_temp-b_temp(previous)< e\r\n",
        "\r\n",
        "# REplace the equations of EM \r\n",
        "  sigma2_th_wrt_y = np.linalg.pinv(a_temp * np.eye(x.shape[0]) + b_temp * (x.T).dot(x))   #Σ.θ|y = (αI+bΦ.ΤΦ) ^-1\r\n",
        "  mi_th_wrt_y     = b_temp * (sigma2_th_wrt_y.dot(x.reshape (-1,1))).dot(y.reshape (-1,1).T)   #μ.θ|y = β*Σ.θ|y*Φ.Τ*y   \r\n",
        "\r\n",
        "\r\n",
        "  XX = x[:, None].dot(x.reshape (-1,1).T)     # Φ.Τ*Φ - (500,500)  table\r\n",
        "  y_fmu_magn = np.linalg.norm(y-x*mi_th_wrt_y)  # ||y-Φμ.θ|y ||^2 \r\n",
        "\r\n",
        "  a_tmp_prev = a_temp\r\n",
        "  b_tmp_prev = b_temp\r\n",
        "\r\n",
        "  alpha_ir = np.linalg.norm(mi_th_wrt_y)  + np.matrix.trace(sigma2_th_wrt_y)    # ||μ.θ|y ||^2 + trace(Σ.θ|y)\r\n",
        "  bita_ir  = np.linalg.norm(y_fmu_magn) + np.matrix.trace(XX.dot(sigma2_th_wrt_y))   # ||y-Φμ.θ|y ||^2 + trace(Φ*Σ.θ|y*Φ.Τ)\r\n",
        "\r\n",
        "  a_temp = k/alpha_ir\r\n",
        "  b_temp = N/bita_ir\r\n",
        "  \r\n",
        "  differ_a =  a_temp - a_tmp_prev     # a_temp-a_temp(j-1)< e \r\n",
        "  differ_b =  b_temp  - b_tmp_prev    #& b_temp-b_temp(j-1)<e\r\n",
        "  \r\n",
        "\r\n",
        "  print('\\n',i, '. ' , 'sigma-theta^2 = ' + str(1/a_temp), 'sigma-ita^2 = ' + str(1/b_temp))\r\n",
        "  print(\"\\n      εξέλιξη: \",  differ_a,   differ_b, )\r\n",
        "\r\n",
        "# converges with wrong sigma-ita - sigma-theta"
      ],
      "execution_count": 12,
      "outputs": [
        {
          "output_type": "stream",
          "text": [
            "\n",
            " 1 .  sigma-theta^2 = 761.741812948143 sigma-ita^2 = 1.5707441154560997\n",
            "\n",
            "      εξέλιξη:  -0.9986872192349141 -0.3633590664704618\n",
            "\n",
            " 2 .  sigma-theta^2 = 507527.38426610397 sigma-ita^2 = 661.483484563521\n",
            "\n",
            "      εξέλιξη:  -0.0013108104280538694 -0.6351291799886923\n",
            "\n",
            " 3 .  sigma-theta^2 = 253457754.30457696 sigma-ita^2 = 170497.06813194885\n",
            "\n",
            "      εξέλιξη:  -1.9663916013716927e-06 -0.0015058883373503024\n",
            "\n",
            " 4 .  sigma-theta^2 = 126475809527.47095 sigma-ita^2 = 84825786.5100395\n",
            "\n",
            "      εξέλιξη:  -3.937524030005753e-09 -5.853414627619178e-06\n",
            "\n",
            " 5 .  sigma-theta^2 = 63111428915131.516 sigma-ita^2 = 42327575578.09883\n",
            "\n",
            "      εξέλιξη:  -7.890805330373942e-12 -1.1765242737563009e-08\n",
            "\n",
            " 6 .  sigma-theta^2 = 3.1492603266532484e+16 sigma-ita^2 = 21121460855685.99\n",
            "\n",
            "      εξέλιξη:  -1.581323714506846e-14 -2.357791530496458e-11\n",
            "\n",
            " 7 .  sigma-theta^2 = 1.5714808998336444e+19 sigma-ita^2 = 1.0539608879416066e+16\n",
            "\n",
            "      εξέλιξη:  -3.16898537581525e-17 -4.7250329832117283e-14\n",
            "\n",
            " 8 .  sigma-theta^2 = 7.841689656030356e+21 sigma-ita^2 = 5.259264579021032e+18\n",
            "\n",
            "      εξέλιξη:  -6.350672108588086e-20 -9.469004052295639e-17\n"
          ],
          "name": "stdout"
        }
      ]
    },
    {
      "cell_type": "code",
      "metadata": {
        "id": "8tB5Gz2aFqkW"
      },
      "source": [
        "# # plotting the points \r\n",
        "# plt.plot(x, y, marker='.', linewidth=0, label = 'experiment') \r\n",
        "\r\n",
        "# # naming the x axis \r\n",
        "# plt.xlabel('x - axis') \r\n",
        "# # naming the y axis \r\n",
        "# plt.ylabel('y - axis') \r\n",
        "\r\n",
        "# # giving a title to my graph \r\n",
        "# plt.title('Experiments Input') \r\n",
        "\r\n",
        "\r\n",
        "# # function to show the plot \r\n",
        "# plt.legend()\r\n",
        "# # plt.show() \r\n"
      ],
      "execution_count": 10,
      "outputs": []
    },
    {
      "cell_type": "code",
      "metadata": {
        "id": "29C_SSLhtPC1"
      },
      "source": [
        ""
      ],
      "execution_count": 3,
      "outputs": []
    }
  ]
}