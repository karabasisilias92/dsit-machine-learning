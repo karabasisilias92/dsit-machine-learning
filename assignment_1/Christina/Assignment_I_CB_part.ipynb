{
  "nbformat": 4,
  "nbformat_minor": 0,
  "metadata": {
    "colab": {
      "name": "Assignment I_CB part.ipynb",
      "provenance": []
    },
    "kernelspec": {
      "name": "python3",
      "display_name": "Python 3"
    }
  },
  "cells": [
    {
      "cell_type": "markdown",
      "metadata": {
        "id": "Bti3jUDZJ6k5"
      },
      "source": [
        "# Machine Learning DSIT UOA\r\n",
        "\r\n",
        "### Assignment 1 - iii - Ridge Regression"
      ]
    },
    {
      "cell_type": "markdown",
      "metadata": {
        "id": "tCPBER1eN8XD"
      },
      "source": [
        "### Actual Results"
      ]
    },
    {
      "cell_type": "markdown",
      "metadata": {
        "id": "2eJHmxwjKUn-"
      },
      "source": [
        "*Importing required modules*"
      ]
    },
    {
      "cell_type": "code",
      "metadata": {
        "id": "1xWqKWcJIo8V"
      },
      "source": [
        "import matplotlib.pyplot as plt \r\n",
        "import numpy as np "
      ],
      "execution_count": null,
      "outputs": []
    },
    {
      "cell_type": "markdown",
      "metadata": {
        "id": "BikbxxONKbR2"
      },
      "source": [
        "*Function to generate our Input &\"Experimental\" Results in arrays*"
      ]
    },
    {
      "cell_type": "code",
      "metadata": {
        "id": "fyh5ZaCgJ2Ng"
      },
      "source": [
        "def x_y_actual(t0, t1, t2, t3, t5, r_step, r__start, r__end):\r\n",
        "\r\n",
        "    x = np.linspace(r__start, r__end, num= N)             #input range [0,2] including 2 \r\n",
        "    noise = np.random.normal(mu,sigma, size=(N,))         #adding random noise of input data\r\n",
        "    y = t5*x**5 + t3*x**3 + t2*x**2 + t1*x + t0 + noise   \r\n",
        "\r\n",
        "    return(x, y)"
      ],
      "execution_count": null,
      "outputs": []
    },
    {
      "cell_type": "markdown",
      "metadata": {
        "id": "laZTpRTXKxfw"
      },
      "source": [
        "*Actual polynomial model parameters and Sample range*\r\n"
      ]
    },
    {
      "cell_type": "code",
      "metadata": {
        "id": "DOd57sCvJ3Uo"
      },
      "source": [
        "#polynomial weights\r\n",
        "th0 = 0.2\r\n",
        "th1 = -1\r\n",
        "th2 = 0.9\r\n",
        "th3 = 0.7\r\n",
        "th5 = -0.2\r\n",
        "\r\n",
        "#Input data range\r\n",
        "r_start = 0\r\n",
        "r_end = 2\r\n",
        "N  = 20\r\n",
        "step = (r_end - r_start) / N\r\n",
        "\r\n",
        "mu, sigma = 0, 0.1    # mean and standard deviation of Input noise"
      ],
      "execution_count": null,
      "outputs": []
    },
    {
      "cell_type": "markdown",
      "metadata": {
        "id": "Ib27ngrJML8z"
      },
      "source": [
        "*Assign values to {x, y} set*"
      ]
    },
    {
      "cell_type": "code",
      "metadata": {
        "id": "NQcYHjOVLJRQ"
      },
      "source": [
        "x, y = x_y_actual(th0, th1, th2, th3, th5, step, r_start, r_end)"
      ],
      "execution_count": null,
      "outputs": []
    },
    {
      "cell_type": "markdown",
      "metadata": {
        "id": "MvI2k5FzMqhS"
      },
      "source": [
        "### Predicted Results\r\n",
        "*Compute parameters from Input data using 5th degree polynomial model*"
      ]
    },
    {
      "cell_type": "markdown",
      "metadata": {
        "id": "r94Qf2yrOVLK"
      },
      "source": [
        "*Parameters*"
      ]
    },
    {
      "cell_type": "code",
      "metadata": {
        "id": "cCzyjoitLLss"
      },
      "source": [
        "poly_deg = 5\r\n",
        "lamda = 0.03"
      ],
      "execution_count": null,
      "outputs": []
    },
    {
      "cell_type": "markdown",
      "metadata": {
        "id": "lEXmfp6_Z2Zl"
      },
      "source": [
        "*Build vector **X** ([1  x  x^2  x^3  x^5] in range [0,2] to use for trainning*"
      ]
    },
    {
      "cell_type": "code",
      "metadata": {
        "id": "QdqRlv54OZuV"
      },
      "source": [
        "Q_train = np.zeros(shape = (N,poly_deg+1))\r\n",
        "Q_train[:,0] = 1\r\n",
        "for i in range(1,poly_deg+1):\r\n",
        "    if i!=4:         #we do not want term x^4 to contribute\r\n",
        "\r\n",
        "      Q_train[:,i] = np.power(x,i).reshape((N,))   #x^5+x^3+...\r\n"
      ],
      "execution_count": null,
      "outputs": []
    },
    {
      "cell_type": "markdown",
      "metadata": {
        "id": "c_fRH0mvcIcw"
      },
      "source": [
        "*Parameter \"Θ\" Calculation*"
      ]
    },
    {
      "cell_type": "code",
      "metadata": {
        "colab": {
          "base_uri": "https://localhost:8080/"
        },
        "id": "sw-uIrdRbTnt",
        "outputId": "afaf767a-01e2-4881-a59a-b991a82e49bc"
      },
      "source": [
        "#closed form solution for theta = ((X.T * X + λΙ)^-1) * Χ.Τ * Υ\r\n",
        "theta = np.linalg.pinv((Q_train.T.dot(Q_train) + lamda*np.eye(poly_deg+1))).dot(Q_train.T).dot(y)\r\n",
        "theta\r\n"
      ],
      "execution_count": null,
      "outputs": [
        {
          "output_type": "execute_result",
          "data": {
            "text/plain": [
              "array([ 0.11421279, -0.6994858 ,  0.34268871,  1.08719671,  0.        ,\n",
              "       -0.24703415])"
            ]
          },
          "metadata": {
            "tags": []
          },
          "execution_count": 73
        }
      ]
    },
    {
      "cell_type": "code",
      "metadata": {
        "colab": {
          "base_uri": "https://localhost:8080/"
        },
        "id": "MYwQriJobcxb",
        "outputId": "2ec948ad-fdb2-41b2-9fe9-492947af6169"
      },
      "source": [
        "theta_per"
      ],
      "execution_count": null,
      "outputs": [
        {
          "output_type": "execute_result",
          "data": {
            "text/plain": [
              "array([-0.01531036, -0.26053155,  0.32647789,  0.80220436,  0.        ,\n",
              "       -0.19397569])"
            ]
          },
          "metadata": {
            "tags": []
          },
          "execution_count": 70
        }
      ]
    },
    {
      "cell_type": "markdown",
      "metadata": {
        "id": "IYCjXz6EeEB1"
      },
      "source": [
        "*Check MSE behaviour vs different values of lamda*"
      ]
    },
    {
      "cell_type": "code",
      "metadata": {
        "colab": {
          "base_uri": "https://localhost:8080/",
          "height": 265
        },
        "id": "g23a3mScbpWs",
        "outputId": "e7b18d9c-b64f-457c-ed08-1bab905394a2"
      },
      "source": [
        "import math\r\n",
        "\r\n",
        "sample_shp = 100\r\n",
        "\r\n",
        "# Initialize arrays\r\n",
        "mse = np.zeros(shape= sample_shp)\r\n",
        "log_mse = np.zeros(shape= sample_shp)\r\n",
        "\r\n",
        "# Define lamda values range & density\r\n",
        "l_str = 0\r\n",
        "l_end = 500\r\n",
        "step_l = (l_end - l_str) / sample_shp\r\n",
        "lamd_range = np.arange(l_str ,l_end, step_l)  #1,2,3...10\r\n",
        "\r\n",
        "for lamda in range(len(lamd_range)):\r\n",
        "\r\n",
        "    #closed form solution for theta = ((X.T * X + λΙ)^-1) * Χ.Τ * Υ\r\n",
        "  theta = np.linalg.pinv((Q_train.T.dot(Q_train) + lamda*np.eye(poly_deg+1))).dot(Q_train.T).dot(y)\r\n",
        "\r\n",
        "  prev = 0 \r\n",
        "  \r\n",
        "  for k in range(len(y)):\r\n",
        "  \r\n",
        "    mse[lamda] = prev + pow(Q_train.dot(theta)[k] - y[k],2)  \r\n",
        "    prev =  mse[lamda]\r\n",
        "  \r\n",
        "    for j in mse:\r\n",
        "       log_mse[lamda] = math.log(mse[lamda])\r\n",
        "\r\n",
        "\r\n",
        "#Plot to see the dependency\r\n",
        "plt.plot(lamd_range, mse, marker='.',linewidth=0, label='MSE vs lamda')\r\n",
        "plt.legend()\r\n",
        "plt.show()\r\n"
      ],
      "execution_count": null,
      "outputs": [
        {
          "output_type": "display_data",
          "data": {
            "image/png": "[encoded data removed]",
            "text/plain": [
              "<Figure size 432x288 with 1 Axes>"
            ]
          },
          "metadata": {
            "tags": [],
            "needs_background": "light"
          }
        }
      ]
    },
    {
      "cell_type": "markdown",
      "metadata": {
        "id": "su01_PXoff9H"
      },
      "source": [
        "# **WTF???**"
      ]
    },
    {
      "cell_type": "code",
      "metadata": {
        "id": "QLK716W1fNYj"
      },
      "source": [
        ""
      ],
      "execution_count": null,
      "outputs": []
    }
  ]
}