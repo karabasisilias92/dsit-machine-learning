{
  "nbformat": 4,
  "nbformat_minor": 0,
  "metadata": {
    "colab": {
      "name": "Deliverable-try_1.ipynb",
      "provenance": []
    },
    "kernelspec": {
      "name": "python3",
      "display_name": "Python 3"
    }
  },
  "cells": [
    {
      "cell_type": "markdown",
      "metadata": {
        "id": "R6kYAu1b6oL8"
      },
      "source": [
        "## Machine Learning\r\n",
        "Assignment 1 -\r\n",
        "DSIT UOA"
      ]
    },
    {
      "cell_type": "markdown",
      "metadata": {
        "id": "vFfzGA3V6s6r"
      },
      "source": [
        "##Problem 1"
      ]
    },
    {
      "cell_type": "markdown",
      "metadata": {
        "id": "qIF4rzQO82o3"
      },
      "source": [
        "*Importing required modules*"
      ]
    },
    {
      "cell_type": "code",
      "metadata": {
        "id": "BWWP3eIf8rw5"
      },
      "source": [
        "import matplotlib.pyplot as plt \r\n",
        "import numpy as np "
      ],
      "execution_count": 11,
      "outputs": []
    },
    {
      "cell_type": "markdown",
      "metadata": {
        "id": "9eF3ETV56zNJ"
      },
      "source": [
        "###1.1"
      ]
    },
    {
      "cell_type": "code",
      "metadata": {
        "id": "55b-0Agv6ypO"
      },
      "source": [
        ""
      ],
      "execution_count": 2,
      "outputs": []
    },
    {
      "cell_type": "markdown",
      "metadata": {
        "id": "eVK4H5hJ68KF"
      },
      "source": [
        "###1.2"
      ]
    },
    {
      "cell_type": "code",
      "metadata": {
        "id": "LNThXp-76fOr"
      },
      "source": [
        ""
      ],
      "execution_count": 2,
      "outputs": []
    },
    {
      "cell_type": "markdown",
      "metadata": {
        "id": "QV0LolO46_PV"
      },
      "source": [
        "###1.3"
      ]
    },
    {
      "cell_type": "markdown",
      "metadata": {
        "id": "xCPlP3628-Nz"
      },
      "source": [
        "Function to generate our Input & \"Experimental\" Results in arrays"
      ]
    },
    {
      "cell_type": "code",
      "metadata": {
        "id": "IqDx-QiR7BQV"
      },
      "source": [
        "def x_y_actual(t0, t1, t2, t3, t5, r_step, r__start, r__end):\r\n",
        "\r\n",
        "    x = np.linspace(r__start, r__end, num= N)             #input range [0,2] including 2 \r\n",
        "    noise = np.random.normal(mu,sigma, size=(N,))         #adding random noise of input data\r\n",
        "    y = t5*x**5 + t3*x**3 + t2*x**2 + t1*x + t0 + noise \r\n",
        "    y_true  = t5*x**5 + t3*x**3 + t2*x**2 + t1*x + t0 \r\n",
        "\r\n",
        "    return(x, y, y_true)"
      ],
      "execution_count": 12,
      "outputs": []
    },
    {
      "cell_type": "markdown",
      "metadata": {
        "id": "Qk1bPL2R9DrO"
      },
      "source": [
        "*Actual polynomial model parameters and Sample range*\r\n"
      ]
    },
    {
      "cell_type": "code",
      "metadata": {
        "id": "_e7m8QHf9Mcq"
      },
      "source": [
        "#polynomial weights\r\n",
        "th0 = 0.2\r\n",
        "th1 = -1\r\n",
        "th2 = 0.9\r\n",
        "th3 = 0.7\r\n",
        "th5 = -0.2\r\n",
        "\r\n",
        "#Input data range\r\n",
        "r_start = 0\r\n",
        "r_end = 2\r\n",
        "N  = 20\r\n",
        "step = (r_end - r_start) / N\r\n",
        "\r\n",
        "mu, sigma = 0, 0.1    # mean and standard deviation of Input noise"
      ],
      "execution_count": 13,
      "outputs": []
    },
    {
      "cell_type": "markdown",
      "metadata": {
        "id": "CTICTchy9OLs"
      },
      "source": [
        "*Assign values to {x, y} set*"
      ]
    },
    {
      "cell_type": "code",
      "metadata": {
        "id": "dFDzez0e9Nyj"
      },
      "source": [
        "x, y , y_true = x_y_actual(th0, th1, th2, th3, th5, step, r_start, r_end)"
      ],
      "execution_count": 14,
      "outputs": []
    },
    {
      "cell_type": "markdown",
      "metadata": {
        "id": "txcc8Hmr9XQA"
      },
      "source": [
        "Predict Results -->\r\n",
        "*Compute parameters from Input data of the 5th degree polynomial model with Ridge Regression*"
      ]
    },
    {
      "cell_type": "markdown",
      "metadata": {
        "id": "7AsU4fYu9mLB"
      },
      "source": [
        "*Parameters*"
      ]
    },
    {
      "cell_type": "code",
      "metadata": {
        "id": "Jy_4_CpA9edd"
      },
      "source": [
        "poly_deg = 5\r\n",
        "lamda = 0.008   #Optimal value is selected by MSE least value, compputed below"
      ],
      "execution_count": 15,
      "outputs": []
    },
    {
      "cell_type": "markdown",
      "metadata": {
        "id": "_As9x9ib9wCL"
      },
      "source": [
        "*Build vector **X** ([1  x  x^2  x^3  x^5] in range [0,2] of N points to use for trainning*"
      ]
    },
    {
      "cell_type": "code",
      "metadata": {
        "id": "_eTcRCiG9s7R"
      },
      "source": [
        "Q_train = np.zeros(shape = (N,poly_deg+1))\r\n",
        "Q_train[:,0] = 1\r\n",
        "for i in range(1,poly_deg+1):\r\n",
        "    if i!=4:         #we do not want term x^4 to contribute\r\n",
        "      Q_train[:,i] = np.power(x,i).reshape((N,))   #[x, x^2, x^3, x^5] of input data x ∈ [0,2]"
      ],
      "execution_count": 16,
      "outputs": []
    },
    {
      "cell_type": "markdown",
      "metadata": {
        "id": "rwUUtK2J94l8"
      },
      "source": [
        "*Parameter \"Θ\" Calculation*"
      ]
    },
    {
      "cell_type": "code",
      "metadata": {
        "colab": {
          "base_uri": "https://localhost:8080/"
        },
        "id": "iUUqvWmj97st",
        "outputId": "f07458c2-46fb-405d-d1c6-331b296c6db0"
      },
      "source": [
        "#closed form solution for theta = ((X.T * X + λΙ)^-1) * Χ.Τ * Υ\r\n",
        "theta = np.linalg.pinv((Q_train.T.dot(Q_train) + lamda*np.eye(poly_deg+1))).dot(Q_train.T).dot(y)\r\n",
        "theta"
      ],
      "execution_count": 17,
      "outputs": [
        {
          "output_type": "execute_result",
          "data": {
            "text/plain": [
              "array([ 0.22694041, -1.01817743,  0.64436874,  0.9842359 ,  0.        ,\n",
              "       -0.24210408])"
            ]
          },
          "metadata": {
            "tags": []
          },
          "execution_count": 17
        }
      ]
    },
    {
      "cell_type": "markdown",
      "metadata": {
        "id": "QRVOa1v1-CPP"
      },
      "source": [
        "*Check MSE behaviour vs different values \r\n",
        "of lamda*"
      ]
    },
    {
      "cell_type": "code",
      "metadata": {
        "colab": {
          "base_uri": "https://localhost:8080/",
          "height": 265
        },
        "id": "Qh0SvfFS-JM7",
        "outputId": "db54dc40-964d-4d11-91b7-99029be809f7"
      },
      "source": [
        "import math\r\n",
        "\r\n",
        "sample_shp = 100\r\n",
        "\r\n",
        "# Initialize arrays\r\n",
        "mse = np.zeros((sample_shp))\r\n",
        "\r\n",
        "# Define lamda values range & density\r\n",
        "l_str = 0\r\n",
        "l_end = 0.5\r\n",
        "step_l = (l_end - l_str) / sample_shp\r\n",
        "lamd_range = np.arange(l_str ,l_end, step_l)  \r\n",
        "i,m =0, 0\r\n",
        "for lamda in lamd_range:\r\n",
        "\r\n",
        " #closed form solution for theta = ((X.T * X + λΙ)^-1) * Χ.Τ * Υ\r\n",
        "  theta = np.linalg.pinv((Q_train.T.dot(Q_train) + lamda*np.eye(poly_deg+1))).dot(Q_train.T).dot(y)\r\n",
        "\r\n",
        "  prev = 0 \r\n",
        "  for k in range(len(y)):\r\n",
        "    \r\n",
        "    mse[i] = prev + pow(Q_train.dot(theta)[k] - y_true[k],2)  \r\n",
        "    prev =  mse[i]\r\n",
        "\r\n",
        "  if mse[i] < mse[0]:\r\n",
        "      mse_better[i] = mse[i]\r\n",
        "\r\n",
        "\r\n",
        "  i = i+1\r\n",
        "\r\n",
        "opt = np.argmin(mse)    #index of optimal lamda (least value of MSE)\r\n",
        "mse_better[ mse_better==0 ] = np.nan\r\n",
        "\r\n",
        "# Plot to see the dependency\r\n",
        "plt.plot(lamd_range, mse, 'k.',linewidth=0, label='MSE vs lamda')\r\n",
        "plt.plot(lamd_range, mse_better , 'r|',linewidth=0, label='MSE better than LS for these lamda')\r\n",
        "plt.plot(lamd_range[opt], mse[opt], 'g^',linewidth=0, label='optimal lamda')\r\n",
        "plt.legend()\r\n",
        "plt.show()\r\n"
      ],
      "execution_count": 62,
      "outputs": [
        {
          "output_type": "display_data",
          "data": {
            "image/png": "[encoded data removed]",
            "text/plain": [
              "<Figure size 432x288 with 1 Axes>"
            ]
          },
          "metadata": {
            "tags": [],
            "needs_background": "light"
          }
        }
      ]
    },
    {
      "cell_type": "markdown",
      "metadata": {
        "id": "gZIoBN3Z-Vlz"
      },
      "source": [
        "Optimal Lamda"
      ]
    },
    {
      "cell_type": "code",
      "metadata": {
        "colab": {
          "base_uri": "https://localhost:8080/"
        },
        "id": "MdzuzEQr-SMd",
        "outputId": "1ab984c6-603e-43e5-f8f9-96d48dfee0b8"
      },
      "source": [
        "found =  mse[opt] - min(mse)\r\n",
        "print(found)\r\n",
        "print(\"Optimal lamda = \", str(lamd_range[opt]),\" & Least MSE = \", str(mse[opt]))"
      ],
      "execution_count": 63,
      "outputs": [
        {
          "output_type": "stream",
          "text": [
            "0.0\n",
            "Optimal lamda =  0.07  & Least MSE =  0.017915049355909554\n"
          ],
          "name": "stdout"
        }
      ]
    },
    {
      "cell_type": "markdown",
      "metadata": {
        "id": "A_kirO4W7AKE"
      },
      "source": [
        "###1.4"
      ]
    },
    {
      "cell_type": "code",
      "metadata": {
        "id": "cw4yoiGF7E6b"
      },
      "source": [
        ""
      ],
      "execution_count": 10,
      "outputs": []
    },
    {
      "cell_type": "markdown",
      "metadata": {
        "id": "p6cDFpTt7Hc1"
      },
      "source": [
        "###1.5"
      ]
    },
    {
      "cell_type": "code",
      "metadata": {
        "id": "6tnFo3Je7HFH"
      },
      "source": [
        ""
      ],
      "execution_count": 10,
      "outputs": []
    },
    {
      "cell_type": "markdown",
      "metadata": {
        "id": "g2Rb1qJ87JVk"
      },
      "source": [
        "###1.6"
      ]
    },
    {
      "cell_type": "code",
      "metadata": {
        "id": "iIt_GHU_7M4_"
      },
      "source": [
        ""
      ],
      "execution_count": 10,
      "outputs": []
    },
    {
      "cell_type": "markdown",
      "metadata": {
        "id": "jyNBGEi57L9H"
      },
      "source": [
        "##Problem 2"
      ]
    },
    {
      "cell_type": "code",
      "metadata": {
        "id": "CVEr926g7bLw"
      },
      "source": [
        ""
      ],
      "execution_count": 10,
      "outputs": []
    },
    {
      "cell_type": "markdown",
      "metadata": {
        "id": "rSWoM7Ko7buG"
      },
      "source": [
        "###2.1"
      ]
    },
    {
      "cell_type": "code",
      "metadata": {
        "id": "yfE-NJcD7egD"
      },
      "source": [
        ""
      ],
      "execution_count": 10,
      "outputs": []
    },
    {
      "cell_type": "markdown",
      "metadata": {
        "id": "zXBUb6cS7ez_"
      },
      "source": [
        "###2.2"
      ]
    },
    {
      "cell_type": "markdown",
      "metadata": {
        "id": "09d10p0R7xI8"
      },
      "source": [
        "####2.2.a"
      ]
    },
    {
      "cell_type": "code",
      "metadata": {
        "id": "7oLKKkrn71KT"
      },
      "source": [
        ""
      ],
      "execution_count": 10,
      "outputs": []
    },
    {
      "cell_type": "markdown",
      "metadata": {
        "id": "bnonK-Uf72_n"
      },
      "source": [
        "####2.2.b"
      ]
    },
    {
      "cell_type": "code",
      "metadata": {
        "id": "vGiXXVEY77d5"
      },
      "source": [
        ""
      ],
      "execution_count": 10,
      "outputs": []
    },
    {
      "cell_type": "markdown",
      "metadata": {
        "id": "RVjLC4YH78GQ"
      },
      "source": [
        "####2.2.c"
      ]
    },
    {
      "cell_type": "code",
      "metadata": {
        "id": "e1e85M0A79VL"
      },
      "source": [
        ""
      ],
      "execution_count": 10,
      "outputs": []
    },
    {
      "cell_type": "markdown",
      "metadata": {
        "id": "XT9glXC679y8"
      },
      "source": [
        "####2.2.d"
      ]
    },
    {
      "cell_type": "code",
      "metadata": {
        "id": "v94BZUhb7f1h"
      },
      "source": [
        ""
      ],
      "execution_count": 10,
      "outputs": []
    },
    {
      "cell_type": "markdown",
      "metadata": {
        "id": "PR7oOqDG7gxR"
      },
      "source": [
        "###2.3"
      ]
    },
    {
      "cell_type": "code",
      "metadata": {
        "id": "1kUbHxax7i3o"
      },
      "source": [
        ""
      ],
      "execution_count": 10,
      "outputs": []
    },
    {
      "cell_type": "markdown",
      "metadata": {
        "id": "59VomALE7jRV"
      },
      "source": [
        "###2.4"
      ]
    },
    {
      "cell_type": "code",
      "metadata": {
        "id": "ctawkCBz7omE"
      },
      "source": [
        ""
      ],
      "execution_count": 10,
      "outputs": []
    }
  ]
}