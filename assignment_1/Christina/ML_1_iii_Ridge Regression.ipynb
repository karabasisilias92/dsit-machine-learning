{
  "nbformat": 4,
  "nbformat_minor": 0,
  "metadata": {
    "colab": {
      "name": "ML-Assignment1_Ex1_iii.ipynb",
      "provenance": []
    },
    "kernelspec": {
      "name": "python3",
      "display_name": "Python 3"
    }
  },
  "cells": [
    {
      "cell_type": "code",
      "metadata": {
        "colab": {
          "base_uri": "https://localhost:8080/",
          "height": 295
        },
        "id": "8SPkYHGwoI2u",
        "outputId": "c8b4531f-d168-453c-fe00-1ffc53e34478"
      },
      "source": [
        "#  Machine Learning DSIT UOA\r\n",
        "#  Assignment 1 - iii - Ridge REgression\r\n",
        "\r\n",
        "# importing the required module \r\n",
        "import matplotlib.pyplot as plt \r\n",
        "import numpy as np \r\n",
        "\r\n",
        "#\r\n",
        "th0 = 0.1\r\n",
        "th1 = -1\r\n",
        "th2 = 0.9\r\n",
        "th3 = 0.7\r\n",
        "th5 = -0.2\r\n",
        "\r\n",
        "# play with lamda ridge regression penalty term  here\r\n",
        "lamda = 0.2\r\n",
        "\r\n",
        "#data range\r\n",
        "r_start = 0\r\n",
        "r_end = 2\r\n",
        "N  = 20\r\n",
        "step = (r_end - r_start) / N\r\n",
        "\r\n",
        "mu, sigma = 0, 0.1 # mean and standard deviation\r\n",
        "# noise = np.random.normal(mu,sigma, size=(0, 2))\r\n",
        "\r\n",
        "def y_actual_res(t0, t1, t2, t3, t5, r_step, r__start, r__end):\r\n",
        "\r\n",
        "    # x = np.arange(r__start, r__end, r_step )      #doesn't includes 2 in range [0,2]\r\n",
        "    x = np.linspace(r__start, r__end, num= N)     #includes 2 in range [0,2],  N-not a input parameter! - pending!!\r\n",
        "    noise = np.random.normal(mu,sigma, size=(20,))  #check dimensionality(!!!!!) - pending\r\n",
        "    # noise = 0\r\n",
        "    y = t5*x**5 + t3*x**3 + t2*x**2 + t1*x + t0 + noise\r\n",
        "\r\n",
        "    return(x, y)\r\n",
        "\r\n",
        "x, y = y_actual_res(th0, th1, th2, th3, th5, step, r_start, r_end)\r\n",
        "# plotting the points \r\n",
        "plt.plot(x, y, marker='o',linewidth=0, label = 'experiment' ) \r\n",
        "\r\n",
        "# naming the x axis \r\n",
        "plt.xlabel('x - axis') \r\n",
        "# naming the y axis \r\n",
        "plt.ylabel('y - axis') \r\n",
        "\r\n",
        "# giving a title to my graph \r\n",
        "plt.title('Experiments Input') \r\n",
        "\r\n",
        "# function to show the plot \r\n",
        "plt.legend()\r\n",
        "plt.show() \r\n"
      ],
      "execution_count": null,
      "outputs": [
        {
          "output_type": "display_data",
          "data": {
            "image/png": "[encoded data removed]",
            "text/plain": [
              "<Figure size 432x288 with 1 Axes>"
            ]
          },
          "metadata": {
            "tags": [],
            "needs_background": "light"
          }
        }
      ]
    },
    {
      "cell_type": "code",
      "metadata": {
        "id": "XJiTlk6ptIjZ"
      },
      "source": [
        ""
      ],
      "execution_count": null,
      "outputs": []
    },
    {
      "cell_type": "markdown",
      "metadata": {
        "id": "EyW1lzBWtKY2"
      },
      "source": [
        ""
      ]
    },
    {
      "cell_type": "code",
      "metadata": {
        "colab": {
          "base_uri": "https://localhost:8080/"
        },
        "id": "BzucXx_hoRJP",
        "outputId": "b8cc2c08-e0ed-4aa7-c2f1-b8e047fff2b9"
      },
      "source": [
        "x"
      ],
      "execution_count": null,
      "outputs": [
        {
          "output_type": "execute_result",
          "data": {
            "text/plain": [
              "array([0.        , 0.10526316, 0.21052632, 0.31578947, 0.42105263,\n",
              "       0.52631579, 0.63157895, 0.73684211, 0.84210526, 0.94736842,\n",
              "       1.05263158, 1.15789474, 1.26315789, 1.36842105, 1.47368421,\n",
              "       1.57894737, 1.68421053, 1.78947368, 1.89473684, 2.        ])"
            ]
          },
          "metadata": {
            "tags": []
          },
          "execution_count": 4
        }
      ]
    },
    {
      "cell_type": "code",
      "metadata": {
        "colab": {
          "base_uri": "https://localhost:8080/"
        },
        "id": "cNQdoEXUoSLn",
        "outputId": "76980a6f-efa4-467e-c471-cea9b302746e"
      },
      "source": [
        "pQ_train = np.zeros(shape = (2,4))\r\n",
        "pQ_train[:,0] = 1\r\n",
        "pQ_train"
      ],
      "execution_count": null,
      "outputs": [
        {
          "output_type": "execute_result",
          "data": {
            "text/plain": [
              "array([[1., 0., 0., 0.],\n",
              "       [1., 0., 0., 0.]])"
            ]
          },
          "metadata": {
            "tags": []
          },
          "execution_count": 5
        }
      ]
    },
    {
      "cell_type": "code",
      "metadata": {
        "colab": {
          "base_uri": "https://localhost:8080/"
        },
        "id": "jV2DMa4LIiYV",
        "outputId": "183c63d5-b6d5-46ff-e438-f84b4072d233"
      },
      "source": [
        "pQ_train.T"
      ],
      "execution_count": null,
      "outputs": [
        {
          "output_type": "execute_result",
          "data": {
            "text/plain": [
              "array([[1., 1.],\n",
              "       [0., 0.],\n",
              "       [0., 0.],\n",
              "       [0., 0.]])"
            ]
          },
          "metadata": {
            "tags": []
          },
          "execution_count": 6
        }
      ]
    },
    {
      "cell_type": "code",
      "metadata": {
        "colab": {
          "base_uri": "https://localhost:8080/",
          "height": 1000
        },
        "id": "5mh75_eQJMpr",
        "outputId": "8ca69242-4b42-4548-a6d3-a35d2839a03b"
      },
      "source": [
        "#ridge regression added, adjust lamda to make it work, if lamda = 0 becomes traditional LS with no regularization\r\n",
        "lamda = 0.3  # ridge regression penalty term\r\n",
        "poly_deg = 5\r\n",
        "\r\n",
        "Q_train = np.zeros(shape = (N,poly_deg+1))\r\n",
        "Q_train[:,0] = 1\r\n",
        "for i in range(1,poly_deg+1):\r\n",
        "    if i!=4:         #we want x^4 to be vanished\r\n",
        "\r\n",
        "      Q_train[:,i] = np.power(x,i).reshape((N,))   #x^5+...\r\n",
        "      print(Q_train) \r\n",
        "\r\n",
        "#closed form solution for theta = ((X.T * X + λΙ)^-1) * Χ.Τ * Υ\r\n",
        "theta = np.linalg.pinv((Q_train.T.dot(Q_train) + lamda*np.eye(poly_deg+1))).dot(Q_train.T).dot(y)\r\n",
        "\r\n",
        "\r\n",
        "plt.plot(x,Q_train.dot(theta), marker='x',linewidth=0, c='r', label='poly fit degree =' + str(poly_deg))\r\n",
        "\r\n",
        "plt.plot(x,y, marker='o',linewidth=0, label='actual data')\r\n",
        "plt.legend()\r\n",
        "plt.show()"
      ],
      "execution_count": null,
      "outputs": [
        {
          "output_type": "stream",
          "text": [
            "[[1.         0.         0.         0.         0.         0.        ]\n",
            " [1.         0.10526316 0.         0.         0.         0.        ]\n",
            " [1.         0.21052632 0.         0.         0.         0.        ]\n",
            " [1.         0.31578947 0.         0.         0.         0.        ]\n",
            " [1.         0.42105263 0.         0.         0.         0.        ]\n",
            " [1.         0.52631579 0.         0.         0.         0.        ]\n",
            " [1.         0.63157895 0.         0.         0.         0.        ]\n",
            " [1.         0.73684211 0.         0.         0.         0.        ]\n",
            " [1.         0.84210526 0.         0.         0.         0.        ]\n",
            " [1.         0.94736842 0.         0.         0.         0.        ]\n",
            " [1.         1.05263158 0.         0.         0.         0.        ]\n",
            " [1.         1.15789474 0.         0.         0.         0.        ]\n",
            " [1.         1.26315789 0.         0.         0.         0.        ]\n",
            " [1.         1.36842105 0.         0.         0.         0.        ]\n",
            " [1.         1.47368421 0.         0.         0.         0.        ]\n",
            " [1.         1.57894737 0.         0.         0.         0.        ]\n",
            " [1.         1.68421053 0.         0.         0.         0.        ]\n",
            " [1.         1.78947368 0.         0.         0.         0.        ]\n",
            " [1.         1.89473684 0.         0.         0.         0.        ]\n",
            " [1.         2.         0.         0.         0.         0.        ]]\n",
            "[[1.         0.         0.         0.         0.         0.        ]\n",
            " [1.         0.10526316 0.01108033 0.         0.         0.        ]\n",
            " [1.         0.21052632 0.04432133 0.         0.         0.        ]\n",
            " [1.         0.31578947 0.09972299 0.         0.         0.        ]\n",
            " [1.         0.42105263 0.17728532 0.         0.         0.        ]\n",
            " [1.         0.52631579 0.27700831 0.         0.         0.        ]\n",
            " [1.         0.63157895 0.39889197 0.         0.         0.        ]\n",
            " [1.         0.73684211 0.54293629 0.         0.         0.        ]\n",
            " [1.         0.84210526 0.70914127 0.         0.         0.        ]\n",
            " [1.         0.94736842 0.89750693 0.         0.         0.        ]\n",
            " [1.         1.05263158 1.10803324 0.         0.         0.        ]\n",
            " [1.         1.15789474 1.34072022 0.         0.         0.        ]\n",
            " [1.         1.26315789 1.59556787 0.         0.         0.        ]\n",
            " [1.         1.36842105 1.87257618 0.         0.         0.        ]\n",
            " [1.         1.47368421 2.17174515 0.         0.         0.        ]\n",
            " [1.         1.57894737 2.49307479 0.         0.         0.        ]\n",
            " [1.         1.68421053 2.8365651  0.         0.         0.        ]\n",
            " [1.         1.78947368 3.20221607 0.         0.         0.        ]\n",
            " [1.         1.89473684 3.5900277  0.         0.         0.        ]\n",
            " [1.         2.         4.         0.         0.         0.        ]]\n",
            "[[1.00000000e+00 0.00000000e+00 0.00000000e+00 0.00000000e+00\n",
            "  0.00000000e+00 0.00000000e+00]\n",
            " [1.00000000e+00 1.05263158e-01 1.10803324e-02 1.16635078e-03\n",
            "  0.00000000e+00 0.00000000e+00]\n",
            " [1.00000000e+00 2.10526316e-01 4.43213296e-02 9.33080624e-03\n",
            "  0.00000000e+00 0.00000000e+00]\n",
            " [1.00000000e+00 3.15789474e-01 9.97229917e-02 3.14914711e-02\n",
            "  0.00000000e+00 0.00000000e+00]\n",
            " [1.00000000e+00 4.21052632e-01 1.77285319e-01 7.46464499e-02\n",
            "  0.00000000e+00 0.00000000e+00]\n",
            " [1.00000000e+00 5.26315789e-01 2.77008310e-01 1.45793847e-01\n",
            "  0.00000000e+00 0.00000000e+00]\n",
            " [1.00000000e+00 6.31578947e-01 3.98891967e-01 2.51931768e-01\n",
            "  0.00000000e+00 0.00000000e+00]\n",
            " [1.00000000e+00 7.36842105e-01 5.42936288e-01 4.00058318e-01\n",
            "  0.00000000e+00 0.00000000e+00]\n",
            " [1.00000000e+00 8.42105263e-01 7.09141274e-01 5.97171599e-01\n",
            "  0.00000000e+00 0.00000000e+00]\n",
            " [1.00000000e+00 9.47368421e-01 8.97506925e-01 8.50269719e-01\n",
            "  0.00000000e+00 0.00000000e+00]\n",
            " [1.00000000e+00 1.05263158e+00 1.10803324e+00 1.16635078e+00\n",
            "  0.00000000e+00 0.00000000e+00]\n",
            " [1.00000000e+00 1.15789474e+00 1.34072022e+00 1.55241289e+00\n",
            "  0.00000000e+00 0.00000000e+00]\n",
            " [1.00000000e+00 1.26315789e+00 1.59556787e+00 2.01545415e+00\n",
            "  0.00000000e+00 0.00000000e+00]\n",
            " [1.00000000e+00 1.36842105e+00 1.87257618e+00 2.56247266e+00\n",
            "  0.00000000e+00 0.00000000e+00]\n",
            " [1.00000000e+00 1.47368421e+00 2.17174515e+00 3.20046654e+00\n",
            "  0.00000000e+00 0.00000000e+00]\n",
            " [1.00000000e+00 1.57894737e+00 2.49307479e+00 3.93643388e+00\n",
            "  0.00000000e+00 0.00000000e+00]\n",
            " [1.00000000e+00 1.68421053e+00 2.83656510e+00 4.77737279e+00\n",
            "  0.00000000e+00 0.00000000e+00]\n",
            " [1.00000000e+00 1.78947368e+00 3.20221607e+00 5.73028138e+00\n",
            "  0.00000000e+00 0.00000000e+00]\n",
            " [1.00000000e+00 1.89473684e+00 3.59002770e+00 6.80215775e+00\n",
            "  0.00000000e+00 0.00000000e+00]\n",
            " [1.00000000e+00 2.00000000e+00 4.00000000e+00 8.00000000e+00\n",
            "  0.00000000e+00 0.00000000e+00]]\n",
            "[[1.00000000e+00 0.00000000e+00 0.00000000e+00 0.00000000e+00\n",
            "  0.00000000e+00 0.00000000e+00]\n",
            " [1.00000000e+00 1.05263158e-01 1.10803324e-02 1.16635078e-03\n",
            "  0.00000000e+00 1.29235543e-05]\n",
            " [1.00000000e+00 2.10526316e-01 4.43213296e-02 9.33080624e-03\n",
            "  0.00000000e+00 4.13553739e-04]\n",
            " [1.00000000e+00 3.15789474e-01 9.97229917e-02 3.14914711e-02\n",
            "  0.00000000e+00 3.14042371e-03]\n",
            " [1.00000000e+00 4.21052632e-01 1.77285319e-01 7.46464499e-02\n",
            "  0.00000000e+00 1.32337197e-02]\n",
            " [1.00000000e+00 5.26315789e-01 2.77008310e-01 1.45793847e-01\n",
            "  0.00000000e+00 4.03861073e-02]\n",
            " [1.00000000e+00 6.31578947e-01 3.98891967e-01 2.51931768e-01\n",
            "  0.00000000e+00 1.00493559e-01]\n",
            " [1.00000000e+00 7.36842105e-01 5.42936288e-01 4.00058318e-01\n",
            "  0.00000000e+00 2.17206178e-01]\n",
            " [1.00000000e+00 8.42105263e-01 7.09141274e-01 5.97171599e-01\n",
            "  0.00000000e+00 4.23479029e-01]\n",
            " [1.00000000e+00 9.47368421e-01 8.97506925e-01 8.50269719e-01\n",
            "  0.00000000e+00 7.63122961e-01]\n",
            " [1.00000000e+00 1.05263158e+00 1.10803324e+00 1.16635078e+00\n",
            "  0.00000000e+00 1.29235543e+00]\n",
            " [1.00000000e+00 1.15789474e+00 1.34072022e+00 1.55241289e+00\n",
            "  0.00000000e+00 2.08135135e+00]\n",
            " [1.00000000e+00 1.26315789e+00 1.59556787e+00 2.01545415e+00\n",
            "  0.00000000e+00 3.21579388e+00]\n",
            " [1.00000000e+00 1.36842105e+00 1.87257618e+00 2.56247266e+00\n",
            "  0.00000000e+00 4.79842526e+00]\n",
            " [1.00000000e+00 1.47368421e+00 2.17174515e+00 3.20046654e+00\n",
            "  0.00000000e+00 6.95059769e+00]\n",
            " [1.00000000e+00 1.57894737e+00 2.49307479e+00 3.93643388e+00\n",
            "  0.00000000e+00 9.81382408e+00]\n",
            " [1.00000000e+00 1.68421053e+00 2.83656510e+00 4.77737279e+00\n",
            "  0.00000000e+00 1.35513289e+01]\n",
            " [1.00000000e+00 1.78947368e+00 3.20221607e+00 5.73028138e+00\n",
            "  0.00000000e+00 1.83495991e+01]\n",
            " [1.00000000e+00 1.89473684e+00 3.59002770e+00 6.80215775e+00\n",
            "  0.00000000e+00 2.44199347e+01]\n",
            " [1.00000000e+00 2.00000000e+00 4.00000000e+00 8.00000000e+00\n",
            "  0.00000000e+00 3.20000000e+01]]\n"
          ],
          "name": "stdout"
        },
        {
          "output_type": "display_data",
          "data": {
            "image/png": "[encoded data removed]",
            "text/plain": [
              "<Figure size 432x288 with 1 Axes>"
            ]
          },
          "metadata": {
            "tags": [],
            "needs_background": "light"
          }
        }
      ]
    },
    {
      "cell_type": "code",
      "metadata": {
        "id": "6VV0iUnLN8Zz",
        "colab": {
          "base_uri": "https://localhost:8080/"
        },
        "outputId": "0736c68d-6980-4484-fa8b-c66253187b42"
      },
      "source": [
        "theta"
      ],
      "execution_count": null,
      "outputs": [
        {
          "output_type": "execute_result",
          "data": {
            "text/plain": [
              "array([-0.02170006, -0.27665282,  0.27709414,  0.77593919,  0.        ,\n",
              "       -0.1827265 ])"
            ]
          },
          "metadata": {
            "tags": []
          },
          "execution_count": 37
        }
      ]
    },
    {
      "cell_type": "code",
      "metadata": {
        "colab": {
          "base_uri": "https://localhost:8080/"
        },
        "id": "4Jz5nrZpdysr",
        "outputId": "cf74ed1a-1f82-4051-cc6b-47d31c99b968"
      },
      "source": [
        "Q_train"
      ],
      "execution_count": null,
      "outputs": [
        {
          "output_type": "execute_result",
          "data": {
            "text/plain": [
              "array([[1.00000000e+00, 0.00000000e+00, 0.00000000e+00, 0.00000000e+00,\n",
              "        0.00000000e+00, 0.00000000e+00],\n",
              "       [1.00000000e+00, 1.05263158e-01, 1.10803324e-02, 1.16635078e-03,\n",
              "        0.00000000e+00, 1.29235543e-05],\n",
              "       [1.00000000e+00, 2.10526316e-01, 4.43213296e-02, 9.33080624e-03,\n",
              "        0.00000000e+00, 4.13553739e-04],\n",
              "       [1.00000000e+00, 3.15789474e-01, 9.97229917e-02, 3.14914711e-02,\n",
              "        0.00000000e+00, 3.14042371e-03],\n",
              "       [1.00000000e+00, 4.21052632e-01, 1.77285319e-01, 7.46464499e-02,\n",
              "        0.00000000e+00, 1.32337197e-02],\n",
              "       [1.00000000e+00, 5.26315789e-01, 2.77008310e-01, 1.45793847e-01,\n",
              "        0.00000000e+00, 4.03861073e-02],\n",
              "       [1.00000000e+00, 6.31578947e-01, 3.98891967e-01, 2.51931768e-01,\n",
              "        0.00000000e+00, 1.00493559e-01],\n",
              "       [1.00000000e+00, 7.36842105e-01, 5.42936288e-01, 4.00058318e-01,\n",
              "        0.00000000e+00, 2.17206178e-01],\n",
              "       [1.00000000e+00, 8.42105263e-01, 7.09141274e-01, 5.97171599e-01,\n",
              "        0.00000000e+00, 4.23479029e-01],\n",
              "       [1.00000000e+00, 9.47368421e-01, 8.97506925e-01, 8.50269719e-01,\n",
              "        0.00000000e+00, 7.63122961e-01],\n",
              "       [1.00000000e+00, 1.05263158e+00, 1.10803324e+00, 1.16635078e+00,\n",
              "        0.00000000e+00, 1.29235543e+00],\n",
              "       [1.00000000e+00, 1.15789474e+00, 1.34072022e+00, 1.55241289e+00,\n",
              "        0.00000000e+00, 2.08135135e+00],\n",
              "       [1.00000000e+00, 1.26315789e+00, 1.59556787e+00, 2.01545415e+00,\n",
              "        0.00000000e+00, 3.21579388e+00],\n",
              "       [1.00000000e+00, 1.36842105e+00, 1.87257618e+00, 2.56247266e+00,\n",
              "        0.00000000e+00, 4.79842526e+00],\n",
              "       [1.00000000e+00, 1.47368421e+00, 2.17174515e+00, 3.20046654e+00,\n",
              "        0.00000000e+00, 6.95059769e+00],\n",
              "       [1.00000000e+00, 1.57894737e+00, 2.49307479e+00, 3.93643388e+00,\n",
              "        0.00000000e+00, 9.81382408e+00],\n",
              "       [1.00000000e+00, 1.68421053e+00, 2.83656510e+00, 4.77737279e+00,\n",
              "        0.00000000e+00, 1.35513289e+01],\n",
              "       [1.00000000e+00, 1.78947368e+00, 3.20221607e+00, 5.73028138e+00,\n",
              "        0.00000000e+00, 1.83495991e+01],\n",
              "       [1.00000000e+00, 1.89473684e+00, 3.59002770e+00, 6.80215775e+00,\n",
              "        0.00000000e+00, 2.44199347e+01],\n",
              "       [1.00000000e+00, 2.00000000e+00, 4.00000000e+00, 8.00000000e+00,\n",
              "        0.00000000e+00, 3.20000000e+01]])"
            ]
          },
          "metadata": {
            "tags": []
          },
          "execution_count": 28
        }
      ]
    },
    {
      "cell_type": "code",
      "metadata": {
        "colab": {
          "base_uri": "https://localhost:8080/"
        },
        "id": "ZZC_Jsxagixo",
        "outputId": "8804921a-685b-4c19-d65e-ca578f6735a1"
      },
      "source": [
        "app = [1,2,3,4]\r\n",
        "bpp = [10] + app\r\n",
        "bpp"
      ],
      "execution_count": null,
      "outputs": [
        {
          "output_type": "execute_result",
          "data": {
            "text/plain": [
              "[10, 1, 2, 3, 4]"
            ]
          },
          "metadata": {
            "tags": []
          },
          "execution_count": 30
        }
      ]
    },
    {
      "cell_type": "code",
      "metadata": {
        "colab": {
          "base_uri": "https://localhost:8080/"
        },
        "id": "6jwDOgitiwvE",
        "outputId": "8ebeb767-15f8-4274-b7a8-61fae3d38eeb"
      },
      "source": [
        "D_train = np.zeros(shape = (N,poly_deg+1))\r\n",
        "D_train[:,0] = 1\r\n",
        "D_train"
      ],
      "execution_count": null,
      "outputs": [
        {
          "output_type": "execute_result",
          "data": {
            "text/plain": [
              "array([[1., 0., 0., 0., 0., 0.],\n",
              "       [1., 0., 0., 0., 0., 0.],\n",
              "       [1., 0., 0., 0., 0., 0.],\n",
              "       [1., 0., 0., 0., 0., 0.],\n",
              "       [1., 0., 0., 0., 0., 0.],\n",
              "       [1., 0., 0., 0., 0., 0.],\n",
              "       [1., 0., 0., 0., 0., 0.],\n",
              "       [1., 0., 0., 0., 0., 0.],\n",
              "       [1., 0., 0., 0., 0., 0.],\n",
              "       [1., 0., 0., 0., 0., 0.],\n",
              "       [1., 0., 0., 0., 0., 0.],\n",
              "       [1., 0., 0., 0., 0., 0.],\n",
              "       [1., 0., 0., 0., 0., 0.],\n",
              "       [1., 0., 0., 0., 0., 0.],\n",
              "       [1., 0., 0., 0., 0., 0.],\n",
              "       [1., 0., 0., 0., 0., 0.],\n",
              "       [1., 0., 0., 0., 0., 0.],\n",
              "       [1., 0., 0., 0., 0., 0.],\n",
              "       [1., 0., 0., 0., 0., 0.],\n",
              "       [1., 0., 0., 0., 0., 0.]])"
            ]
          },
          "metadata": {
            "tags": []
          },
          "execution_count": 34
        }
      ]
    },
    {
      "cell_type": "code",
      "metadata": {
        "id": "RGWY_lgal15g"
      },
      "source": [
        ""
      ],
      "execution_count": null,
      "outputs": []
    }
  ]
}